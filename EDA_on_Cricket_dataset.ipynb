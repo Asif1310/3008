{
  "nbformat": 4,
  "nbformat_minor": 0,
  "metadata": {
    "colab": {
      "name": "EDA on Cricket dataset",
      "provenance": [],
      "collapsed_sections": [],
      "toc_visible": true,
      "authorship_tag": "ABX9TyMkit4DHwEfNEgR0Q1Z/x1u",
      "include_colab_link": true
    },
    "kernelspec": {
      "name": "python3",
      "display_name": "Python 3"
    },
    "language_info": {
      "name": "python"
    }
  },
  "cells": [
    {
      "cell_type": "markdown",
      "metadata": {
        "id": "view-in-github",
        "colab_type": "text"
      },
      "source": [
        "<a href=\"https://colab.research.google.com/github/Asif1310/3008/blob/main/EDA_on_Cricket_dataset.ipynb\" target=\"_parent\"><img src=\"https://colab.research.google.com/assets/colab-badge.svg\" alt=\"Open In Colab\"/></a>"
      ]
    },
    {
      "cell_type": "markdown",
      "source": [
        "# Let us begin our journey towards the center of the cricketing world!"
      ],
      "metadata": {
        "id": "aQ8LIYoUX661"
      }
    },
    {
      "cell_type": "code",
      "execution_count": 1,
      "metadata": {
        "id": "RRH6FyD95IM3"
      },
      "outputs": [],
      "source": [
        "#importing required libraries\n",
        "import pandas as pd\n",
        "import numpy as np\n",
        "import matplotlib.pyplot as plt"
      ]
    },
    {
      "cell_type": "code",
      "source": [
        "df = pd.read_csv(\"All_International_Cricket_Innings2.csv\", parse_dates = ['Start Date']) # To ensure that the start date column is imported with correct datatype"
      ],
      "metadata": {
        "id": "K1y_cqYH533P"
      },
      "execution_count": 2,
      "outputs": []
    },
    {
      "cell_type": "code",
      "source": [
        "df.info()"
      ],
      "metadata": {
        "colab": {
          "base_uri": "https://localhost:8080/"
        },
        "id": "yJoVPZTS55F3",
        "outputId": "b3eaca01-0270-473b-91fc-a140fa6197ed"
      },
      "execution_count": 3,
      "outputs": [
        {
          "output_type": "stream",
          "name": "stdout",
          "text": [
            "<class 'pandas.core.frame.DataFrame'>\n",
            "RangeIndex: 192347 entries, 0 to 192346\n",
            "Data columns (total 13 columns):\n",
            " #   Column      Non-Null Count   Dtype         \n",
            "---  ------      --------------   -----         \n",
            " 0   Unnamed: 0  192347 non-null  int64         \n",
            " 1   Player      192347 non-null  object        \n",
            " 2   Runs        192347 non-null  object        \n",
            " 3   Mins        192347 non-null  object        \n",
            " 4   BF          192347 non-null  object        \n",
            " 5   4s          192347 non-null  object        \n",
            " 6   6s          192347 non-null  object        \n",
            " 7   SR          192347 non-null  object        \n",
            " 8   Inns        192347 non-null  object        \n",
            " 9   Unnamed: 8  0 non-null       float64       \n",
            " 10  Opposition  192347 non-null  object        \n",
            " 11  Ground      192347 non-null  object        \n",
            " 12  Start Date  192347 non-null  datetime64[ns]\n",
            "dtypes: datetime64[ns](1), float64(1), int64(1), object(10)\n",
            "memory usage: 19.1+ MB\n"
          ]
        }
      ]
    },
    {
      "cell_type": "markdown",
      "source": [
        "Columns \"Unnamed: 0\" and \"Unnamed: 8\" do not have any useful information, so let us drop them "
      ],
      "metadata": {
        "id": "8LFaSU54KCXj"
      }
    },
    {
      "cell_type": "code",
      "source": [
        "df.drop(['Unnamed: 8', 'Unnamed: 0'], axis = 1, inplace = True)"
      ],
      "metadata": {
        "id": "R7IGgqNxFkEN"
      },
      "execution_count": 4,
      "outputs": []
    },
    {
      "cell_type": "code",
      "source": [
        "df.head()"
      ],
      "metadata": {
        "colab": {
          "base_uri": "https://localhost:8080/",
          "height": 206
        },
        "id": "_UBqPw1qF7GL",
        "outputId": "a463292f-2fb2-4e20-f1c8-936ab9f4e250"
      },
      "execution_count": 5,
      "outputs": [
        {
          "output_type": "execute_result",
          "data": {
            "text/plain": [
              "               Player Runs Mins  BF 4s 6s     SR Inns      Opposition Ground  \\\n",
              "0     TWM Latham (NZ)    0    5   6  0  0      0    1  Test v England  Leeds   \n",
              "1       WA Young (NZ)   20   57  42  2  0  47.61    1  Test v England  Leeds   \n",
              "2  KS Williamson (NZ)   31   97  64  5  0  48.43    1  Test v England  Leeds   \n",
              "3      DP Conway (NZ)   26  100  62  5  0  41.93    1  Test v England  Leeds   \n",
              "4    HM Nicholls (NZ)   19  137  99  1  0  19.19    1  Test v England  Leeds   \n",
              "\n",
              "  Start Date  \n",
              "0 2022-06-23  \n",
              "1 2022-06-23  \n",
              "2 2022-06-23  \n",
              "3 2022-06-23  \n",
              "4 2022-06-23  "
            ],
            "text/html": [
              "\n",
              "  <div id=\"df-a216658d-5a8c-4c0d-a274-3cc95bd53675\">\n",
              "    <div class=\"colab-df-container\">\n",
              "      <div>\n",
              "<style scoped>\n",
              "    .dataframe tbody tr th:only-of-type {\n",
              "        vertical-align: middle;\n",
              "    }\n",
              "\n",
              "    .dataframe tbody tr th {\n",
              "        vertical-align: top;\n",
              "    }\n",
              "\n",
              "    .dataframe thead th {\n",
              "        text-align: right;\n",
              "    }\n",
              "</style>\n",
              "<table border=\"1\" class=\"dataframe\">\n",
              "  <thead>\n",
              "    <tr style=\"text-align: right;\">\n",
              "      <th></th>\n",
              "      <th>Player</th>\n",
              "      <th>Runs</th>\n",
              "      <th>Mins</th>\n",
              "      <th>BF</th>\n",
              "      <th>4s</th>\n",
              "      <th>6s</th>\n",
              "      <th>SR</th>\n",
              "      <th>Inns</th>\n",
              "      <th>Opposition</th>\n",
              "      <th>Ground</th>\n",
              "      <th>Start Date</th>\n",
              "    </tr>\n",
              "  </thead>\n",
              "  <tbody>\n",
              "    <tr>\n",
              "      <th>0</th>\n",
              "      <td>TWM Latham (NZ)</td>\n",
              "      <td>0</td>\n",
              "      <td>5</td>\n",
              "      <td>6</td>\n",
              "      <td>0</td>\n",
              "      <td>0</td>\n",
              "      <td>0</td>\n",
              "      <td>1</td>\n",
              "      <td>Test v England</td>\n",
              "      <td>Leeds</td>\n",
              "      <td>2022-06-23</td>\n",
              "    </tr>\n",
              "    <tr>\n",
              "      <th>1</th>\n",
              "      <td>WA Young (NZ)</td>\n",
              "      <td>20</td>\n",
              "      <td>57</td>\n",
              "      <td>42</td>\n",
              "      <td>2</td>\n",
              "      <td>0</td>\n",
              "      <td>47.61</td>\n",
              "      <td>1</td>\n",
              "      <td>Test v England</td>\n",
              "      <td>Leeds</td>\n",
              "      <td>2022-06-23</td>\n",
              "    </tr>\n",
              "    <tr>\n",
              "      <th>2</th>\n",
              "      <td>KS Williamson (NZ)</td>\n",
              "      <td>31</td>\n",
              "      <td>97</td>\n",
              "      <td>64</td>\n",
              "      <td>5</td>\n",
              "      <td>0</td>\n",
              "      <td>48.43</td>\n",
              "      <td>1</td>\n",
              "      <td>Test v England</td>\n",
              "      <td>Leeds</td>\n",
              "      <td>2022-06-23</td>\n",
              "    </tr>\n",
              "    <tr>\n",
              "      <th>3</th>\n",
              "      <td>DP Conway (NZ)</td>\n",
              "      <td>26</td>\n",
              "      <td>100</td>\n",
              "      <td>62</td>\n",
              "      <td>5</td>\n",
              "      <td>0</td>\n",
              "      <td>41.93</td>\n",
              "      <td>1</td>\n",
              "      <td>Test v England</td>\n",
              "      <td>Leeds</td>\n",
              "      <td>2022-06-23</td>\n",
              "    </tr>\n",
              "    <tr>\n",
              "      <th>4</th>\n",
              "      <td>HM Nicholls (NZ)</td>\n",
              "      <td>19</td>\n",
              "      <td>137</td>\n",
              "      <td>99</td>\n",
              "      <td>1</td>\n",
              "      <td>0</td>\n",
              "      <td>19.19</td>\n",
              "      <td>1</td>\n",
              "      <td>Test v England</td>\n",
              "      <td>Leeds</td>\n",
              "      <td>2022-06-23</td>\n",
              "    </tr>\n",
              "  </tbody>\n",
              "</table>\n",
              "</div>\n",
              "      <button class=\"colab-df-convert\" onclick=\"convertToInteractive('df-a216658d-5a8c-4c0d-a274-3cc95bd53675')\"\n",
              "              title=\"Convert this dataframe to an interactive table.\"\n",
              "              style=\"display:none;\">\n",
              "        \n",
              "  <svg xmlns=\"http://www.w3.org/2000/svg\" height=\"24px\"viewBox=\"0 0 24 24\"\n",
              "       width=\"24px\">\n",
              "    <path d=\"M0 0h24v24H0V0z\" fill=\"none\"/>\n",
              "    <path d=\"M18.56 5.44l.94 2.06.94-2.06 2.06-.94-2.06-.94-.94-2.06-.94 2.06-2.06.94zm-11 1L8.5 8.5l.94-2.06 2.06-.94-2.06-.94L8.5 2.5l-.94 2.06-2.06.94zm10 10l.94 2.06.94-2.06 2.06-.94-2.06-.94-.94-2.06-.94 2.06-2.06.94z\"/><path d=\"M17.41 7.96l-1.37-1.37c-.4-.4-.92-.59-1.43-.59-.52 0-1.04.2-1.43.59L10.3 9.45l-7.72 7.72c-.78.78-.78 2.05 0 2.83L4 21.41c.39.39.9.59 1.41.59.51 0 1.02-.2 1.41-.59l7.78-7.78 2.81-2.81c.8-.78.8-2.07 0-2.86zM5.41 20L4 18.59l7.72-7.72 1.47 1.35L5.41 20z\"/>\n",
              "  </svg>\n",
              "      </button>\n",
              "      \n",
              "  <style>\n",
              "    .colab-df-container {\n",
              "      display:flex;\n",
              "      flex-wrap:wrap;\n",
              "      gap: 12px;\n",
              "    }\n",
              "\n",
              "    .colab-df-convert {\n",
              "      background-color: #E8F0FE;\n",
              "      border: none;\n",
              "      border-radius: 50%;\n",
              "      cursor: pointer;\n",
              "      display: none;\n",
              "      fill: #1967D2;\n",
              "      height: 32px;\n",
              "      padding: 0 0 0 0;\n",
              "      width: 32px;\n",
              "    }\n",
              "\n",
              "    .colab-df-convert:hover {\n",
              "      background-color: #E2EBFA;\n",
              "      box-shadow: 0px 1px 2px rgba(60, 64, 67, 0.3), 0px 1px 3px 1px rgba(60, 64, 67, 0.15);\n",
              "      fill: #174EA6;\n",
              "    }\n",
              "\n",
              "    [theme=dark] .colab-df-convert {\n",
              "      background-color: #3B4455;\n",
              "      fill: #D2E3FC;\n",
              "    }\n",
              "\n",
              "    [theme=dark] .colab-df-convert:hover {\n",
              "      background-color: #434B5C;\n",
              "      box-shadow: 0px 1px 3px 1px rgba(0, 0, 0, 0.15);\n",
              "      filter: drop-shadow(0px 1px 2px rgba(0, 0, 0, 0.3));\n",
              "      fill: #FFFFFF;\n",
              "    }\n",
              "  </style>\n",
              "\n",
              "      <script>\n",
              "        const buttonEl =\n",
              "          document.querySelector('#df-a216658d-5a8c-4c0d-a274-3cc95bd53675 button.colab-df-convert');\n",
              "        buttonEl.style.display =\n",
              "          google.colab.kernel.accessAllowed ? 'block' : 'none';\n",
              "\n",
              "        async function convertToInteractive(key) {\n",
              "          const element = document.querySelector('#df-a216658d-5a8c-4c0d-a274-3cc95bd53675');\n",
              "          const dataTable =\n",
              "            await google.colab.kernel.invokeFunction('convertToInteractive',\n",
              "                                                     [key], {});\n",
              "          if (!dataTable) return;\n",
              "\n",
              "          const docLinkHtml = 'Like what you see? Visit the ' +\n",
              "            '<a target=\"_blank\" href=https://colab.research.google.com/notebooks/data_table.ipynb>data table notebook</a>'\n",
              "            + ' to learn more about interactive tables.';\n",
              "          element.innerHTML = '';\n",
              "          dataTable['output_type'] = 'display_data';\n",
              "          await google.colab.output.renderOutput(dataTable, element);\n",
              "          const docLink = document.createElement('div');\n",
              "          docLink.innerHTML = docLinkHtml;\n",
              "          element.appendChild(docLink);\n",
              "        }\n",
              "      </script>\n",
              "    </div>\n",
              "  </div>\n",
              "  "
            ]
          },
          "metadata": {},
          "execution_count": 5
        }
      ]
    },
    {
      "cell_type": "markdown",
      "source": [
        "I noticed that the \"Runs\" column has a little asterik to signal that the player is not out in that particular innings. Let us define a new column \"is_out\" to capture this information."
      ],
      "metadata": {
        "id": "rmyrhjddKOqZ"
      }
    },
    {
      "cell_type": "code",
      "source": [
        "df.loc[df['Runs'].str.contains('\\*'), 'is_out'] = False\n",
        "df['is_out'].fillna(True, inplace = True)"
      ],
      "metadata": {
        "id": "GyFDLs7-pwXa"
      },
      "execution_count": 6,
      "outputs": []
    },
    {
      "cell_type": "code",
      "source": [
        "df.info()"
      ],
      "metadata": {
        "colab": {
          "base_uri": "https://localhost:8080/"
        },
        "id": "ibrp3pH-rREZ",
        "outputId": "75ab3b4d-c6a4-42a8-86f3-9e00f915e62f"
      },
      "execution_count": 7,
      "outputs": [
        {
          "output_type": "stream",
          "name": "stdout",
          "text": [
            "<class 'pandas.core.frame.DataFrame'>\n",
            "RangeIndex: 192347 entries, 0 to 192346\n",
            "Data columns (total 12 columns):\n",
            " #   Column      Non-Null Count   Dtype         \n",
            "---  ------      --------------   -----         \n",
            " 0   Player      192347 non-null  object        \n",
            " 1   Runs        192347 non-null  object        \n",
            " 2   Mins        192347 non-null  object        \n",
            " 3   BF          192347 non-null  object        \n",
            " 4   4s          192347 non-null  object        \n",
            " 5   6s          192347 non-null  object        \n",
            " 6   SR          192347 non-null  object        \n",
            " 7   Inns        192347 non-null  object        \n",
            " 8   Opposition  192347 non-null  object        \n",
            " 9   Ground      192347 non-null  object        \n",
            " 10  Start Date  192347 non-null  datetime64[ns]\n",
            " 11  is_out      192347 non-null  bool          \n",
            "dtypes: bool(1), datetime64[ns](1), object(10)\n",
            "memory usage: 16.3+ MB\n"
          ]
        }
      ]
    },
    {
      "cell_type": "markdown",
      "source": [
        "Let us strip all special characters and white spaces from the numeric columns"
      ],
      "metadata": {
        "id": "4ZM_3PpmKfp2"
      }
    },
    {
      "cell_type": "code",
      "source": [
        "cols = ['Runs','Mins','BF','4s','6s','SR','Inns']\n",
        "df[cols] = df[cols].apply(lambda x: x.str.replace(r'[^0-9]+', ''))\n",
        "df[cols] = df[cols].apply(lambda x: x.str.strip())"
      ],
      "metadata": {
        "colab": {
          "base_uri": "https://localhost:8080/"
        },
        "id": "iQqbtO5vI_8M",
        "outputId": "8a66fe01-fe0e-41e8-a696-35b27e6f5f09"
      },
      "execution_count": 8,
      "outputs": [
        {
          "output_type": "stream",
          "name": "stderr",
          "text": [
            "/usr/local/lib/python3.7/dist-packages/ipykernel_launcher.py:2: FutureWarning: The default value of regex will change from True to False in a future version.\n",
            "  \n"
          ]
        }
      ]
    },
    {
      "cell_type": "code",
      "source": [
        "df.shape"
      ],
      "metadata": {
        "colab": {
          "base_uri": "https://localhost:8080/"
        },
        "id": "d-dYHfGnfQDg",
        "outputId": "746792ea-a221-4036-f4d6-3ce071d4096a"
      },
      "execution_count": 9,
      "outputs": [
        {
          "output_type": "execute_result",
          "data": {
            "text/plain": [
              "(192347, 12)"
            ]
          },
          "metadata": {},
          "execution_count": 9
        }
      ]
    },
    {
      "cell_type": "markdown",
      "source": [
        "For some rows, numeric columns consist of blank strings. These are not null values because data is not actually missing. In these cases, those respective players did not get a chance to bat in that innings. Hence, we can safely drop all such rows before converting the numeric values to float datatype.\n",
        "\n",
        "NOTE: We cannot impute zero values for these blank strings because genuine ducks (players dismissed at zero) would get mixed up with this data."
      ],
      "metadata": {
        "id": "NkIg8U8dKpTw"
      }
    },
    {
      "cell_type": "code",
      "source": [
        "for i in cols:\n",
        "  df = df[df[i] != '']\n",
        "  df = df.astype({i :'float64'})"
      ],
      "metadata": {
        "id": "eEvS2VEnKcCv"
      },
      "execution_count": 10,
      "outputs": []
    },
    {
      "cell_type": "code",
      "source": [
        "df.shape"
      ],
      "metadata": {
        "colab": {
          "base_uri": "https://localhost:8080/"
        },
        "id": "vi3q-Vzjfja-",
        "outputId": "0f6d273a-ea4f-47da-ccd5-05cfd1947cec"
      },
      "execution_count": 11,
      "outputs": [
        {
          "output_type": "execute_result",
          "data": {
            "text/plain": [
              "(125309, 12)"
            ]
          },
          "metadata": {},
          "execution_count": 11
        }
      ]
    },
    {
      "cell_type": "code",
      "source": [
        "df.dtypes"
      ],
      "metadata": {
        "colab": {
          "base_uri": "https://localhost:8080/"
        },
        "id": "QFzlX_SlGXWI",
        "outputId": "87ce3891-ceb1-4408-c2bc-7aadd8586a94"
      },
      "execution_count": 12,
      "outputs": [
        {
          "output_type": "execute_result",
          "data": {
            "text/plain": [
              "Player                object\n",
              "Runs                 float64\n",
              "Mins                 float64\n",
              "BF                   float64\n",
              "4s                   float64\n",
              "6s                   float64\n",
              "SR                   float64\n",
              "Inns                 float64\n",
              "Opposition            object\n",
              "Ground                object\n",
              "Start Date    datetime64[ns]\n",
              "is_out                  bool\n",
              "dtype: object"
            ]
          },
          "metadata": {},
          "execution_count": 12
        }
      ]
    },
    {
      "cell_type": "markdown",
      "source": [
        "Data in the player column is a blend of a player's name and the nationality which is enclosed in the brackets. Let us split these into new features that separate the name and nationality."
      ],
      "metadata": {
        "id": "GZvpl0HHLiwG"
      }
    },
    {
      "cell_type": "code",
      "source": [
        "df_new = df['Player'].str.split('(', expand = True)\n",
        "df_new.head()"
      ],
      "metadata": {
        "colab": {
          "base_uri": "https://localhost:8080/",
          "height": 206
        },
        "id": "aFM5iPJZMfoK",
        "outputId": "aececc4d-a30b-4188-b380-5a34c9f31386"
      },
      "execution_count": 13,
      "outputs": [
        {
          "output_type": "execute_result",
          "data": {
            "text/plain": [
              "                0    1     2\n",
              "0     TWM Latham   NZ)  None\n",
              "1       WA Young   NZ)  None\n",
              "2  KS Williamson   NZ)  None\n",
              "3      DP Conway   NZ)  None\n",
              "4    HM Nicholls   NZ)  None"
            ],
            "text/html": [
              "\n",
              "  <div id=\"df-db2fc6e7-ce1b-4912-b5c4-fe82c4dc1adb\">\n",
              "    <div class=\"colab-df-container\">\n",
              "      <div>\n",
              "<style scoped>\n",
              "    .dataframe tbody tr th:only-of-type {\n",
              "        vertical-align: middle;\n",
              "    }\n",
              "\n",
              "    .dataframe tbody tr th {\n",
              "        vertical-align: top;\n",
              "    }\n",
              "\n",
              "    .dataframe thead th {\n",
              "        text-align: right;\n",
              "    }\n",
              "</style>\n",
              "<table border=\"1\" class=\"dataframe\">\n",
              "  <thead>\n",
              "    <tr style=\"text-align: right;\">\n",
              "      <th></th>\n",
              "      <th>0</th>\n",
              "      <th>1</th>\n",
              "      <th>2</th>\n",
              "    </tr>\n",
              "  </thead>\n",
              "  <tbody>\n",
              "    <tr>\n",
              "      <th>0</th>\n",
              "      <td>TWM Latham</td>\n",
              "      <td>NZ)</td>\n",
              "      <td>None</td>\n",
              "    </tr>\n",
              "    <tr>\n",
              "      <th>1</th>\n",
              "      <td>WA Young</td>\n",
              "      <td>NZ)</td>\n",
              "      <td>None</td>\n",
              "    </tr>\n",
              "    <tr>\n",
              "      <th>2</th>\n",
              "      <td>KS Williamson</td>\n",
              "      <td>NZ)</td>\n",
              "      <td>None</td>\n",
              "    </tr>\n",
              "    <tr>\n",
              "      <th>3</th>\n",
              "      <td>DP Conway</td>\n",
              "      <td>NZ)</td>\n",
              "      <td>None</td>\n",
              "    </tr>\n",
              "    <tr>\n",
              "      <th>4</th>\n",
              "      <td>HM Nicholls</td>\n",
              "      <td>NZ)</td>\n",
              "      <td>None</td>\n",
              "    </tr>\n",
              "  </tbody>\n",
              "</table>\n",
              "</div>\n",
              "      <button class=\"colab-df-convert\" onclick=\"convertToInteractive('df-db2fc6e7-ce1b-4912-b5c4-fe82c4dc1adb')\"\n",
              "              title=\"Convert this dataframe to an interactive table.\"\n",
              "              style=\"display:none;\">\n",
              "        \n",
              "  <svg xmlns=\"http://www.w3.org/2000/svg\" height=\"24px\"viewBox=\"0 0 24 24\"\n",
              "       width=\"24px\">\n",
              "    <path d=\"M0 0h24v24H0V0z\" fill=\"none\"/>\n",
              "    <path d=\"M18.56 5.44l.94 2.06.94-2.06 2.06-.94-2.06-.94-.94-2.06-.94 2.06-2.06.94zm-11 1L8.5 8.5l.94-2.06 2.06-.94-2.06-.94L8.5 2.5l-.94 2.06-2.06.94zm10 10l.94 2.06.94-2.06 2.06-.94-2.06-.94-.94-2.06-.94 2.06-2.06.94z\"/><path d=\"M17.41 7.96l-1.37-1.37c-.4-.4-.92-.59-1.43-.59-.52 0-1.04.2-1.43.59L10.3 9.45l-7.72 7.72c-.78.78-.78 2.05 0 2.83L4 21.41c.39.39.9.59 1.41.59.51 0 1.02-.2 1.41-.59l7.78-7.78 2.81-2.81c.8-.78.8-2.07 0-2.86zM5.41 20L4 18.59l7.72-7.72 1.47 1.35L5.41 20z\"/>\n",
              "  </svg>\n",
              "      </button>\n",
              "      \n",
              "  <style>\n",
              "    .colab-df-container {\n",
              "      display:flex;\n",
              "      flex-wrap:wrap;\n",
              "      gap: 12px;\n",
              "    }\n",
              "\n",
              "    .colab-df-convert {\n",
              "      background-color: #E8F0FE;\n",
              "      border: none;\n",
              "      border-radius: 50%;\n",
              "      cursor: pointer;\n",
              "      display: none;\n",
              "      fill: #1967D2;\n",
              "      height: 32px;\n",
              "      padding: 0 0 0 0;\n",
              "      width: 32px;\n",
              "    }\n",
              "\n",
              "    .colab-df-convert:hover {\n",
              "      background-color: #E2EBFA;\n",
              "      box-shadow: 0px 1px 2px rgba(60, 64, 67, 0.3), 0px 1px 3px 1px rgba(60, 64, 67, 0.15);\n",
              "      fill: #174EA6;\n",
              "    }\n",
              "\n",
              "    [theme=dark] .colab-df-convert {\n",
              "      background-color: #3B4455;\n",
              "      fill: #D2E3FC;\n",
              "    }\n",
              "\n",
              "    [theme=dark] .colab-df-convert:hover {\n",
              "      background-color: #434B5C;\n",
              "      box-shadow: 0px 1px 3px 1px rgba(0, 0, 0, 0.15);\n",
              "      filter: drop-shadow(0px 1px 2px rgba(0, 0, 0, 0.3));\n",
              "      fill: #FFFFFF;\n",
              "    }\n",
              "  </style>\n",
              "\n",
              "      <script>\n",
              "        const buttonEl =\n",
              "          document.querySelector('#df-db2fc6e7-ce1b-4912-b5c4-fe82c4dc1adb button.colab-df-convert');\n",
              "        buttonEl.style.display =\n",
              "          google.colab.kernel.accessAllowed ? 'block' : 'none';\n",
              "\n",
              "        async function convertToInteractive(key) {\n",
              "          const element = document.querySelector('#df-db2fc6e7-ce1b-4912-b5c4-fe82c4dc1adb');\n",
              "          const dataTable =\n",
              "            await google.colab.kernel.invokeFunction('convertToInteractive',\n",
              "                                                     [key], {});\n",
              "          if (!dataTable) return;\n",
              "\n",
              "          const docLinkHtml = 'Like what you see? Visit the ' +\n",
              "            '<a target=\"_blank\" href=https://colab.research.google.com/notebooks/data_table.ipynb>data table notebook</a>'\n",
              "            + ' to learn more about interactive tables.';\n",
              "          element.innerHTML = '';\n",
              "          dataTable['output_type'] = 'display_data';\n",
              "          await google.colab.output.renderOutput(dataTable, element);\n",
              "          const docLink = document.createElement('div');\n",
              "          docLink.innerHTML = docLinkHtml;\n",
              "          element.appendChild(docLink);\n",
              "        }\n",
              "      </script>\n",
              "    </div>\n",
              "  </div>\n",
              "  "
            ]
          },
          "metadata": {},
          "execution_count": 13
        }
      ]
    },
    {
      "cell_type": "code",
      "source": [
        "df_new[1] = df_new[1].str.replace(')','')\n",
        "df_new.head()"
      ],
      "metadata": {
        "colab": {
          "base_uri": "https://localhost:8080/",
          "height": 261
        },
        "id": "SKqQDYDxNy8X",
        "outputId": "f2710dca-308e-4fae-f4dd-00ab244ce681"
      },
      "execution_count": 14,
      "outputs": [
        {
          "output_type": "stream",
          "name": "stderr",
          "text": [
            "/usr/local/lib/python3.7/dist-packages/ipykernel_launcher.py:1: FutureWarning: The default value of regex will change from True to False in a future version. In addition, single character regular expressions will *not* be treated as literal strings when regex=True.\n",
            "  \"\"\"Entry point for launching an IPython kernel.\n"
          ]
        },
        {
          "output_type": "execute_result",
          "data": {
            "text/plain": [
              "                0   1     2\n",
              "0     TWM Latham   NZ  None\n",
              "1       WA Young   NZ  None\n",
              "2  KS Williamson   NZ  None\n",
              "3      DP Conway   NZ  None\n",
              "4    HM Nicholls   NZ  None"
            ],
            "text/html": [
              "\n",
              "  <div id=\"df-37e01c20-3311-4375-a1f8-b8441f218d22\">\n",
              "    <div class=\"colab-df-container\">\n",
              "      <div>\n",
              "<style scoped>\n",
              "    .dataframe tbody tr th:only-of-type {\n",
              "        vertical-align: middle;\n",
              "    }\n",
              "\n",
              "    .dataframe tbody tr th {\n",
              "        vertical-align: top;\n",
              "    }\n",
              "\n",
              "    .dataframe thead th {\n",
              "        text-align: right;\n",
              "    }\n",
              "</style>\n",
              "<table border=\"1\" class=\"dataframe\">\n",
              "  <thead>\n",
              "    <tr style=\"text-align: right;\">\n",
              "      <th></th>\n",
              "      <th>0</th>\n",
              "      <th>1</th>\n",
              "      <th>2</th>\n",
              "    </tr>\n",
              "  </thead>\n",
              "  <tbody>\n",
              "    <tr>\n",
              "      <th>0</th>\n",
              "      <td>TWM Latham</td>\n",
              "      <td>NZ</td>\n",
              "      <td>None</td>\n",
              "    </tr>\n",
              "    <tr>\n",
              "      <th>1</th>\n",
              "      <td>WA Young</td>\n",
              "      <td>NZ</td>\n",
              "      <td>None</td>\n",
              "    </tr>\n",
              "    <tr>\n",
              "      <th>2</th>\n",
              "      <td>KS Williamson</td>\n",
              "      <td>NZ</td>\n",
              "      <td>None</td>\n",
              "    </tr>\n",
              "    <tr>\n",
              "      <th>3</th>\n",
              "      <td>DP Conway</td>\n",
              "      <td>NZ</td>\n",
              "      <td>None</td>\n",
              "    </tr>\n",
              "    <tr>\n",
              "      <th>4</th>\n",
              "      <td>HM Nicholls</td>\n",
              "      <td>NZ</td>\n",
              "      <td>None</td>\n",
              "    </tr>\n",
              "  </tbody>\n",
              "</table>\n",
              "</div>\n",
              "      <button class=\"colab-df-convert\" onclick=\"convertToInteractive('df-37e01c20-3311-4375-a1f8-b8441f218d22')\"\n",
              "              title=\"Convert this dataframe to an interactive table.\"\n",
              "              style=\"display:none;\">\n",
              "        \n",
              "  <svg xmlns=\"http://www.w3.org/2000/svg\" height=\"24px\"viewBox=\"0 0 24 24\"\n",
              "       width=\"24px\">\n",
              "    <path d=\"M0 0h24v24H0V0z\" fill=\"none\"/>\n",
              "    <path d=\"M18.56 5.44l.94 2.06.94-2.06 2.06-.94-2.06-.94-.94-2.06-.94 2.06-2.06.94zm-11 1L8.5 8.5l.94-2.06 2.06-.94-2.06-.94L8.5 2.5l-.94 2.06-2.06.94zm10 10l.94 2.06.94-2.06 2.06-.94-2.06-.94-.94-2.06-.94 2.06-2.06.94z\"/><path d=\"M17.41 7.96l-1.37-1.37c-.4-.4-.92-.59-1.43-.59-.52 0-1.04.2-1.43.59L10.3 9.45l-7.72 7.72c-.78.78-.78 2.05 0 2.83L4 21.41c.39.39.9.59 1.41.59.51 0 1.02-.2 1.41-.59l7.78-7.78 2.81-2.81c.8-.78.8-2.07 0-2.86zM5.41 20L4 18.59l7.72-7.72 1.47 1.35L5.41 20z\"/>\n",
              "  </svg>\n",
              "      </button>\n",
              "      \n",
              "  <style>\n",
              "    .colab-df-container {\n",
              "      display:flex;\n",
              "      flex-wrap:wrap;\n",
              "      gap: 12px;\n",
              "    }\n",
              "\n",
              "    .colab-df-convert {\n",
              "      background-color: #E8F0FE;\n",
              "      border: none;\n",
              "      border-radius: 50%;\n",
              "      cursor: pointer;\n",
              "      display: none;\n",
              "      fill: #1967D2;\n",
              "      height: 32px;\n",
              "      padding: 0 0 0 0;\n",
              "      width: 32px;\n",
              "    }\n",
              "\n",
              "    .colab-df-convert:hover {\n",
              "      background-color: #E2EBFA;\n",
              "      box-shadow: 0px 1px 2px rgba(60, 64, 67, 0.3), 0px 1px 3px 1px rgba(60, 64, 67, 0.15);\n",
              "      fill: #174EA6;\n",
              "    }\n",
              "\n",
              "    [theme=dark] .colab-df-convert {\n",
              "      background-color: #3B4455;\n",
              "      fill: #D2E3FC;\n",
              "    }\n",
              "\n",
              "    [theme=dark] .colab-df-convert:hover {\n",
              "      background-color: #434B5C;\n",
              "      box-shadow: 0px 1px 3px 1px rgba(0, 0, 0, 0.15);\n",
              "      filter: drop-shadow(0px 1px 2px rgba(0, 0, 0, 0.3));\n",
              "      fill: #FFFFFF;\n",
              "    }\n",
              "  </style>\n",
              "\n",
              "      <script>\n",
              "        const buttonEl =\n",
              "          document.querySelector('#df-37e01c20-3311-4375-a1f8-b8441f218d22 button.colab-df-convert');\n",
              "        buttonEl.style.display =\n",
              "          google.colab.kernel.accessAllowed ? 'block' : 'none';\n",
              "\n",
              "        async function convertToInteractive(key) {\n",
              "          const element = document.querySelector('#df-37e01c20-3311-4375-a1f8-b8441f218d22');\n",
              "          const dataTable =\n",
              "            await google.colab.kernel.invokeFunction('convertToInteractive',\n",
              "                                                     [key], {});\n",
              "          if (!dataTable) return;\n",
              "\n",
              "          const docLinkHtml = 'Like what you see? Visit the ' +\n",
              "            '<a target=\"_blank\" href=https://colab.research.google.com/notebooks/data_table.ipynb>data table notebook</a>'\n",
              "            + ' to learn more about interactive tables.';\n",
              "          element.innerHTML = '';\n",
              "          dataTable['output_type'] = 'display_data';\n",
              "          await google.colab.output.renderOutput(dataTable, element);\n",
              "          const docLink = document.createElement('div');\n",
              "          docLink.innerHTML = docLinkHtml;\n",
              "          element.appendChild(docLink);\n",
              "        }\n",
              "      </script>\n",
              "    </div>\n",
              "  </div>\n",
              "  "
            ]
          },
          "metadata": {},
          "execution_count": 14
        }
      ]
    },
    {
      "cell_type": "code",
      "source": [
        "df['Name'] = df_new[0].str.strip()\n",
        "df['Nation'] = df_new[1].str.strip()\n",
        "df.drop(['Player'], axis = 1, inplace = True) # dropping Player column because we already appended Name and Nation columns to the dataframe which makes the data in Player column redundant.\n",
        "df.head()"
      ],
      "metadata": {
        "colab": {
          "base_uri": "https://localhost:8080/",
          "height": 206
        },
        "id": "MvseV_-YOBWD",
        "outputId": "e4700a1c-ba15-4d11-f83a-717146342996"
      },
      "execution_count": 15,
      "outputs": [
        {
          "output_type": "execute_result",
          "data": {
            "text/plain": [
              "   Runs   Mins    BF   4s   6s      SR  Inns      Opposition Ground  \\\n",
              "0   0.0    5.0   6.0  0.0  0.0     0.0   1.0  Test v England  Leeds   \n",
              "1  20.0   57.0  42.0  2.0  0.0  4761.0   1.0  Test v England  Leeds   \n",
              "2  31.0   97.0  64.0  5.0  0.0  4843.0   1.0  Test v England  Leeds   \n",
              "3  26.0  100.0  62.0  5.0  0.0  4193.0   1.0  Test v England  Leeds   \n",
              "4  19.0  137.0  99.0  1.0  0.0  1919.0   1.0  Test v England  Leeds   \n",
              "\n",
              "  Start Date  is_out           Name Nation  \n",
              "0 2022-06-23    True     TWM Latham     NZ  \n",
              "1 2022-06-23    True       WA Young     NZ  \n",
              "2 2022-06-23    True  KS Williamson     NZ  \n",
              "3 2022-06-23    True      DP Conway     NZ  \n",
              "4 2022-06-23    True    HM Nicholls     NZ  "
            ],
            "text/html": [
              "\n",
              "  <div id=\"df-a0984401-9255-4d24-a64c-19061fef75e8\">\n",
              "    <div class=\"colab-df-container\">\n",
              "      <div>\n",
              "<style scoped>\n",
              "    .dataframe tbody tr th:only-of-type {\n",
              "        vertical-align: middle;\n",
              "    }\n",
              "\n",
              "    .dataframe tbody tr th {\n",
              "        vertical-align: top;\n",
              "    }\n",
              "\n",
              "    .dataframe thead th {\n",
              "        text-align: right;\n",
              "    }\n",
              "</style>\n",
              "<table border=\"1\" class=\"dataframe\">\n",
              "  <thead>\n",
              "    <tr style=\"text-align: right;\">\n",
              "      <th></th>\n",
              "      <th>Runs</th>\n",
              "      <th>Mins</th>\n",
              "      <th>BF</th>\n",
              "      <th>4s</th>\n",
              "      <th>6s</th>\n",
              "      <th>SR</th>\n",
              "      <th>Inns</th>\n",
              "      <th>Opposition</th>\n",
              "      <th>Ground</th>\n",
              "      <th>Start Date</th>\n",
              "      <th>is_out</th>\n",
              "      <th>Name</th>\n",
              "      <th>Nation</th>\n",
              "    </tr>\n",
              "  </thead>\n",
              "  <tbody>\n",
              "    <tr>\n",
              "      <th>0</th>\n",
              "      <td>0.0</td>\n",
              "      <td>5.0</td>\n",
              "      <td>6.0</td>\n",
              "      <td>0.0</td>\n",
              "      <td>0.0</td>\n",
              "      <td>0.0</td>\n",
              "      <td>1.0</td>\n",
              "      <td>Test v England</td>\n",
              "      <td>Leeds</td>\n",
              "      <td>2022-06-23</td>\n",
              "      <td>True</td>\n",
              "      <td>TWM Latham</td>\n",
              "      <td>NZ</td>\n",
              "    </tr>\n",
              "    <tr>\n",
              "      <th>1</th>\n",
              "      <td>20.0</td>\n",
              "      <td>57.0</td>\n",
              "      <td>42.0</td>\n",
              "      <td>2.0</td>\n",
              "      <td>0.0</td>\n",
              "      <td>4761.0</td>\n",
              "      <td>1.0</td>\n",
              "      <td>Test v England</td>\n",
              "      <td>Leeds</td>\n",
              "      <td>2022-06-23</td>\n",
              "      <td>True</td>\n",
              "      <td>WA Young</td>\n",
              "      <td>NZ</td>\n",
              "    </tr>\n",
              "    <tr>\n",
              "      <th>2</th>\n",
              "      <td>31.0</td>\n",
              "      <td>97.0</td>\n",
              "      <td>64.0</td>\n",
              "      <td>5.0</td>\n",
              "      <td>0.0</td>\n",
              "      <td>4843.0</td>\n",
              "      <td>1.0</td>\n",
              "      <td>Test v England</td>\n",
              "      <td>Leeds</td>\n",
              "      <td>2022-06-23</td>\n",
              "      <td>True</td>\n",
              "      <td>KS Williamson</td>\n",
              "      <td>NZ</td>\n",
              "    </tr>\n",
              "    <tr>\n",
              "      <th>3</th>\n",
              "      <td>26.0</td>\n",
              "      <td>100.0</td>\n",
              "      <td>62.0</td>\n",
              "      <td>5.0</td>\n",
              "      <td>0.0</td>\n",
              "      <td>4193.0</td>\n",
              "      <td>1.0</td>\n",
              "      <td>Test v England</td>\n",
              "      <td>Leeds</td>\n",
              "      <td>2022-06-23</td>\n",
              "      <td>True</td>\n",
              "      <td>DP Conway</td>\n",
              "      <td>NZ</td>\n",
              "    </tr>\n",
              "    <tr>\n",
              "      <th>4</th>\n",
              "      <td>19.0</td>\n",
              "      <td>137.0</td>\n",
              "      <td>99.0</td>\n",
              "      <td>1.0</td>\n",
              "      <td>0.0</td>\n",
              "      <td>1919.0</td>\n",
              "      <td>1.0</td>\n",
              "      <td>Test v England</td>\n",
              "      <td>Leeds</td>\n",
              "      <td>2022-06-23</td>\n",
              "      <td>True</td>\n",
              "      <td>HM Nicholls</td>\n",
              "      <td>NZ</td>\n",
              "    </tr>\n",
              "  </tbody>\n",
              "</table>\n",
              "</div>\n",
              "      <button class=\"colab-df-convert\" onclick=\"convertToInteractive('df-a0984401-9255-4d24-a64c-19061fef75e8')\"\n",
              "              title=\"Convert this dataframe to an interactive table.\"\n",
              "              style=\"display:none;\">\n",
              "        \n",
              "  <svg xmlns=\"http://www.w3.org/2000/svg\" height=\"24px\"viewBox=\"0 0 24 24\"\n",
              "       width=\"24px\">\n",
              "    <path d=\"M0 0h24v24H0V0z\" fill=\"none\"/>\n",
              "    <path d=\"M18.56 5.44l.94 2.06.94-2.06 2.06-.94-2.06-.94-.94-2.06-.94 2.06-2.06.94zm-11 1L8.5 8.5l.94-2.06 2.06-.94-2.06-.94L8.5 2.5l-.94 2.06-2.06.94zm10 10l.94 2.06.94-2.06 2.06-.94-2.06-.94-.94-2.06-.94 2.06-2.06.94z\"/><path d=\"M17.41 7.96l-1.37-1.37c-.4-.4-.92-.59-1.43-.59-.52 0-1.04.2-1.43.59L10.3 9.45l-7.72 7.72c-.78.78-.78 2.05 0 2.83L4 21.41c.39.39.9.59 1.41.59.51 0 1.02-.2 1.41-.59l7.78-7.78 2.81-2.81c.8-.78.8-2.07 0-2.86zM5.41 20L4 18.59l7.72-7.72 1.47 1.35L5.41 20z\"/>\n",
              "  </svg>\n",
              "      </button>\n",
              "      \n",
              "  <style>\n",
              "    .colab-df-container {\n",
              "      display:flex;\n",
              "      flex-wrap:wrap;\n",
              "      gap: 12px;\n",
              "    }\n",
              "\n",
              "    .colab-df-convert {\n",
              "      background-color: #E8F0FE;\n",
              "      border: none;\n",
              "      border-radius: 50%;\n",
              "      cursor: pointer;\n",
              "      display: none;\n",
              "      fill: #1967D2;\n",
              "      height: 32px;\n",
              "      padding: 0 0 0 0;\n",
              "      width: 32px;\n",
              "    }\n",
              "\n",
              "    .colab-df-convert:hover {\n",
              "      background-color: #E2EBFA;\n",
              "      box-shadow: 0px 1px 2px rgba(60, 64, 67, 0.3), 0px 1px 3px 1px rgba(60, 64, 67, 0.15);\n",
              "      fill: #174EA6;\n",
              "    }\n",
              "\n",
              "    [theme=dark] .colab-df-convert {\n",
              "      background-color: #3B4455;\n",
              "      fill: #D2E3FC;\n",
              "    }\n",
              "\n",
              "    [theme=dark] .colab-df-convert:hover {\n",
              "      background-color: #434B5C;\n",
              "      box-shadow: 0px 1px 3px 1px rgba(0, 0, 0, 0.15);\n",
              "      filter: drop-shadow(0px 1px 2px rgba(0, 0, 0, 0.3));\n",
              "      fill: #FFFFFF;\n",
              "    }\n",
              "  </style>\n",
              "\n",
              "      <script>\n",
              "        const buttonEl =\n",
              "          document.querySelector('#df-a0984401-9255-4d24-a64c-19061fef75e8 button.colab-df-convert');\n",
              "        buttonEl.style.display =\n",
              "          google.colab.kernel.accessAllowed ? 'block' : 'none';\n",
              "\n",
              "        async function convertToInteractive(key) {\n",
              "          const element = document.querySelector('#df-a0984401-9255-4d24-a64c-19061fef75e8');\n",
              "          const dataTable =\n",
              "            await google.colab.kernel.invokeFunction('convertToInteractive',\n",
              "                                                     [key], {});\n",
              "          if (!dataTable) return;\n",
              "\n",
              "          const docLinkHtml = 'Like what you see? Visit the ' +\n",
              "            '<a target=\"_blank\" href=https://colab.research.google.com/notebooks/data_table.ipynb>data table notebook</a>'\n",
              "            + ' to learn more about interactive tables.';\n",
              "          element.innerHTML = '';\n",
              "          dataTable['output_type'] = 'display_data';\n",
              "          await google.colab.output.renderOutput(dataTable, element);\n",
              "          const docLink = document.createElement('div');\n",
              "          docLink.innerHTML = docLinkHtml;\n",
              "          element.appendChild(docLink);\n",
              "        }\n",
              "      </script>\n",
              "    </div>\n",
              "  </div>\n",
              "  "
            ]
          },
          "metadata": {},
          "execution_count": 15
        }
      ]
    },
    {
      "cell_type": "markdown",
      "source": [
        "# The grit and patience of Brian Lara"
      ],
      "metadata": {
        "id": "drZy2loiYPGc"
      }
    },
    {
      "cell_type": "markdown",
      "source": [
        "Before diving in, one thing I can tell even in my sleep is the maximum individual score ever scored in a cricket innings. It is Brian Lara's classic 400 against England. Let us confirm if this dataset contains that record."
      ],
      "metadata": {
        "id": "NRe_JI1CMFI7"
      }
    },
    {
      "cell_type": "code",
      "source": [
        "df[df['Runs'] == df['Runs'].max()].head()"
      ],
      "metadata": {
        "colab": {
          "base_uri": "https://localhost:8080/",
          "height": 81
        },
        "id": "-pZ794Abe_GY",
        "outputId": "e33a1a35-ed46-49c9-f5c5-bb0cabbd3111"
      },
      "execution_count": 16,
      "outputs": [
        {
          "output_type": "execute_result",
          "data": {
            "text/plain": [
              "         Runs   Mins     BF    4s   6s      SR  Inns      Opposition  \\\n",
              "116856  400.0  778.0  582.0  43.0  4.0  6872.0   1.0  Test v England   \n",
              "\n",
              "           Ground Start Date  is_out     Name Nation  \n",
              "116856  St John's 2004-04-10   False  BC Lara     WI  "
            ],
            "text/html": [
              "\n",
              "  <div id=\"df-5835030e-71df-462c-b078-a6ba97d4767e\">\n",
              "    <div class=\"colab-df-container\">\n",
              "      <div>\n",
              "<style scoped>\n",
              "    .dataframe tbody tr th:only-of-type {\n",
              "        vertical-align: middle;\n",
              "    }\n",
              "\n",
              "    .dataframe tbody tr th {\n",
              "        vertical-align: top;\n",
              "    }\n",
              "\n",
              "    .dataframe thead th {\n",
              "        text-align: right;\n",
              "    }\n",
              "</style>\n",
              "<table border=\"1\" class=\"dataframe\">\n",
              "  <thead>\n",
              "    <tr style=\"text-align: right;\">\n",
              "      <th></th>\n",
              "      <th>Runs</th>\n",
              "      <th>Mins</th>\n",
              "      <th>BF</th>\n",
              "      <th>4s</th>\n",
              "      <th>6s</th>\n",
              "      <th>SR</th>\n",
              "      <th>Inns</th>\n",
              "      <th>Opposition</th>\n",
              "      <th>Ground</th>\n",
              "      <th>Start Date</th>\n",
              "      <th>is_out</th>\n",
              "      <th>Name</th>\n",
              "      <th>Nation</th>\n",
              "    </tr>\n",
              "  </thead>\n",
              "  <tbody>\n",
              "    <tr>\n",
              "      <th>116856</th>\n",
              "      <td>400.0</td>\n",
              "      <td>778.0</td>\n",
              "      <td>582.0</td>\n",
              "      <td>43.0</td>\n",
              "      <td>4.0</td>\n",
              "      <td>6872.0</td>\n",
              "      <td>1.0</td>\n",
              "      <td>Test v England</td>\n",
              "      <td>St John's</td>\n",
              "      <td>2004-04-10</td>\n",
              "      <td>False</td>\n",
              "      <td>BC Lara</td>\n",
              "      <td>WI</td>\n",
              "    </tr>\n",
              "  </tbody>\n",
              "</table>\n",
              "</div>\n",
              "      <button class=\"colab-df-convert\" onclick=\"convertToInteractive('df-5835030e-71df-462c-b078-a6ba97d4767e')\"\n",
              "              title=\"Convert this dataframe to an interactive table.\"\n",
              "              style=\"display:none;\">\n",
              "        \n",
              "  <svg xmlns=\"http://www.w3.org/2000/svg\" height=\"24px\"viewBox=\"0 0 24 24\"\n",
              "       width=\"24px\">\n",
              "    <path d=\"M0 0h24v24H0V0z\" fill=\"none\"/>\n",
              "    <path d=\"M18.56 5.44l.94 2.06.94-2.06 2.06-.94-2.06-.94-.94-2.06-.94 2.06-2.06.94zm-11 1L8.5 8.5l.94-2.06 2.06-.94-2.06-.94L8.5 2.5l-.94 2.06-2.06.94zm10 10l.94 2.06.94-2.06 2.06-.94-2.06-.94-.94-2.06-.94 2.06-2.06.94z\"/><path d=\"M17.41 7.96l-1.37-1.37c-.4-.4-.92-.59-1.43-.59-.52 0-1.04.2-1.43.59L10.3 9.45l-7.72 7.72c-.78.78-.78 2.05 0 2.83L4 21.41c.39.39.9.59 1.41.59.51 0 1.02-.2 1.41-.59l7.78-7.78 2.81-2.81c.8-.78.8-2.07 0-2.86zM5.41 20L4 18.59l7.72-7.72 1.47 1.35L5.41 20z\"/>\n",
              "  </svg>\n",
              "      </button>\n",
              "      \n",
              "  <style>\n",
              "    .colab-df-container {\n",
              "      display:flex;\n",
              "      flex-wrap:wrap;\n",
              "      gap: 12px;\n",
              "    }\n",
              "\n",
              "    .colab-df-convert {\n",
              "      background-color: #E8F0FE;\n",
              "      border: none;\n",
              "      border-radius: 50%;\n",
              "      cursor: pointer;\n",
              "      display: none;\n",
              "      fill: #1967D2;\n",
              "      height: 32px;\n",
              "      padding: 0 0 0 0;\n",
              "      width: 32px;\n",
              "    }\n",
              "\n",
              "    .colab-df-convert:hover {\n",
              "      background-color: #E2EBFA;\n",
              "      box-shadow: 0px 1px 2px rgba(60, 64, 67, 0.3), 0px 1px 3px 1px rgba(60, 64, 67, 0.15);\n",
              "      fill: #174EA6;\n",
              "    }\n",
              "\n",
              "    [theme=dark] .colab-df-convert {\n",
              "      background-color: #3B4455;\n",
              "      fill: #D2E3FC;\n",
              "    }\n",
              "\n",
              "    [theme=dark] .colab-df-convert:hover {\n",
              "      background-color: #434B5C;\n",
              "      box-shadow: 0px 1px 3px 1px rgba(0, 0, 0, 0.15);\n",
              "      filter: drop-shadow(0px 1px 2px rgba(0, 0, 0, 0.3));\n",
              "      fill: #FFFFFF;\n",
              "    }\n",
              "  </style>\n",
              "\n",
              "      <script>\n",
              "        const buttonEl =\n",
              "          document.querySelector('#df-5835030e-71df-462c-b078-a6ba97d4767e button.colab-df-convert');\n",
              "        buttonEl.style.display =\n",
              "          google.colab.kernel.accessAllowed ? 'block' : 'none';\n",
              "\n",
              "        async function convertToInteractive(key) {\n",
              "          const element = document.querySelector('#df-5835030e-71df-462c-b078-a6ba97d4767e');\n",
              "          const dataTable =\n",
              "            await google.colab.kernel.invokeFunction('convertToInteractive',\n",
              "                                                     [key], {});\n",
              "          if (!dataTable) return;\n",
              "\n",
              "          const docLinkHtml = 'Like what you see? Visit the ' +\n",
              "            '<a target=\"_blank\" href=https://colab.research.google.com/notebooks/data_table.ipynb>data table notebook</a>'\n",
              "            + ' to learn more about interactive tables.';\n",
              "          element.innerHTML = '';\n",
              "          dataTable['output_type'] = 'display_data';\n",
              "          await google.colab.output.renderOutput(dataTable, element);\n",
              "          const docLink = document.createElement('div');\n",
              "          docLink.innerHTML = docLinkHtml;\n",
              "          element.appendChild(docLink);\n",
              "        }\n",
              "      </script>\n",
              "    </div>\n",
              "  </div>\n",
              "  "
            ]
          },
          "metadata": {},
          "execution_count": 16
        }
      ]
    },
    {
      "cell_type": "markdown",
      "source": [
        "Lara stayed in crease for 778 minutes (that's roughly 13 hrs). That's an enormous display of patience from one of the greatest players in Cricket. Let us see if anyone else crossed this 13 hr threshold, I am curious to find out if they all came closer to Brian Lara's score!"
      ],
      "metadata": {
        "id": "XVn24y77MgrE"
      }
    },
    {
      "cell_type": "code",
      "source": [
        "df[df['Mins'] > 778.0].head()"
      ],
      "metadata": {
        "colab": {
          "base_uri": "https://localhost:8080/",
          "height": 175
        },
        "id": "-zKuOBIkgHjN",
        "outputId": "9765784c-d497-4b36-e4d0-63072b4b590a"
      },
      "execution_count": 17,
      "outputs": [
        {
          "output_type": "execute_result",
          "data": {
            "text/plain": [
              "         Runs   Mins     BF    4s   6s      SR  Inns       Opposition  \\\n",
              "52327   263.0  836.0  528.0  18.0  0.0  4981.0   2.0  Test v Pakistan   \n",
              "71128   311.0  790.0  529.0  35.0  0.0  5879.0   2.0   Test v England   \n",
              "138348  275.0  878.0  642.0  26.0  0.0  4283.0   3.0   Test v England   \n",
              "149392  340.0  799.0  578.0  36.0  2.0  5882.0   2.0     Test v India   \n",
              "\n",
              "               Ground Start Date  is_out           Name Nation  \n",
              "52327       Abu Dhabi 2015-10-13    True        AN Cook    ENG  \n",
              "71128        The Oval 2012-07-19   False        HM Amla     SA  \n",
              "138348         Durban 1999-12-26    True      G Kirsten     SA  \n",
              "149392  Colombo (RPS) 1997-08-02    True  ST Jayasuriya     SL  "
            ],
            "text/html": [
              "\n",
              "  <div id=\"df-c94667d5-0d63-4d19-8666-9ed9ba42426c\">\n",
              "    <div class=\"colab-df-container\">\n",
              "      <div>\n",
              "<style scoped>\n",
              "    .dataframe tbody tr th:only-of-type {\n",
              "        vertical-align: middle;\n",
              "    }\n",
              "\n",
              "    .dataframe tbody tr th {\n",
              "        vertical-align: top;\n",
              "    }\n",
              "\n",
              "    .dataframe thead th {\n",
              "        text-align: right;\n",
              "    }\n",
              "</style>\n",
              "<table border=\"1\" class=\"dataframe\">\n",
              "  <thead>\n",
              "    <tr style=\"text-align: right;\">\n",
              "      <th></th>\n",
              "      <th>Runs</th>\n",
              "      <th>Mins</th>\n",
              "      <th>BF</th>\n",
              "      <th>4s</th>\n",
              "      <th>6s</th>\n",
              "      <th>SR</th>\n",
              "      <th>Inns</th>\n",
              "      <th>Opposition</th>\n",
              "      <th>Ground</th>\n",
              "      <th>Start Date</th>\n",
              "      <th>is_out</th>\n",
              "      <th>Name</th>\n",
              "      <th>Nation</th>\n",
              "    </tr>\n",
              "  </thead>\n",
              "  <tbody>\n",
              "    <tr>\n",
              "      <th>52327</th>\n",
              "      <td>263.0</td>\n",
              "      <td>836.0</td>\n",
              "      <td>528.0</td>\n",
              "      <td>18.0</td>\n",
              "      <td>0.0</td>\n",
              "      <td>4981.0</td>\n",
              "      <td>2.0</td>\n",
              "      <td>Test v Pakistan</td>\n",
              "      <td>Abu Dhabi</td>\n",
              "      <td>2015-10-13</td>\n",
              "      <td>True</td>\n",
              "      <td>AN Cook</td>\n",
              "      <td>ENG</td>\n",
              "    </tr>\n",
              "    <tr>\n",
              "      <th>71128</th>\n",
              "      <td>311.0</td>\n",
              "      <td>790.0</td>\n",
              "      <td>529.0</td>\n",
              "      <td>35.0</td>\n",
              "      <td>0.0</td>\n",
              "      <td>5879.0</td>\n",
              "      <td>2.0</td>\n",
              "      <td>Test v England</td>\n",
              "      <td>The Oval</td>\n",
              "      <td>2012-07-19</td>\n",
              "      <td>False</td>\n",
              "      <td>HM Amla</td>\n",
              "      <td>SA</td>\n",
              "    </tr>\n",
              "    <tr>\n",
              "      <th>138348</th>\n",
              "      <td>275.0</td>\n",
              "      <td>878.0</td>\n",
              "      <td>642.0</td>\n",
              "      <td>26.0</td>\n",
              "      <td>0.0</td>\n",
              "      <td>4283.0</td>\n",
              "      <td>3.0</td>\n",
              "      <td>Test v England</td>\n",
              "      <td>Durban</td>\n",
              "      <td>1999-12-26</td>\n",
              "      <td>True</td>\n",
              "      <td>G Kirsten</td>\n",
              "      <td>SA</td>\n",
              "    </tr>\n",
              "    <tr>\n",
              "      <th>149392</th>\n",
              "      <td>340.0</td>\n",
              "      <td>799.0</td>\n",
              "      <td>578.0</td>\n",
              "      <td>36.0</td>\n",
              "      <td>2.0</td>\n",
              "      <td>5882.0</td>\n",
              "      <td>2.0</td>\n",
              "      <td>Test v India</td>\n",
              "      <td>Colombo (RPS)</td>\n",
              "      <td>1997-08-02</td>\n",
              "      <td>True</td>\n",
              "      <td>ST Jayasuriya</td>\n",
              "      <td>SL</td>\n",
              "    </tr>\n",
              "  </tbody>\n",
              "</table>\n",
              "</div>\n",
              "      <button class=\"colab-df-convert\" onclick=\"convertToInteractive('df-c94667d5-0d63-4d19-8666-9ed9ba42426c')\"\n",
              "              title=\"Convert this dataframe to an interactive table.\"\n",
              "              style=\"display:none;\">\n",
              "        \n",
              "  <svg xmlns=\"http://www.w3.org/2000/svg\" height=\"24px\"viewBox=\"0 0 24 24\"\n",
              "       width=\"24px\">\n",
              "    <path d=\"M0 0h24v24H0V0z\" fill=\"none\"/>\n",
              "    <path d=\"M18.56 5.44l.94 2.06.94-2.06 2.06-.94-2.06-.94-.94-2.06-.94 2.06-2.06.94zm-11 1L8.5 8.5l.94-2.06 2.06-.94-2.06-.94L8.5 2.5l-.94 2.06-2.06.94zm10 10l.94 2.06.94-2.06 2.06-.94-2.06-.94-.94-2.06-.94 2.06-2.06.94z\"/><path d=\"M17.41 7.96l-1.37-1.37c-.4-.4-.92-.59-1.43-.59-.52 0-1.04.2-1.43.59L10.3 9.45l-7.72 7.72c-.78.78-.78 2.05 0 2.83L4 21.41c.39.39.9.59 1.41.59.51 0 1.02-.2 1.41-.59l7.78-7.78 2.81-2.81c.8-.78.8-2.07 0-2.86zM5.41 20L4 18.59l7.72-7.72 1.47 1.35L5.41 20z\"/>\n",
              "  </svg>\n",
              "      </button>\n",
              "      \n",
              "  <style>\n",
              "    .colab-df-container {\n",
              "      display:flex;\n",
              "      flex-wrap:wrap;\n",
              "      gap: 12px;\n",
              "    }\n",
              "\n",
              "    .colab-df-convert {\n",
              "      background-color: #E8F0FE;\n",
              "      border: none;\n",
              "      border-radius: 50%;\n",
              "      cursor: pointer;\n",
              "      display: none;\n",
              "      fill: #1967D2;\n",
              "      height: 32px;\n",
              "      padding: 0 0 0 0;\n",
              "      width: 32px;\n",
              "    }\n",
              "\n",
              "    .colab-df-convert:hover {\n",
              "      background-color: #E2EBFA;\n",
              "      box-shadow: 0px 1px 2px rgba(60, 64, 67, 0.3), 0px 1px 3px 1px rgba(60, 64, 67, 0.15);\n",
              "      fill: #174EA6;\n",
              "    }\n",
              "\n",
              "    [theme=dark] .colab-df-convert {\n",
              "      background-color: #3B4455;\n",
              "      fill: #D2E3FC;\n",
              "    }\n",
              "\n",
              "    [theme=dark] .colab-df-convert:hover {\n",
              "      background-color: #434B5C;\n",
              "      box-shadow: 0px 1px 3px 1px rgba(0, 0, 0, 0.15);\n",
              "      filter: drop-shadow(0px 1px 2px rgba(0, 0, 0, 0.3));\n",
              "      fill: #FFFFFF;\n",
              "    }\n",
              "  </style>\n",
              "\n",
              "      <script>\n",
              "        const buttonEl =\n",
              "          document.querySelector('#df-c94667d5-0d63-4d19-8666-9ed9ba42426c button.colab-df-convert');\n",
              "        buttonEl.style.display =\n",
              "          google.colab.kernel.accessAllowed ? 'block' : 'none';\n",
              "\n",
              "        async function convertToInteractive(key) {\n",
              "          const element = document.querySelector('#df-c94667d5-0d63-4d19-8666-9ed9ba42426c');\n",
              "          const dataTable =\n",
              "            await google.colab.kernel.invokeFunction('convertToInteractive',\n",
              "                                                     [key], {});\n",
              "          if (!dataTable) return;\n",
              "\n",
              "          const docLinkHtml = 'Like what you see? Visit the ' +\n",
              "            '<a target=\"_blank\" href=https://colab.research.google.com/notebooks/data_table.ipynb>data table notebook</a>'\n",
              "            + ' to learn more about interactive tables.';\n",
              "          element.innerHTML = '';\n",
              "          dataTable['output_type'] = 'display_data';\n",
              "          await google.colab.output.renderOutput(dataTable, element);\n",
              "          const docLink = document.createElement('div');\n",
              "          docLink.innerHTML = docLinkHtml;\n",
              "          element.appendChild(docLink);\n",
              "        }\n",
              "      </script>\n",
              "    </div>\n",
              "  </div>\n",
              "  "
            ]
          },
          "metadata": {},
          "execution_count": 17
        }
      ]
    },
    {
      "cell_type": "markdown",
      "source": [
        "Wow, first thing that comes to my mind when I see Gary Kirsten's name is India's 2011 world cup victory (he coached that Indian team), now I have a different reason in the form of his 878 minutes long innings to remember his name.\n",
        "\n",
        "I am not surprised to see Cook and Amla in this list, but Sanath Jayasuriya is a pleasant surprise. I always considered Jayasuriya an aggressive batsmen. Maybe those 799 minutes were filled with a fine balance between aggression and patience!"
      ],
      "metadata": {
        "id": "gxOmxQLwNLCD"
      }
    },
    {
      "cell_type": "markdown",
      "source": [
        "# Do cricket players love a good old duck?"
      ],
      "metadata": {
        "id": "48n3USEgYgDa"
      }
    },
    {
      "cell_type": "markdown",
      "source": [
        "Now, let us take a look at the most common score in this list!"
      ],
      "metadata": {
        "id": "uNOcnDWnOF_Q"
      }
    },
    {
      "cell_type": "code",
      "source": [
        "df['Runs'].value_counts()"
      ],
      "metadata": {
        "colab": {
          "base_uri": "https://localhost:8080/"
        },
        "id": "D8y_8CtDgbDU",
        "outputId": "d5fac413-e2a1-4b09-996d-856b860e686d"
      },
      "execution_count": 18,
      "outputs": [
        {
          "output_type": "execute_result",
          "data": {
            "text/plain": [
              "0.0      13313\n",
              "1.0       7166\n",
              "2.0       5361\n",
              "4.0       4871\n",
              "5.0       4178\n",
              "         ...  \n",
              "262.0        1\n",
              "269.0        1\n",
              "251.0        1\n",
              "317.0        1\n",
              "280.0        1\n",
              "Name: Runs, Length: 293, dtype: int64"
            ]
          },
          "metadata": {},
          "execution_count": 18
        }
      ]
    },
    {
      "cell_type": "markdown",
      "source": [
        "I am a little surprised that many innings have a score of zeroes and ones. But I am sure that most of these cases are not outs."
      ],
      "metadata": {
        "id": "2GLW9rCFOMGx"
      }
    },
    {
      "cell_type": "markdown",
      "source": [
        "# A trick to determine whether a batsman's performance in a match is above or below the average!"
      ],
      "metadata": {
        "id": "PAP3V9VwYtjg"
      }
    },
    {
      "cell_type": "markdown",
      "source": [
        "Let us go ahead and apply functions to find everyone's favorite statistical measures of central tendency and variability for numeric data!"
      ],
      "metadata": {
        "id": "esb-6kA_OiC-"
      }
    },
    {
      "cell_type": "code",
      "source": [
        "df['Runs'].mean()"
      ],
      "metadata": {
        "colab": {
          "base_uri": "https://localhost:8080/"
        },
        "id": "cqfgFXebhFd2",
        "outputId": "17d42e46-39a0-45ca-8707-4ba984f85564"
      },
      "execution_count": 19,
      "outputs": [
        {
          "output_type": "execute_result",
          "data": {
            "text/plain": [
              "24.31649761788858"
            ]
          },
          "metadata": {},
          "execution_count": 19
        }
      ]
    },
    {
      "cell_type": "code",
      "source": [
        "df['Runs'].median()"
      ],
      "metadata": {
        "colab": {
          "base_uri": "https://localhost:8080/"
        },
        "id": "e8TaEjqMhceC",
        "outputId": "2d10d1e6-4a8c-4829-cbe5-3e72d4770811"
      },
      "execution_count": 20,
      "outputs": [
        {
          "output_type": "execute_result",
          "data": {
            "text/plain": [
              "13.0"
            ]
          },
          "metadata": {},
          "execution_count": 20
        }
      ]
    },
    {
      "cell_type": "code",
      "source": [
        "df['Runs'].std()"
      ],
      "metadata": {
        "colab": {
          "base_uri": "https://localhost:8080/"
        },
        "id": "kEAnvZHzhjx-",
        "outputId": "4782070d-39cd-4d7c-a751-a94e00f39451"
      },
      "execution_count": 21,
      "outputs": [
        {
          "output_type": "execute_result",
          "data": {
            "text/plain": [
              "30.377813974971925"
            ]
          },
          "metadata": {},
          "execution_count": 21
        }
      ]
    },
    {
      "cell_type": "markdown",
      "source": [
        "# Am I mad to use MAD as a measure of variability?"
      ],
      "metadata": {
        "id": "CeAdAmIVZSyI"
      }
    },
    {
      "cell_type": "markdown",
      "source": [
        "Standard deviation is greater than mean here. It is a no-brainer that these measures are affected by extreme values to a great extent, let us try to compute trimmed mean (it trims the top 10% and bottom 10% of extreme values to calculate mean), and MAD (it is mad that people don't use Median Absolute Deviation from Median more often than standard deviation as it is less affected by outliers)."
      ],
      "metadata": {
        "id": "BTwqb50TOt24"
      }
    },
    {
      "cell_type": "code",
      "source": [
        "from scipy import stats\n",
        "\n",
        "#calculate 10% trimmed mean\n",
        "stats.trim_mean(df['Runs'], 0.1)"
      ],
      "metadata": {
        "colab": {
          "base_uri": "https://localhost:8080/"
        },
        "id": "nkedhiMqhwJM",
        "outputId": "208d2d10-24bb-4f41-cfb0-62bdea1ef5dd"
      },
      "execution_count": 22,
      "outputs": [
        {
          "output_type": "execute_result",
          "data": {
            "text/plain": [
              "18.411585152969106"
            ]
          },
          "metadata": {},
          "execution_count": 22
        }
      ]
    },
    {
      "cell_type": "code",
      "source": [
        "from statsmodels import robust\n",
        "\n",
        "robust.mad(df['Runs'])"
      ],
      "metadata": {
        "colab": {
          "base_uri": "https://localhost:8080/"
        },
        "id": "Jxwb9scMh2gW",
        "outputId": "5537ad8a-4e3c-4d86-9ea5-e237db089e4c"
      },
      "execution_count": 23,
      "outputs": [
        {
          "output_type": "stream",
          "name": "stderr",
          "text": [
            "/usr/local/lib/python3.7/dist-packages/statsmodels/tools/_testing.py:19: FutureWarning: pandas.util.testing is deprecated. Use the functions in the public API at pandas.testing instead.\n",
            "  import pandas.util.testing as tm\n"
          ]
        },
        {
          "output_type": "execute_result",
          "data": {
            "text/plain": [
              "17.791226622067224"
            ]
          },
          "metadata": {},
          "execution_count": 23
        }
      ]
    },
    {
      "cell_type": "markdown",
      "source": [
        "So, we could safely assume that the average score of a player in each inning to lie around the 20 mark. Every time a player crosses this mark, their performance is above average as per statistics and we should not blame them! (unless they take 100 balls to reach that mark in an ODI match).\n"
      ],
      "metadata": {
        "id": "JbtD9hwhPb9y"
      }
    },
    {
      "cell_type": "markdown",
      "source": [
        "# What has a long tail, but is not a dog or a horse?"
      ],
      "metadata": {
        "id": "LuZJm0yGZb5Y"
      }
    },
    {
      "cell_type": "markdown",
      "source": [
        "Let us try to view the data distribution of the Runs column via a box plot"
      ],
      "metadata": {
        "id": "pGNPjxlKQIEQ"
      }
    },
    {
      "cell_type": "code",
      "source": [
        "fig, ax = plt.subplots()\n",
        "ax.boxplot(df['Runs'])\n",
        "plt.show()"
      ],
      "metadata": {
        "colab": {
          "base_uri": "https://localhost:8080/",
          "height": 265
        },
        "id": "nr3rCae_iR80",
        "outputId": "c39ff65e-83fa-459e-9a27-ef88e4cbba12"
      },
      "execution_count": 24,
      "outputs": [
        {
          "output_type": "display_data",
          "data": {
            "text/plain": [
              "<Figure size 432x288 with 1 Axes>"
            ],
            "image/png": "[encoded data removed]"
          },
          "metadata": {
            "needs_background": "light"
          }
        }
      ]
    },
    {
      "cell_type": "markdown",
      "source": [
        "This confirms a heavily right skewed distribution with a very long tail! (Brian Lara's 400 is roughly 10 to 15 times away from the mean in terms of standard deviation.)\n",
        "\n",
        "Let us take a look at various percentiles within this data!"
      ],
      "metadata": {
        "id": "YmeKoOrYQNOI"
      }
    },
    {
      "cell_type": "code",
      "source": [
        "for i in [10,20,30,40,50,60,70,80,90,95,99]:\n",
        "  print(str(i) + \"th percentile - \"+ str(np.percentile(df['Runs'],i)))"
      ],
      "metadata": {
        "colab": {
          "base_uri": "https://localhost:8080/"
        },
        "id": "dMRLWEhsi3Qz",
        "outputId": "dacee2ec-03b3-40ac-9f65-c9cc48a8a0cc"
      },
      "execution_count": 25,
      "outputs": [
        {
          "output_type": "stream",
          "name": "stdout",
          "text": [
            "10th percentile - 0.0\n",
            "20th percentile - 2.0\n",
            "30th percentile - 5.0\n",
            "40th percentile - 9.0\n",
            "50th percentile - 13.0\n",
            "60th percentile - 20.0\n",
            "70th percentile - 28.0\n",
            "80th percentile - 41.0\n",
            "90th percentile - 63.0\n",
            "95th percentile - 85.0\n",
            "99th percentile - 138.0\n"
          ]
        }
      ]
    },
    {
      "cell_type": "markdown",
      "source": [
        "A player is in 99th percentile once he or she reaches the 138 run mark! This makes me think that it is greedy to expect Virat Kohli and Rohit Sharma to score a century in every other game)."
      ],
      "metadata": {
        "id": "XxbXy0vxRATD"
      }
    },
    {
      "cell_type": "markdown",
      "source": [
        "Let us move a step ahead and view the density via a combination of histogram and density plot (computed via Kernel distribution function as we set KDE parameter to True below)."
      ],
      "metadata": {
        "id": "z1OOFZpbRXq7"
      }
    },
    {
      "cell_type": "code",
      "source": [
        "import seaborn as sns\n",
        "sns.set(rc = {'figure.figsize':(20,8)})\n",
        "sns.histplot(data = df, x = \"Runs\", kde = True)\n"
      ],
      "metadata": {
        "colab": {
          "base_uri": "https://localhost:8080/",
          "height": 488
        },
        "id": "ICuK9v6vk7HB",
        "outputId": "d52d0e2d-aac1-49f4-ec56-c13a0d004f70"
      },
      "execution_count": 26,
      "outputs": [
        {
          "output_type": "execute_result",
          "data": {
            "text/plain": [
              "<matplotlib.axes._subplots.AxesSubplot at 0x7fd93cbbb5d0>"
            ]
          },
          "metadata": {},
          "execution_count": 26
        },
        {
          "output_type": "display_data",
          "data": {
            "text/plain": [
              "<Figure size 1440x576 with 1 Axes>"
            ],
            "image/png": "[encoded data removed]"
          },
          "metadata": {}
        }
      ]
    },
    {
      "cell_type": "markdown",
      "source": [
        "There is an unmistakably lengthy right tail here. All the normal distribution fans might be bummed out looking at it, but let us drop the extreme values above 99th percentile to take a close look at the distribution."
      ],
      "metadata": {
        "id": "LfBwEhNbRonu"
      }
    },
    {
      "cell_type": "code",
      "source": [
        "df_cut = df[df['Runs']<135.0] # 99th percentile value is 138.0, I am using 135.0 to cut down this 99th percentile value too from the distribution.\n",
        "df_cut.shape"
      ],
      "metadata": {
        "colab": {
          "base_uri": "https://localhost:8080/"
        },
        "id": "Q80hyI7hlgCB",
        "outputId": "c8499af6-51ae-441c-b76e-8f2b9dcfffd2"
      },
      "execution_count": 27,
      "outputs": [
        {
          "output_type": "execute_result",
          "data": {
            "text/plain": [
              "(123920, 13)"
            ]
          },
          "metadata": {},
          "execution_count": 27
        }
      ]
    },
    {
      "cell_type": "code",
      "source": [
        "for i in [10,20,30,40,50,60,70,80,90,95,99]:\n",
        "  print(str(i) + \"th percentile - \"+ str(np.percentile(df_cut['Runs'],i)))"
      ],
      "metadata": {
        "colab": {
          "base_uri": "https://localhost:8080/"
        },
        "id": "0l9SSnKrlsNL",
        "outputId": "4aba000b-3ae4-4170-9d41-e18f739e19c6"
      },
      "execution_count": 28,
      "outputs": [
        {
          "output_type": "stream",
          "name": "stdout",
          "text": [
            "10th percentile - 0.0\n",
            "20th percentile - 2.0\n",
            "30th percentile - 5.0\n",
            "40th percentile - 9.0\n",
            "50th percentile - 13.0\n",
            "60th percentile - 19.0\n",
            "70th percentile - 27.0\n",
            "80th percentile - 39.0\n",
            "90th percentile - 60.0\n",
            "95th percentile - 79.0\n",
            "99th percentile - 113.0\n"
          ]
        }
      ]
    },
    {
      "cell_type": "code",
      "source": [
        "sns.set(rc = {'figure.figsize':(20,12)})\n",
        "sns.histplot(data = df_cut, x = \"Runs\", kde = True)"
      ],
      "metadata": {
        "colab": {
          "base_uri": "https://localhost:8080/",
          "height": 757
        },
        "id": "ZYZhgHOZlyDJ",
        "outputId": "d46820cf-6dd1-4f27-ec83-8c29686a062a"
      },
      "execution_count": 29,
      "outputs": [
        {
          "output_type": "execute_result",
          "data": {
            "text/plain": [
              "<matplotlib.axes._subplots.AxesSubplot at 0x7fd937945490>"
            ]
          },
          "metadata": {},
          "execution_count": 29
        },
        {
          "output_type": "display_data",
          "data": {
            "text/plain": [
              "<Figure size 1440x864 with 1 Axes>"
            ],
            "image/png": "[encoded data removed]"
          },
          "metadata": {}
        }
      ]
    },
    {
      "cell_type": "markdown",
      "source": [
        "There are occasional peaks in the distribution, but those peaks are arbitrary and caused by chance as per my observation. \n",
        "\n",
        "Let us move ahead and view data for the innings where players were dismissed at a fateful 99!"
      ],
      "metadata": {
        "id": "i7zIuvgmSgul"
      }
    },
    {
      "cell_type": "markdown",
      "source": [
        "# Sachin Tendulkar and a tale of nervous nineties!"
      ],
      "metadata": {
        "id": "D60eJf5WZpn4"
      }
    },
    {
      "cell_type": "code",
      "source": [
        "df_cut2 = df_cut[df_cut['Runs'] == 99]\n",
        "df_cut2.shape"
      ],
      "metadata": {
        "colab": {
          "base_uri": "https://localhost:8080/"
        },
        "id": "eognSc16mlDh",
        "outputId": "f22d81b2-18b3-4def-81e7-d20b8bf2a623"
      },
      "execution_count": 30,
      "outputs": [
        {
          "output_type": "execute_result",
          "data": {
            "text/plain": [
              "(99, 13)"
            ]
          },
          "metadata": {},
          "execution_count": 30
        }
      ]
    },
    {
      "cell_type": "markdown",
      "source": [
        "Wow, there are exact 99 innings which ended at 99. Weird coincidence or a spooky stat?\n",
        "\n",
        "I have no clue about that, but let us find an answer for the question, \"how many of these 99 innings were not outs?\""
      ],
      "metadata": {
        "id": "mMUCBCvHTiyr"
      }
    },
    {
      "cell_type": "code",
      "source": [
        "df_cut2['is_out'].value_counts()"
      ],
      "metadata": {
        "colab": {
          "base_uri": "https://localhost:8080/"
        },
        "id": "XgoO0DHKsrkr",
        "outputId": "09bc6ec8-9d1b-4087-8a3d-1e43c6b27451"
      },
      "execution_count": 31,
      "outputs": [
        {
          "output_type": "execute_result",
          "data": {
            "text/plain": [
              "True     80\n",
              "False    19\n",
              "Name: is_out, dtype: int64"
            ]
          },
          "metadata": {},
          "execution_count": 31
        }
      ]
    },
    {
      "cell_type": "markdown",
      "source": [
        "19 not outs and 80 dismissals! \n",
        "\n",
        "Those 19 cases were truly unlucky ones, but I think the nervousness of completing a century played a part in those 80 dismissals."
      ],
      "metadata": {
        "id": "z7ZzoeoxT-Mr"
      }
    },
    {
      "cell_type": "markdown",
      "source": [
        "Now, let us see which nation's fans went through the most agony in terms of witnessing a player miss out on a century!"
      ],
      "metadata": {
        "id": "d3bQYix4UeI2"
      }
    },
    {
      "cell_type": "code",
      "source": [
        "df_cut2['Nation'].value_counts()"
      ],
      "metadata": {
        "colab": {
          "base_uri": "https://localhost:8080/"
        },
        "id": "mL8cFuEsmz5a",
        "outputId": "bdb0a876-fdc0-4480-c6b9-1e37124800ef"
      },
      "execution_count": 32,
      "outputs": [
        {
          "output_type": "execute_result",
          "data": {
            "text/plain": [
              "AUS      19\n",
              "INDIA    14\n",
              "ENG      13\n",
              "NZ       11\n",
              "PAK      11\n",
              "SA        9\n",
              "SL        8\n",
              "WI        5\n",
              "ZIM       5\n",
              "IRE       2\n",
              "UAE       1\n",
              "SCOT      1\n",
              "Name: Nation, dtype: int64"
            ]
          },
          "metadata": {},
          "execution_count": 32
        }
      ]
    },
    {
      "cell_type": "markdown",
      "source": [
        "Australia, India, and England top almost every stat when it comes to Cricket. So no surprises here!"
      ],
      "metadata": {
        "id": "Fd-6f2sVUzzp"
      }
    },
    {
      "cell_type": "code",
      "source": [
        "df_cut2['Name'].value_counts()"
      ],
      "metadata": {
        "colab": {
          "base_uri": "https://localhost:8080/"
        },
        "id": "gmwS55LVnjwK",
        "outputId": "4e84b8eb-38f2-462d-b1a9-aabd67fb09e3"
      },
      "execution_count": 33,
      "outputs": [
        {
          "output_type": "execute_result",
          "data": {
            "text/plain": [
              "SR Tendulkar      3\n",
              "Misbah-ul-Haq     3\n",
              "ML Hayden         2\n",
              "AB de Villiers    2\n",
              "ADR Campbell      2\n",
              "                 ..\n",
              "KP Pietersen      1\n",
              "MJ Clarke         1\n",
              "JP Duminy         1\n",
              "MN Waller         1\n",
              "Javed Miandad     1\n",
              "Name: Name, Length: 81, dtype: int64"
            ]
          },
          "metadata": {},
          "execution_count": 33
        }
      ]
    },
    {
      "cell_type": "code",
      "source": [
        "df_cut2[df_cut2['Name'] == 'SR Tendulkar'].head()"
      ],
      "metadata": {
        "colab": {
          "base_uri": "https://localhost:8080/",
          "height": 143
        },
        "id": "M24T43L7ntPk",
        "outputId": "691f4b29-75cc-4c62-8497-882054ae0751"
      },
      "execution_count": 34,
      "outputs": [
        {
          "output_type": "execute_result",
          "data": {
            "text/plain": [
              "        Runs   Mins     BF    4s   6s       SR  Inns          Opposition  \\\n",
              "97989   99.0  130.0   91.0  14.0  1.0  10879.0   1.0      ODI v Pakistan   \n",
              "99518   99.0  158.0  112.0  15.0  1.0   8839.0   1.0       ODI v England   \n",
              "100222  99.0  199.0  143.0  12.0  0.0   6923.0   1.0  ODI v South Africa   \n",
              "\n",
              "         Ground Start Date  is_out          Name Nation  \n",
              "97989    Mohali 2007-11-08    True  SR Tendulkar  INDIA  \n",
              "99518   Bristol 2007-08-24    True  SR Tendulkar  INDIA  \n",
              "100222  Belfast 2007-06-26    True  SR Tendulkar  INDIA  "
            ],
            "text/html": [
              "\n",
              "  <div id=\"df-7ce2e50f-db23-4057-844a-3d328bb8e201\">\n",
              "    <div class=\"colab-df-container\">\n",
              "      <div>\n",
              "<style scoped>\n",
              "    .dataframe tbody tr th:only-of-type {\n",
              "        vertical-align: middle;\n",
              "    }\n",
              "\n",
              "    .dataframe tbody tr th {\n",
              "        vertical-align: top;\n",
              "    }\n",
              "\n",
              "    .dataframe thead th {\n",
              "        text-align: right;\n",
              "    }\n",
              "</style>\n",
              "<table border=\"1\" class=\"dataframe\">\n",
              "  <thead>\n",
              "    <tr style=\"text-align: right;\">\n",
              "      <th></th>\n",
              "      <th>Runs</th>\n",
              "      <th>Mins</th>\n",
              "      <th>BF</th>\n",
              "      <th>4s</th>\n",
              "      <th>6s</th>\n",
              "      <th>SR</th>\n",
              "      <th>Inns</th>\n",
              "      <th>Opposition</th>\n",
              "      <th>Ground</th>\n",
              "      <th>Start Date</th>\n",
              "      <th>is_out</th>\n",
              "      <th>Name</th>\n",
              "      <th>Nation</th>\n",
              "    </tr>\n",
              "  </thead>\n",
              "  <tbody>\n",
              "    <tr>\n",
              "      <th>97989</th>\n",
              "      <td>99.0</td>\n",
              "      <td>130.0</td>\n",
              "      <td>91.0</td>\n",
              "      <td>14.0</td>\n",
              "      <td>1.0</td>\n",
              "      <td>10879.0</td>\n",
              "      <td>1.0</td>\n",
              "      <td>ODI v Pakistan</td>\n",
              "      <td>Mohali</td>\n",
              "      <td>2007-11-08</td>\n",
              "      <td>True</td>\n",
              "      <td>SR Tendulkar</td>\n",
              "      <td>INDIA</td>\n",
              "    </tr>\n",
              "    <tr>\n",
              "      <th>99518</th>\n",
              "      <td>99.0</td>\n",
              "      <td>158.0</td>\n",
              "      <td>112.0</td>\n",
              "      <td>15.0</td>\n",
              "      <td>1.0</td>\n",
              "      <td>8839.0</td>\n",
              "      <td>1.0</td>\n",
              "      <td>ODI v England</td>\n",
              "      <td>Bristol</td>\n",
              "      <td>2007-08-24</td>\n",
              "      <td>True</td>\n",
              "      <td>SR Tendulkar</td>\n",
              "      <td>INDIA</td>\n",
              "    </tr>\n",
              "    <tr>\n",
              "      <th>100222</th>\n",
              "      <td>99.0</td>\n",
              "      <td>199.0</td>\n",
              "      <td>143.0</td>\n",
              "      <td>12.0</td>\n",
              "      <td>0.0</td>\n",
              "      <td>6923.0</td>\n",
              "      <td>1.0</td>\n",
              "      <td>ODI v South Africa</td>\n",
              "      <td>Belfast</td>\n",
              "      <td>2007-06-26</td>\n",
              "      <td>True</td>\n",
              "      <td>SR Tendulkar</td>\n",
              "      <td>INDIA</td>\n",
              "    </tr>\n",
              "  </tbody>\n",
              "</table>\n",
              "</div>\n",
              "      <button class=\"colab-df-convert\" onclick=\"convertToInteractive('df-7ce2e50f-db23-4057-844a-3d328bb8e201')\"\n",
              "              title=\"Convert this dataframe to an interactive table.\"\n",
              "              style=\"display:none;\">\n",
              "        \n",
              "  <svg xmlns=\"http://www.w3.org/2000/svg\" height=\"24px\"viewBox=\"0 0 24 24\"\n",
              "       width=\"24px\">\n",
              "    <path d=\"M0 0h24v24H0V0z\" fill=\"none\"/>\n",
              "    <path d=\"M18.56 5.44l.94 2.06.94-2.06 2.06-.94-2.06-.94-.94-2.06-.94 2.06-2.06.94zm-11 1L8.5 8.5l.94-2.06 2.06-.94-2.06-.94L8.5 2.5l-.94 2.06-2.06.94zm10 10l.94 2.06.94-2.06 2.06-.94-2.06-.94-.94-2.06-.94 2.06-2.06.94z\"/><path d=\"M17.41 7.96l-1.37-1.37c-.4-.4-.92-.59-1.43-.59-.52 0-1.04.2-1.43.59L10.3 9.45l-7.72 7.72c-.78.78-.78 2.05 0 2.83L4 21.41c.39.39.9.59 1.41.59.51 0 1.02-.2 1.41-.59l7.78-7.78 2.81-2.81c.8-.78.8-2.07 0-2.86zM5.41 20L4 18.59l7.72-7.72 1.47 1.35L5.41 20z\"/>\n",
              "  </svg>\n",
              "      </button>\n",
              "      \n",
              "  <style>\n",
              "    .colab-df-container {\n",
              "      display:flex;\n",
              "      flex-wrap:wrap;\n",
              "      gap: 12px;\n",
              "    }\n",
              "\n",
              "    .colab-df-convert {\n",
              "      background-color: #E8F0FE;\n",
              "      border: none;\n",
              "      border-radius: 50%;\n",
              "      cursor: pointer;\n",
              "      display: none;\n",
              "      fill: #1967D2;\n",
              "      height: 32px;\n",
              "      padding: 0 0 0 0;\n",
              "      width: 32px;\n",
              "    }\n",
              "\n",
              "    .colab-df-convert:hover {\n",
              "      background-color: #E2EBFA;\n",
              "      box-shadow: 0px 1px 2px rgba(60, 64, 67, 0.3), 0px 1px 3px 1px rgba(60, 64, 67, 0.15);\n",
              "      fill: #174EA6;\n",
              "    }\n",
              "\n",
              "    [theme=dark] .colab-df-convert {\n",
              "      background-color: #3B4455;\n",
              "      fill: #D2E3FC;\n",
              "    }\n",
              "\n",
              "    [theme=dark] .colab-df-convert:hover {\n",
              "      background-color: #434B5C;\n",
              "      box-shadow: 0px 1px 3px 1px rgba(0, 0, 0, 0.15);\n",
              "      filter: drop-shadow(0px 1px 2px rgba(0, 0, 0, 0.3));\n",
              "      fill: #FFFFFF;\n",
              "    }\n",
              "  </style>\n",
              "\n",
              "      <script>\n",
              "        const buttonEl =\n",
              "          document.querySelector('#df-7ce2e50f-db23-4057-844a-3d328bb8e201 button.colab-df-convert');\n",
              "        buttonEl.style.display =\n",
              "          google.colab.kernel.accessAllowed ? 'block' : 'none';\n",
              "\n",
              "        async function convertToInteractive(key) {\n",
              "          const element = document.querySelector('#df-7ce2e50f-db23-4057-844a-3d328bb8e201');\n",
              "          const dataTable =\n",
              "            await google.colab.kernel.invokeFunction('convertToInteractive',\n",
              "                                                     [key], {});\n",
              "          if (!dataTable) return;\n",
              "\n",
              "          const docLinkHtml = 'Like what you see? Visit the ' +\n",
              "            '<a target=\"_blank\" href=https://colab.research.google.com/notebooks/data_table.ipynb>data table notebook</a>'\n",
              "            + ' to learn more about interactive tables.';\n",
              "          element.innerHTML = '';\n",
              "          dataTable['output_type'] = 'display_data';\n",
              "          await google.colab.output.renderOutput(dataTable, element);\n",
              "          const docLink = document.createElement('div');\n",
              "          docLink.innerHTML = docLinkHtml;\n",
              "          element.appendChild(docLink);\n",
              "        }\n",
              "      </script>\n",
              "    </div>\n",
              "  </div>\n",
              "  "
            ]
          },
          "metadata": {},
          "execution_count": 34
        }
      ]
    },
    {
      "cell_type": "code",
      "source": [
        "df_cut2[df_cut2['Name'] == 'Misbah-ul-Haq'].head()"
      ],
      "metadata": {
        "colab": {
          "base_uri": "https://localhost:8080/",
          "height": 143
        },
        "id": "MWiYUFKNr6sO",
        "outputId": "cd65001a-3eea-4a90-e09d-865a340f6de3"
      },
      "execution_count": 35,
      "outputs": [
        {
          "output_type": "execute_result",
          "data": {
            "text/plain": [
              "       Runs   Mins     BF    4s   6s      SR  Inns          Opposition  \\\n",
              "41903  99.0  258.0  201.0   9.0  2.0  4925.0   2.0  Test v West Indies   \n",
              "41947  99.0  346.0  223.0   5.0  3.0  4439.0   2.0  Test v West Indies   \n",
              "79292  99.0  310.0  207.0  16.0  0.0  4782.0   2.0  Test v New Zealand   \n",
              "\n",
              "           Ground Start Date  is_out           Name Nation  \n",
              "41903  Bridgetown 2017-04-30    True  Misbah-ul-Haq    PAK  \n",
              "41947    Kingston 2017-04-21   False  Misbah-ul-Haq    PAK  \n",
              "79292  Wellington 2011-01-15    True  Misbah-ul-Haq    PAK  "
            ],
            "text/html": [
              "\n",
              "  <div id=\"df-d1acf97d-565f-4955-91e5-f6426cb312fb\">\n",
              "    <div class=\"colab-df-container\">\n",
              "      <div>\n",
              "<style scoped>\n",
              "    .dataframe tbody tr th:only-of-type {\n",
              "        vertical-align: middle;\n",
              "    }\n",
              "\n",
              "    .dataframe tbody tr th {\n",
              "        vertical-align: top;\n",
              "    }\n",
              "\n",
              "    .dataframe thead th {\n",
              "        text-align: right;\n",
              "    }\n",
              "</style>\n",
              "<table border=\"1\" class=\"dataframe\">\n",
              "  <thead>\n",
              "    <tr style=\"text-align: right;\">\n",
              "      <th></th>\n",
              "      <th>Runs</th>\n",
              "      <th>Mins</th>\n",
              "      <th>BF</th>\n",
              "      <th>4s</th>\n",
              "      <th>6s</th>\n",
              "      <th>SR</th>\n",
              "      <th>Inns</th>\n",
              "      <th>Opposition</th>\n",
              "      <th>Ground</th>\n",
              "      <th>Start Date</th>\n",
              "      <th>is_out</th>\n",
              "      <th>Name</th>\n",
              "      <th>Nation</th>\n",
              "    </tr>\n",
              "  </thead>\n",
              "  <tbody>\n",
              "    <tr>\n",
              "      <th>41903</th>\n",
              "      <td>99.0</td>\n",
              "      <td>258.0</td>\n",
              "      <td>201.0</td>\n",
              "      <td>9.0</td>\n",
              "      <td>2.0</td>\n",
              "      <td>4925.0</td>\n",
              "      <td>2.0</td>\n",
              "      <td>Test v West Indies</td>\n",
              "      <td>Bridgetown</td>\n",
              "      <td>2017-04-30</td>\n",
              "      <td>True</td>\n",
              "      <td>Misbah-ul-Haq</td>\n",
              "      <td>PAK</td>\n",
              "    </tr>\n",
              "    <tr>\n",
              "      <th>41947</th>\n",
              "      <td>99.0</td>\n",
              "      <td>346.0</td>\n",
              "      <td>223.0</td>\n",
              "      <td>5.0</td>\n",
              "      <td>3.0</td>\n",
              "      <td>4439.0</td>\n",
              "      <td>2.0</td>\n",
              "      <td>Test v West Indies</td>\n",
              "      <td>Kingston</td>\n",
              "      <td>2017-04-21</td>\n",
              "      <td>False</td>\n",
              "      <td>Misbah-ul-Haq</td>\n",
              "      <td>PAK</td>\n",
              "    </tr>\n",
              "    <tr>\n",
              "      <th>79292</th>\n",
              "      <td>99.0</td>\n",
              "      <td>310.0</td>\n",
              "      <td>207.0</td>\n",
              "      <td>16.0</td>\n",
              "      <td>0.0</td>\n",
              "      <td>4782.0</td>\n",
              "      <td>2.0</td>\n",
              "      <td>Test v New Zealand</td>\n",
              "      <td>Wellington</td>\n",
              "      <td>2011-01-15</td>\n",
              "      <td>True</td>\n",
              "      <td>Misbah-ul-Haq</td>\n",
              "      <td>PAK</td>\n",
              "    </tr>\n",
              "  </tbody>\n",
              "</table>\n",
              "</div>\n",
              "      <button class=\"colab-df-convert\" onclick=\"convertToInteractive('df-d1acf97d-565f-4955-91e5-f6426cb312fb')\"\n",
              "              title=\"Convert this dataframe to an interactive table.\"\n",
              "              style=\"display:none;\">\n",
              "        \n",
              "  <svg xmlns=\"http://www.w3.org/2000/svg\" height=\"24px\"viewBox=\"0 0 24 24\"\n",
              "       width=\"24px\">\n",
              "    <path d=\"M0 0h24v24H0V0z\" fill=\"none\"/>\n",
              "    <path d=\"M18.56 5.44l.94 2.06.94-2.06 2.06-.94-2.06-.94-.94-2.06-.94 2.06-2.06.94zm-11 1L8.5 8.5l.94-2.06 2.06-.94-2.06-.94L8.5 2.5l-.94 2.06-2.06.94zm10 10l.94 2.06.94-2.06 2.06-.94-2.06-.94-.94-2.06-.94 2.06-2.06.94z\"/><path d=\"M17.41 7.96l-1.37-1.37c-.4-.4-.92-.59-1.43-.59-.52 0-1.04.2-1.43.59L10.3 9.45l-7.72 7.72c-.78.78-.78 2.05 0 2.83L4 21.41c.39.39.9.59 1.41.59.51 0 1.02-.2 1.41-.59l7.78-7.78 2.81-2.81c.8-.78.8-2.07 0-2.86zM5.41 20L4 18.59l7.72-7.72 1.47 1.35L5.41 20z\"/>\n",
              "  </svg>\n",
              "      </button>\n",
              "      \n",
              "  <style>\n",
              "    .colab-df-container {\n",
              "      display:flex;\n",
              "      flex-wrap:wrap;\n",
              "      gap: 12px;\n",
              "    }\n",
              "\n",
              "    .colab-df-convert {\n",
              "      background-color: #E8F0FE;\n",
              "      border: none;\n",
              "      border-radius: 50%;\n",
              "      cursor: pointer;\n",
              "      display: none;\n",
              "      fill: #1967D2;\n",
              "      height: 32px;\n",
              "      padding: 0 0 0 0;\n",
              "      width: 32px;\n",
              "    }\n",
              "\n",
              "    .colab-df-convert:hover {\n",
              "      background-color: #E2EBFA;\n",
              "      box-shadow: 0px 1px 2px rgba(60, 64, 67, 0.3), 0px 1px 3px 1px rgba(60, 64, 67, 0.15);\n",
              "      fill: #174EA6;\n",
              "    }\n",
              "\n",
              "    [theme=dark] .colab-df-convert {\n",
              "      background-color: #3B4455;\n",
              "      fill: #D2E3FC;\n",
              "    }\n",
              "\n",
              "    [theme=dark] .colab-df-convert:hover {\n",
              "      background-color: #434B5C;\n",
              "      box-shadow: 0px 1px 3px 1px rgba(0, 0, 0, 0.15);\n",
              "      filter: drop-shadow(0px 1px 2px rgba(0, 0, 0, 0.3));\n",
              "      fill: #FFFFFF;\n",
              "    }\n",
              "  </style>\n",
              "\n",
              "      <script>\n",
              "        const buttonEl =\n",
              "          document.querySelector('#df-d1acf97d-565f-4955-91e5-f6426cb312fb button.colab-df-convert');\n",
              "        buttonEl.style.display =\n",
              "          google.colab.kernel.accessAllowed ? 'block' : 'none';\n",
              "\n",
              "        async function convertToInteractive(key) {\n",
              "          const element = document.querySelector('#df-d1acf97d-565f-4955-91e5-f6426cb312fb');\n",
              "          const dataTable =\n",
              "            await google.colab.kernel.invokeFunction('convertToInteractive',\n",
              "                                                     [key], {});\n",
              "          if (!dataTable) return;\n",
              "\n",
              "          const docLinkHtml = 'Like what you see? Visit the ' +\n",
              "            '<a target=\"_blank\" href=https://colab.research.google.com/notebooks/data_table.ipynb>data table notebook</a>'\n",
              "            + ' to learn more about interactive tables.';\n",
              "          element.innerHTML = '';\n",
              "          dataTable['output_type'] = 'display_data';\n",
              "          await google.colab.output.renderOutput(dataTable, element);\n",
              "          const docLink = document.createElement('div');\n",
              "          docLink.innerHTML = docLinkHtml;\n",
              "          element.appendChild(docLink);\n",
              "        }\n",
              "      </script>\n",
              "    </div>\n",
              "  </div>\n",
              "  "
            ]
          },
          "metadata": {},
          "execution_count": 35
        }
      ]
    },
    {
      "cell_type": "markdown",
      "source": [
        "Sachin and Misbah are extremely unfortunate not to add those three innings in their centuries list! At least Misbah might find solace in the fact that he was not out in the 2017 inning vs West Indies, whereas \"the God of Cricket\" seems to be the only person to be dismissed thrice at 99. \n",
        "\n",
        "Guess that 100th century would have happened quite early had it not for these three innings! (Sachin Tendulkar is the only player to score 100 or more runs, 100 times. There was a painfully long wait of one year for him to go from 99 to 100 centuries, but the little master persisted to achieve that remarkable feat!)"
      ],
      "metadata": {
        "id": "SUWq-EwaVFtt"
      }
    },
    {
      "cell_type": "markdown",
      "source": [
        "Now, let us dig in a bit more and find the innings that ended between 91 and 99 because of the player's dismissal. This is commonly referred to as \"nervous 90s\" in the popular cricket lingo. This term was again popularized by Sachin Tendulkar himself, so it is only fair that he tops this list too!"
      ],
      "metadata": {
        "id": "kFBxa722WajA"
      }
    },
    {
      "cell_type": "code",
      "source": [
        "df_cut3 = df_cut[df_cut['Runs'] > 90]\n",
        "df_cut3 = df_cut3[df_cut3['Runs'] < 100]\n",
        "df_cut3 = df_cut3[df_cut3['is_out'] == True]\n",
        "df_cut3.shape"
      ],
      "metadata": {
        "colab": {
          "base_uri": "https://localhost:8080/"
        },
        "id": "v2TCFesws_c-",
        "outputId": "9961eef4-ad6c-4c5e-80f1-3c3b223feb9d"
      },
      "execution_count": 101,
      "outputs": [
        {
          "output_type": "execute_result",
          "data": {
            "text/plain": [
              "(883, 13)"
            ]
          },
          "metadata": {},
          "execution_count": 101
        }
      ]
    },
    {
      "cell_type": "code",
      "source": [
        "df_cut3['Name'].value_counts()"
      ],
      "metadata": {
        "colab": {
          "base_uri": "https://localhost:8080/"
        },
        "id": "dNW89JeVtJuh",
        "outputId": "69d3f060-4803-4470-ed8b-e39130b272b6"
      },
      "execution_count": 102,
      "outputs": [
        {
          "output_type": "execute_result",
          "data": {
            "text/plain": [
              "SR Tendulkar      25\n",
              "R Dravid          11\n",
              "RT Ponting        11\n",
              "AB de Villiers    11\n",
              "ML Hayden         10\n",
              "                  ..\n",
              "LE Bosman          1\n",
              "OA Shah            1\n",
              "MA Vermeulen       1\n",
              "MJ North           1\n",
              "CH Lloyd           1\n",
              "Name: Name, Length: 348, dtype: int64"
            ]
          },
          "metadata": {},
          "execution_count": 102
        }
      ]
    },
    {
      "cell_type": "markdown",
      "source": [
        "So Sachin Tendulkar it is!\n",
        "\n",
        "But I am surprised that Rahul Dravid takes the second position in this list."
      ],
      "metadata": {
        "id": "4hNFTBZWXfX2"
      }
    },
    {
      "cell_type": "markdown",
      "source": [
        "# Who loves a duck more than Gordon Ramsay on this earth?"
      ],
      "metadata": {
        "id": "1vVtmoycZy40"
      }
    },
    {
      "cell_type": "markdown",
      "source": [
        "Now, let us try to explore the individual statistics of ducks!"
      ],
      "metadata": {
        "id": "xyTm8h97aC0t"
      }
    },
    {
      "cell_type": "code",
      "source": [
        "df_cut4 = df_cut[df_cut['Runs'] == 0]\n",
        "df_cut4 = df_cut4[df_cut4['is_out'] == True]\n",
        "df_cut4.shape"
      ],
      "metadata": {
        "colab": {
          "base_uri": "https://localhost:8080/"
        },
        "id": "WmbnOaUNtgSU",
        "outputId": "cc6763f9-42d9-40e2-d68f-da201f4fced8"
      },
      "execution_count": 38,
      "outputs": [
        {
          "output_type": "execute_result",
          "data": {
            "text/plain": [
              "(11894, 13)"
            ]
          },
          "metadata": {},
          "execution_count": 38
        }
      ]
    },
    {
      "cell_type": "code",
      "source": [
        "df_cut4['Name'].value_counts()"
      ],
      "metadata": {
        "colab": {
          "base_uri": "https://localhost:8080/"
        },
        "id": "J2qvPe1AtuzP",
        "outputId": "342faf9e-81ef-4b09-e384-4ca5b7defc27"
      },
      "execution_count": 39,
      "outputs": [
        {
          "output_type": "execute_result",
          "data": {
            "text/plain": [
              "CA Walsh          52\n",
              "M Muralidaran     52\n",
              "GD McGrath        48\n",
              "SCJ Broad         48\n",
              "ST Jayasuriya     45\n",
              "                  ..\n",
              "Zubayr Hamza       1\n",
              "TK Curran          1\n",
              "AJ Turner          1\n",
              "PARP Perera        1\n",
              "Yashpal Sharma     1\n",
              "Name: Name, Length: 1991, dtype: int64"
            ]
          },
          "metadata": {},
          "execution_count": 39
        }
      ]
    },
    {
      "cell_type": "markdown",
      "source": [
        "I know Courtney Walsh as a fast bowler who could terrify the batsmen on the crease with figurative fire balls. Maybe batsmen won't feel bad when they are dismissed for a duck in the bowling of Walsh when they learn about this stat.\n",
        "\n",
        "By the way, Murali, McGrath, and Broad are legendary bowlers who got to be on both the giving and receiving ends of ducks!"
      ],
      "metadata": {
        "id": "jEbE7IC2aYdG"
      }
    },
    {
      "cell_type": "markdown",
      "source": [
        "# The dominance of mighty Aussies in scoring runs!"
      ],
      "metadata": {
        "id": "7KABgeJrbXnS"
      }
    },
    {
      "cell_type": "markdown",
      "source": [
        "Let us try to group data on nation column to calculate the total runs scored by each nation in this dataset."
      ],
      "metadata": {
        "id": "91eYqxumbgv1"
      }
    },
    {
      "cell_type": "code",
      "source": [
        "df.groupby('Nation')['Runs'].sum()"
      ],
      "metadata": {
        "colab": {
          "base_uri": "https://localhost:8080/"
        },
        "id": "rFsjECb_t8r1",
        "outputId": "da1ab6d4-bd6c-43dc-b815-d84fa1327863"
      },
      "execution_count": 40,
      "outputs": [
        {
          "output_type": "execute_result",
          "data": {
            "text/plain": [
              "Nation\n",
              "            481.0\n",
              "1            31.0\n",
              "2            34.0\n",
              "3           299.0\n",
              "AFG       24184.0\n",
              "AUS      424751.0\n",
              "Afr        1364.0\n",
              "Asia       1577.0\n",
              "Aut         240.0\n",
              "BAN      126591.0\n",
              "BMUDA      4034.0\n",
              "BOT         467.0\n",
              "Bhm         537.0\n",
              "CAM         214.0\n",
              "CAN       10688.0\n",
              "CZK-R       494.0\n",
              "Caym        662.0\n",
              "DEN         215.0\n",
              "ENG      381943.0\n",
              "Fin         185.0\n",
              "GUE         209.0\n",
              "Ghana       703.0\n",
              "HKG        2472.0\n",
              "ICC        1173.0\n",
              "INDIA    352881.0\n",
              "IRE       30015.0\n",
              "JER         258.0\n",
              "KENYA     20955.0\n",
              "KUW         331.0\n",
              "LES         528.0\n",
              "LUX         261.0\n",
              "MAL         304.0\n",
              "MOZ         518.0\n",
              "MWI         617.0\n",
              "NAM        2315.0\n",
              "NED       18679.0\n",
              "NEPAL      1060.0\n",
              "NGA         539.0\n",
              "NZ       302106.0\n",
              "OMA        1086.0\n",
              "PAK      307597.0\n",
              "PNG        1381.0\n",
              "QAT         307.0\n",
              "ROM         310.0\n",
              "RWN         656.0\n",
              "SA       282525.0\n",
              "SCOT      16303.0\n",
              "SEY         511.0\n",
              "SGP         418.0\n",
              "SL       283290.0\n",
              "SLE         313.0\n",
              "TAN        1377.0\n",
              "TKY          66.0\n",
              "UAE        6276.0\n",
              "UGA        1362.0\n",
              "USA         298.0\n",
              "WI       281101.0\n",
              "ZIM      146984.0\n",
              "Name: Runs, dtype: float64"
            ]
          },
          "metadata": {},
          "execution_count": 40
        }
      ]
    },
    {
      "cell_type": "markdown",
      "source": [
        "Here's a trick question. What are 1, 2, and 3?\n",
        "\n",
        "They are numbers outside this notebook, but they are apparently nations when it comes to this dataset. \n",
        "\n",
        "This is a classic case of erroneous data that requires cleaning. Let us take a look at the data pertaining to these phantom countries before cleaning them!\n",
        "\n"
      ],
      "metadata": {
        "id": "KRnRlFsibs1G"
      }
    },
    {
      "cell_type": "code",
      "source": [
        "df[df['Nation'] == '1'].head()"
      ],
      "metadata": {
        "colab": {
          "base_uri": "https://localhost:8080/",
          "height": 206
        },
        "id": "-fT6KaHduYnT",
        "outputId": "4846f07f-f89d-4aff-c7b7-d2e4296f7050"
      },
      "execution_count": 41,
      "outputs": [
        {
          "output_type": "execute_result",
          "data": {
            "text/plain": [
              "      Runs  Mins    BF   4s   6s       SR  Inns          Opposition   Ground  \\\n",
              "456    6.0  19.0   7.0  1.0  0.0   8571.0   1.0   ODI v West Indies   Multan   \n",
              "756   17.0  31.0  13.0  1.0  1.0  13076.0   1.0   ODI v West Indies   Multan   \n",
              "2601   2.0  12.0   4.0  0.0  0.0     50.0   1.0    T20I v Australia   Lahore   \n",
              "2876   0.0   1.0   1.0  0.0  0.0      0.0   2.0     ODI v Australia   Lahore   \n",
              "5627   5.0  11.0   3.0  1.0  0.0  16666.0   1.0  T20I v West Indies  Karachi   \n",
              "\n",
              "     Start Date  is_out            Name Nation  \n",
              "456  2022-06-12    True  Mohammad Wasim      1  \n",
              "756  2022-06-10   False  Mohammad Wasim      1  \n",
              "2601 2022-04-05   False  Mohammad Wasim      1  \n",
              "2876 2022-03-29    True  Mohammad Wasim      1  \n",
              "5627 2021-12-14    True  Mohammad Wasim      1  "
            ],
            "text/html": [
              "\n",
              "  <div id=\"df-ef63f74d-8505-46b0-bbe2-8e8c01e4bf35\">\n",
              "    <div class=\"colab-df-container\">\n",
              "      <div>\n",
              "<style scoped>\n",
              "    .dataframe tbody tr th:only-of-type {\n",
              "        vertical-align: middle;\n",
              "    }\n",
              "\n",
              "    .dataframe tbody tr th {\n",
              "        vertical-align: top;\n",
              "    }\n",
              "\n",
              "    .dataframe thead th {\n",
              "        text-align: right;\n",
              "    }\n",
              "</style>\n",
              "<table border=\"1\" class=\"dataframe\">\n",
              "  <thead>\n",
              "    <tr style=\"text-align: right;\">\n",
              "      <th></th>\n",
              "      <th>Runs</th>\n",
              "      <th>Mins</th>\n",
              "      <th>BF</th>\n",
              "      <th>4s</th>\n",
              "      <th>6s</th>\n",
              "      <th>SR</th>\n",
              "      <th>Inns</th>\n",
              "      <th>Opposition</th>\n",
              "      <th>Ground</th>\n",
              "      <th>Start Date</th>\n",
              "      <th>is_out</th>\n",
              "      <th>Name</th>\n",
              "      <th>Nation</th>\n",
              "    </tr>\n",
              "  </thead>\n",
              "  <tbody>\n",
              "    <tr>\n",
              "      <th>456</th>\n",
              "      <td>6.0</td>\n",
              "      <td>19.0</td>\n",
              "      <td>7.0</td>\n",
              "      <td>1.0</td>\n",
              "      <td>0.0</td>\n",
              "      <td>8571.0</td>\n",
              "      <td>1.0</td>\n",
              "      <td>ODI v West Indies</td>\n",
              "      <td>Multan</td>\n",
              "      <td>2022-06-12</td>\n",
              "      <td>True</td>\n",
              "      <td>Mohammad Wasim</td>\n",
              "      <td>1</td>\n",
              "    </tr>\n",
              "    <tr>\n",
              "      <th>756</th>\n",
              "      <td>17.0</td>\n",
              "      <td>31.0</td>\n",
              "      <td>13.0</td>\n",
              "      <td>1.0</td>\n",
              "      <td>1.0</td>\n",
              "      <td>13076.0</td>\n",
              "      <td>1.0</td>\n",
              "      <td>ODI v West Indies</td>\n",
              "      <td>Multan</td>\n",
              "      <td>2022-06-10</td>\n",
              "      <td>False</td>\n",
              "      <td>Mohammad Wasim</td>\n",
              "      <td>1</td>\n",
              "    </tr>\n",
              "    <tr>\n",
              "      <th>2601</th>\n",
              "      <td>2.0</td>\n",
              "      <td>12.0</td>\n",
              "      <td>4.0</td>\n",
              "      <td>0.0</td>\n",
              "      <td>0.0</td>\n",
              "      <td>50.0</td>\n",
              "      <td>1.0</td>\n",
              "      <td>T20I v Australia</td>\n",
              "      <td>Lahore</td>\n",
              "      <td>2022-04-05</td>\n",
              "      <td>False</td>\n",
              "      <td>Mohammad Wasim</td>\n",
              "      <td>1</td>\n",
              "    </tr>\n",
              "    <tr>\n",
              "      <th>2876</th>\n",
              "      <td>0.0</td>\n",
              "      <td>1.0</td>\n",
              "      <td>1.0</td>\n",
              "      <td>0.0</td>\n",
              "      <td>0.0</td>\n",
              "      <td>0.0</td>\n",
              "      <td>2.0</td>\n",
              "      <td>ODI v Australia</td>\n",
              "      <td>Lahore</td>\n",
              "      <td>2022-03-29</td>\n",
              "      <td>True</td>\n",
              "      <td>Mohammad Wasim</td>\n",
              "      <td>1</td>\n",
              "    </tr>\n",
              "    <tr>\n",
              "      <th>5627</th>\n",
              "      <td>5.0</td>\n",
              "      <td>11.0</td>\n",
              "      <td>3.0</td>\n",
              "      <td>1.0</td>\n",
              "      <td>0.0</td>\n",
              "      <td>16666.0</td>\n",
              "      <td>1.0</td>\n",
              "      <td>T20I v West Indies</td>\n",
              "      <td>Karachi</td>\n",
              "      <td>2021-12-14</td>\n",
              "      <td>True</td>\n",
              "      <td>Mohammad Wasim</td>\n",
              "      <td>1</td>\n",
              "    </tr>\n",
              "  </tbody>\n",
              "</table>\n",
              "</div>\n",
              "      <button class=\"colab-df-convert\" onclick=\"convertToInteractive('df-ef63f74d-8505-46b0-bbe2-8e8c01e4bf35')\"\n",
              "              title=\"Convert this dataframe to an interactive table.\"\n",
              "              style=\"display:none;\">\n",
              "        \n",
              "  <svg xmlns=\"http://www.w3.org/2000/svg\" height=\"24px\"viewBox=\"0 0 24 24\"\n",
              "       width=\"24px\">\n",
              "    <path d=\"M0 0h24v24H0V0z\" fill=\"none\"/>\n",
              "    <path d=\"M18.56 5.44l.94 2.06.94-2.06 2.06-.94-2.06-.94-.94-2.06-.94 2.06-2.06.94zm-11 1L8.5 8.5l.94-2.06 2.06-.94-2.06-.94L8.5 2.5l-.94 2.06-2.06.94zm10 10l.94 2.06.94-2.06 2.06-.94-2.06-.94-.94-2.06-.94 2.06-2.06.94z\"/><path d=\"M17.41 7.96l-1.37-1.37c-.4-.4-.92-.59-1.43-.59-.52 0-1.04.2-1.43.59L10.3 9.45l-7.72 7.72c-.78.78-.78 2.05 0 2.83L4 21.41c.39.39.9.59 1.41.59.51 0 1.02-.2 1.41-.59l7.78-7.78 2.81-2.81c.8-.78.8-2.07 0-2.86zM5.41 20L4 18.59l7.72-7.72 1.47 1.35L5.41 20z\"/>\n",
              "  </svg>\n",
              "      </button>\n",
              "      \n",
              "  <style>\n",
              "    .colab-df-container {\n",
              "      display:flex;\n",
              "      flex-wrap:wrap;\n",
              "      gap: 12px;\n",
              "    }\n",
              "\n",
              "    .colab-df-convert {\n",
              "      background-color: #E8F0FE;\n",
              "      border: none;\n",
              "      border-radius: 50%;\n",
              "      cursor: pointer;\n",
              "      display: none;\n",
              "      fill: #1967D2;\n",
              "      height: 32px;\n",
              "      padding: 0 0 0 0;\n",
              "      width: 32px;\n",
              "    }\n",
              "\n",
              "    .colab-df-convert:hover {\n",
              "      background-color: #E2EBFA;\n",
              "      box-shadow: 0px 1px 2px rgba(60, 64, 67, 0.3), 0px 1px 3px 1px rgba(60, 64, 67, 0.15);\n",
              "      fill: #174EA6;\n",
              "    }\n",
              "\n",
              "    [theme=dark] .colab-df-convert {\n",
              "      background-color: #3B4455;\n",
              "      fill: #D2E3FC;\n",
              "    }\n",
              "\n",
              "    [theme=dark] .colab-df-convert:hover {\n",
              "      background-color: #434B5C;\n",
              "      box-shadow: 0px 1px 3px 1px rgba(0, 0, 0, 0.15);\n",
              "      filter: drop-shadow(0px 1px 2px rgba(0, 0, 0, 0.3));\n",
              "      fill: #FFFFFF;\n",
              "    }\n",
              "  </style>\n",
              "\n",
              "      <script>\n",
              "        const buttonEl =\n",
              "          document.querySelector('#df-ef63f74d-8505-46b0-bbe2-8e8c01e4bf35 button.colab-df-convert');\n",
              "        buttonEl.style.display =\n",
              "          google.colab.kernel.accessAllowed ? 'block' : 'none';\n",
              "\n",
              "        async function convertToInteractive(key) {\n",
              "          const element = document.querySelector('#df-ef63f74d-8505-46b0-bbe2-8e8c01e4bf35');\n",
              "          const dataTable =\n",
              "            await google.colab.kernel.invokeFunction('convertToInteractive',\n",
              "                                                     [key], {});\n",
              "          if (!dataTable) return;\n",
              "\n",
              "          const docLinkHtml = 'Like what you see? Visit the ' +\n",
              "            '<a target=\"_blank\" href=https://colab.research.google.com/notebooks/data_table.ipynb>data table notebook</a>'\n",
              "            + ' to learn more about interactive tables.';\n",
              "          element.innerHTML = '';\n",
              "          dataTable['output_type'] = 'display_data';\n",
              "          await google.colab.output.renderOutput(dataTable, element);\n",
              "          const docLink = document.createElement('div');\n",
              "          docLink.innerHTML = docLinkHtml;\n",
              "          element.appendChild(docLink);\n",
              "        }\n",
              "      </script>\n",
              "    </div>\n",
              "  </div>\n",
              "  "
            ]
          },
          "metadata": {},
          "execution_count": 41
        }
      ]
    },
    {
      "cell_type": "code",
      "source": [
        "df[df['Nation'] == '2'].head()"
      ],
      "metadata": {
        "colab": {
          "base_uri": "https://localhost:8080/",
          "height": 143
        },
        "id": "VKj7Szw5vUdX",
        "outputId": "10adfcc6-9c5b-446e-abed-5c0d55903f8b"
      },
      "execution_count": 42,
      "outputs": [
        {
          "output_type": "execute_result",
          "data": {
            "text/plain": [
              "       Runs  Mins    BF   4s   6s      SR  Inns       Opposition   Ground  \\\n",
              "26151  10.0  13.0  13.0  1.0  0.0  7692.0   1.0   T20I v Finland  Brondby   \n",
              "75858   1.0   2.0   2.0  0.0  0.0    50.0   1.0  T20I v Zimbabwe   Harare   \n",
              "75902  23.0  45.0  27.0  2.0  0.0  8518.0   1.0  T20I v Zimbabwe   Harare   \n",
              "\n",
              "      Start Date  is_out         Name Nation  \n",
              "26151 2019-07-13    True  Aftab Ahmed      2  \n",
              "75858 2011-09-18    True  Rameez Raja      2  \n",
              "75902 2011-09-16    True  Rameez Raja      2  "
            ],
            "text/html": [
              "\n",
              "  <div id=\"df-b3e911fe-0ca1-4936-a800-fc5bd1801462\">\n",
              "    <div class=\"colab-df-container\">\n",
              "      <div>\n",
              "<style scoped>\n",
              "    .dataframe tbody tr th:only-of-type {\n",
              "        vertical-align: middle;\n",
              "    }\n",
              "\n",
              "    .dataframe tbody tr th {\n",
              "        vertical-align: top;\n",
              "    }\n",
              "\n",
              "    .dataframe thead th {\n",
              "        text-align: right;\n",
              "    }\n",
              "</style>\n",
              "<table border=\"1\" class=\"dataframe\">\n",
              "  <thead>\n",
              "    <tr style=\"text-align: right;\">\n",
              "      <th></th>\n",
              "      <th>Runs</th>\n",
              "      <th>Mins</th>\n",
              "      <th>BF</th>\n",
              "      <th>4s</th>\n",
              "      <th>6s</th>\n",
              "      <th>SR</th>\n",
              "      <th>Inns</th>\n",
              "      <th>Opposition</th>\n",
              "      <th>Ground</th>\n",
              "      <th>Start Date</th>\n",
              "      <th>is_out</th>\n",
              "      <th>Name</th>\n",
              "      <th>Nation</th>\n",
              "    </tr>\n",
              "  </thead>\n",
              "  <tbody>\n",
              "    <tr>\n",
              "      <th>26151</th>\n",
              "      <td>10.0</td>\n",
              "      <td>13.0</td>\n",
              "      <td>13.0</td>\n",
              "      <td>1.0</td>\n",
              "      <td>0.0</td>\n",
              "      <td>7692.0</td>\n",
              "      <td>1.0</td>\n",
              "      <td>T20I v Finland</td>\n",
              "      <td>Brondby</td>\n",
              "      <td>2019-07-13</td>\n",
              "      <td>True</td>\n",
              "      <td>Aftab Ahmed</td>\n",
              "      <td>2</td>\n",
              "    </tr>\n",
              "    <tr>\n",
              "      <th>75858</th>\n",
              "      <td>1.0</td>\n",
              "      <td>2.0</td>\n",
              "      <td>2.0</td>\n",
              "      <td>0.0</td>\n",
              "      <td>0.0</td>\n",
              "      <td>50.0</td>\n",
              "      <td>1.0</td>\n",
              "      <td>T20I v Zimbabwe</td>\n",
              "      <td>Harare</td>\n",
              "      <td>2011-09-18</td>\n",
              "      <td>True</td>\n",
              "      <td>Rameez Raja</td>\n",
              "      <td>2</td>\n",
              "    </tr>\n",
              "    <tr>\n",
              "      <th>75902</th>\n",
              "      <td>23.0</td>\n",
              "      <td>45.0</td>\n",
              "      <td>27.0</td>\n",
              "      <td>2.0</td>\n",
              "      <td>0.0</td>\n",
              "      <td>8518.0</td>\n",
              "      <td>1.0</td>\n",
              "      <td>T20I v Zimbabwe</td>\n",
              "      <td>Harare</td>\n",
              "      <td>2011-09-16</td>\n",
              "      <td>True</td>\n",
              "      <td>Rameez Raja</td>\n",
              "      <td>2</td>\n",
              "    </tr>\n",
              "  </tbody>\n",
              "</table>\n",
              "</div>\n",
              "      <button class=\"colab-df-convert\" onclick=\"convertToInteractive('df-b3e911fe-0ca1-4936-a800-fc5bd1801462')\"\n",
              "              title=\"Convert this dataframe to an interactive table.\"\n",
              "              style=\"display:none;\">\n",
              "        \n",
              "  <svg xmlns=\"http://www.w3.org/2000/svg\" height=\"24px\"viewBox=\"0 0 24 24\"\n",
              "       width=\"24px\">\n",
              "    <path d=\"M0 0h24v24H0V0z\" fill=\"none\"/>\n",
              "    <path d=\"M18.56 5.44l.94 2.06.94-2.06 2.06-.94-2.06-.94-.94-2.06-.94 2.06-2.06.94zm-11 1L8.5 8.5l.94-2.06 2.06-.94-2.06-.94L8.5 2.5l-.94 2.06-2.06.94zm10 10l.94 2.06.94-2.06 2.06-.94-2.06-.94-.94-2.06-.94 2.06-2.06.94z\"/><path d=\"M17.41 7.96l-1.37-1.37c-.4-.4-.92-.59-1.43-.59-.52 0-1.04.2-1.43.59L10.3 9.45l-7.72 7.72c-.78.78-.78 2.05 0 2.83L4 21.41c.39.39.9.59 1.41.59.51 0 1.02-.2 1.41-.59l7.78-7.78 2.81-2.81c.8-.78.8-2.07 0-2.86zM5.41 20L4 18.59l7.72-7.72 1.47 1.35L5.41 20z\"/>\n",
              "  </svg>\n",
              "      </button>\n",
              "      \n",
              "  <style>\n",
              "    .colab-df-container {\n",
              "      display:flex;\n",
              "      flex-wrap:wrap;\n",
              "      gap: 12px;\n",
              "    }\n",
              "\n",
              "    .colab-df-convert {\n",
              "      background-color: #E8F0FE;\n",
              "      border: none;\n",
              "      border-radius: 50%;\n",
              "      cursor: pointer;\n",
              "      display: none;\n",
              "      fill: #1967D2;\n",
              "      height: 32px;\n",
              "      padding: 0 0 0 0;\n",
              "      width: 32px;\n",
              "    }\n",
              "\n",
              "    .colab-df-convert:hover {\n",
              "      background-color: #E2EBFA;\n",
              "      box-shadow: 0px 1px 2px rgba(60, 64, 67, 0.3), 0px 1px 3px 1px rgba(60, 64, 67, 0.15);\n",
              "      fill: #174EA6;\n",
              "    }\n",
              "\n",
              "    [theme=dark] .colab-df-convert {\n",
              "      background-color: #3B4455;\n",
              "      fill: #D2E3FC;\n",
              "    }\n",
              "\n",
              "    [theme=dark] .colab-df-convert:hover {\n",
              "      background-color: #434B5C;\n",
              "      box-shadow: 0px 1px 3px 1px rgba(0, 0, 0, 0.15);\n",
              "      filter: drop-shadow(0px 1px 2px rgba(0, 0, 0, 0.3));\n",
              "      fill: #FFFFFF;\n",
              "    }\n",
              "  </style>\n",
              "\n",
              "      <script>\n",
              "        const buttonEl =\n",
              "          document.querySelector('#df-b3e911fe-0ca1-4936-a800-fc5bd1801462 button.colab-df-convert');\n",
              "        buttonEl.style.display =\n",
              "          google.colab.kernel.accessAllowed ? 'block' : 'none';\n",
              "\n",
              "        async function convertToInteractive(key) {\n",
              "          const element = document.querySelector('#df-b3e911fe-0ca1-4936-a800-fc5bd1801462');\n",
              "          const dataTable =\n",
              "            await google.colab.kernel.invokeFunction('convertToInteractive',\n",
              "                                                     [key], {});\n",
              "          if (!dataTable) return;\n",
              "\n",
              "          const docLinkHtml = 'Like what you see? Visit the ' +\n",
              "            '<a target=\"_blank\" href=https://colab.research.google.com/notebooks/data_table.ipynb>data table notebook</a>'\n",
              "            + ' to learn more about interactive tables.';\n",
              "          element.innerHTML = '';\n",
              "          dataTable['output_type'] = 'display_data';\n",
              "          await google.colab.output.renderOutput(dataTable, element);\n",
              "          const docLink = document.createElement('div');\n",
              "          docLink.innerHTML = docLinkHtml;\n",
              "          element.appendChild(docLink);\n",
              "        }\n",
              "      </script>\n",
              "    </div>\n",
              "  </div>\n",
              "  "
            ]
          },
          "metadata": {},
          "execution_count": 42
        }
      ]
    },
    {
      "cell_type": "code",
      "source": [
        "df[df['Nation'] == '3'].head()"
      ],
      "metadata": {
        "colab": {
          "base_uri": "https://localhost:8080/",
          "height": 206
        },
        "id": "IUspbIF1vWMt",
        "outputId": "00bed591-5d8d-4964-cae9-4b72fb894ae4"
      },
      "execution_count": 43,
      "outputs": [
        {
          "output_type": "execute_result",
          "data": {
            "text/plain": [
              "      Runs  Mins    BF   4s   6s       SR  Inns          Opposition   Ground  \\\n",
              "454    8.0  17.0  13.0  0.0  0.0   6153.0   1.0   ODI v West Indies   Multan   \n",
              "753    3.0  13.0   5.0  0.0  0.0     60.0   1.0   ODI v West Indies   Multan   \n",
              "1007   8.0  12.0   6.0  0.0  1.0  13333.0   2.0   ODI v West Indies   Multan   \n",
              "5624   1.0   3.0   3.0  0.0  0.0   3333.0   1.0  T20I v West Indies  Karachi   \n",
              "5647  30.0  15.0  10.0  3.0  2.0    300.0   1.0  T20I v West Indies  Karachi   \n",
              "\n",
              "     Start Date  is_out            Name Nation  \n",
              "454  2022-06-12    True  Mohammad Nawaz      3  \n",
              "753  2022-06-10    True  Mohammad Nawaz      3  \n",
              "1007 2022-06-08   False  Mohammad Nawaz      3  \n",
              "5624 2021-12-14    True  Mohammad Nawaz      3  \n",
              "5647 2021-12-13   False  Mohammad Nawaz      3  "
            ],
            "text/html": [
              "\n",
              "  <div id=\"df-8d7a3483-ea20-48c6-9c95-8f06831fd2f4\">\n",
              "    <div class=\"colab-df-container\">\n",
              "      <div>\n",
              "<style scoped>\n",
              "    .dataframe tbody tr th:only-of-type {\n",
              "        vertical-align: middle;\n",
              "    }\n",
              "\n",
              "    .dataframe tbody tr th {\n",
              "        vertical-align: top;\n",
              "    }\n",
              "\n",
              "    .dataframe thead th {\n",
              "        text-align: right;\n",
              "    }\n",
              "</style>\n",
              "<table border=\"1\" class=\"dataframe\">\n",
              "  <thead>\n",
              "    <tr style=\"text-align: right;\">\n",
              "      <th></th>\n",
              "      <th>Runs</th>\n",
              "      <th>Mins</th>\n",
              "      <th>BF</th>\n",
              "      <th>4s</th>\n",
              "      <th>6s</th>\n",
              "      <th>SR</th>\n",
              "      <th>Inns</th>\n",
              "      <th>Opposition</th>\n",
              "      <th>Ground</th>\n",
              "      <th>Start Date</th>\n",
              "      <th>is_out</th>\n",
              "      <th>Name</th>\n",
              "      <th>Nation</th>\n",
              "    </tr>\n",
              "  </thead>\n",
              "  <tbody>\n",
              "    <tr>\n",
              "      <th>454</th>\n",
              "      <td>8.0</td>\n",
              "      <td>17.0</td>\n",
              "      <td>13.0</td>\n",
              "      <td>0.0</td>\n",
              "      <td>0.0</td>\n",
              "      <td>6153.0</td>\n",
              "      <td>1.0</td>\n",
              "      <td>ODI v West Indies</td>\n",
              "      <td>Multan</td>\n",
              "      <td>2022-06-12</td>\n",
              "      <td>True</td>\n",
              "      <td>Mohammad Nawaz</td>\n",
              "      <td>3</td>\n",
              "    </tr>\n",
              "    <tr>\n",
              "      <th>753</th>\n",
              "      <td>3.0</td>\n",
              "      <td>13.0</td>\n",
              "      <td>5.0</td>\n",
              "      <td>0.0</td>\n",
              "      <td>0.0</td>\n",
              "      <td>60.0</td>\n",
              "      <td>1.0</td>\n",
              "      <td>ODI v West Indies</td>\n",
              "      <td>Multan</td>\n",
              "      <td>2022-06-10</td>\n",
              "      <td>True</td>\n",
              "      <td>Mohammad Nawaz</td>\n",
              "      <td>3</td>\n",
              "    </tr>\n",
              "    <tr>\n",
              "      <th>1007</th>\n",
              "      <td>8.0</td>\n",
              "      <td>12.0</td>\n",
              "      <td>6.0</td>\n",
              "      <td>0.0</td>\n",
              "      <td>1.0</td>\n",
              "      <td>13333.0</td>\n",
              "      <td>2.0</td>\n",
              "      <td>ODI v West Indies</td>\n",
              "      <td>Multan</td>\n",
              "      <td>2022-06-08</td>\n",
              "      <td>False</td>\n",
              "      <td>Mohammad Nawaz</td>\n",
              "      <td>3</td>\n",
              "    </tr>\n",
              "    <tr>\n",
              "      <th>5624</th>\n",
              "      <td>1.0</td>\n",
              "      <td>3.0</td>\n",
              "      <td>3.0</td>\n",
              "      <td>0.0</td>\n",
              "      <td>0.0</td>\n",
              "      <td>3333.0</td>\n",
              "      <td>1.0</td>\n",
              "      <td>T20I v West Indies</td>\n",
              "      <td>Karachi</td>\n",
              "      <td>2021-12-14</td>\n",
              "      <td>True</td>\n",
              "      <td>Mohammad Nawaz</td>\n",
              "      <td>3</td>\n",
              "    </tr>\n",
              "    <tr>\n",
              "      <th>5647</th>\n",
              "      <td>30.0</td>\n",
              "      <td>15.0</td>\n",
              "      <td>10.0</td>\n",
              "      <td>3.0</td>\n",
              "      <td>2.0</td>\n",
              "      <td>300.0</td>\n",
              "      <td>1.0</td>\n",
              "      <td>T20I v West Indies</td>\n",
              "      <td>Karachi</td>\n",
              "      <td>2021-12-13</td>\n",
              "      <td>False</td>\n",
              "      <td>Mohammad Nawaz</td>\n",
              "      <td>3</td>\n",
              "    </tr>\n",
              "  </tbody>\n",
              "</table>\n",
              "</div>\n",
              "      <button class=\"colab-df-convert\" onclick=\"convertToInteractive('df-8d7a3483-ea20-48c6-9c95-8f06831fd2f4')\"\n",
              "              title=\"Convert this dataframe to an interactive table.\"\n",
              "              style=\"display:none;\">\n",
              "        \n",
              "  <svg xmlns=\"http://www.w3.org/2000/svg\" height=\"24px\"viewBox=\"0 0 24 24\"\n",
              "       width=\"24px\">\n",
              "    <path d=\"M0 0h24v24H0V0z\" fill=\"none\"/>\n",
              "    <path d=\"M18.56 5.44l.94 2.06.94-2.06 2.06-.94-2.06-.94-.94-2.06-.94 2.06-2.06.94zm-11 1L8.5 8.5l.94-2.06 2.06-.94-2.06-.94L8.5 2.5l-.94 2.06-2.06.94zm10 10l.94 2.06.94-2.06 2.06-.94-2.06-.94-.94-2.06-.94 2.06-2.06.94z\"/><path d=\"M17.41 7.96l-1.37-1.37c-.4-.4-.92-.59-1.43-.59-.52 0-1.04.2-1.43.59L10.3 9.45l-7.72 7.72c-.78.78-.78 2.05 0 2.83L4 21.41c.39.39.9.59 1.41.59.51 0 1.02-.2 1.41-.59l7.78-7.78 2.81-2.81c.8-.78.8-2.07 0-2.86zM5.41 20L4 18.59l7.72-7.72 1.47 1.35L5.41 20z\"/>\n",
              "  </svg>\n",
              "      </button>\n",
              "      \n",
              "  <style>\n",
              "    .colab-df-container {\n",
              "      display:flex;\n",
              "      flex-wrap:wrap;\n",
              "      gap: 12px;\n",
              "    }\n",
              "\n",
              "    .colab-df-convert {\n",
              "      background-color: #E8F0FE;\n",
              "      border: none;\n",
              "      border-radius: 50%;\n",
              "      cursor: pointer;\n",
              "      display: none;\n",
              "      fill: #1967D2;\n",
              "      height: 32px;\n",
              "      padding: 0 0 0 0;\n",
              "      width: 32px;\n",
              "    }\n",
              "\n",
              "    .colab-df-convert:hover {\n",
              "      background-color: #E2EBFA;\n",
              "      box-shadow: 0px 1px 2px rgba(60, 64, 67, 0.3), 0px 1px 3px 1px rgba(60, 64, 67, 0.15);\n",
              "      fill: #174EA6;\n",
              "    }\n",
              "\n",
              "    [theme=dark] .colab-df-convert {\n",
              "      background-color: #3B4455;\n",
              "      fill: #D2E3FC;\n",
              "    }\n",
              "\n",
              "    [theme=dark] .colab-df-convert:hover {\n",
              "      background-color: #434B5C;\n",
              "      box-shadow: 0px 1px 3px 1px rgba(0, 0, 0, 0.15);\n",
              "      filter: drop-shadow(0px 1px 2px rgba(0, 0, 0, 0.3));\n",
              "      fill: #FFFFFF;\n",
              "    }\n",
              "  </style>\n",
              "\n",
              "      <script>\n",
              "        const buttonEl =\n",
              "          document.querySelector('#df-8d7a3483-ea20-48c6-9c95-8f06831fd2f4 button.colab-df-convert');\n",
              "        buttonEl.style.display =\n",
              "          google.colab.kernel.accessAllowed ? 'block' : 'none';\n",
              "\n",
              "        async function convertToInteractive(key) {\n",
              "          const element = document.querySelector('#df-8d7a3483-ea20-48c6-9c95-8f06831fd2f4');\n",
              "          const dataTable =\n",
              "            await google.colab.kernel.invokeFunction('convertToInteractive',\n",
              "                                                     [key], {});\n",
              "          if (!dataTable) return;\n",
              "\n",
              "          const docLinkHtml = 'Like what you see? Visit the ' +\n",
              "            '<a target=\"_blank\" href=https://colab.research.google.com/notebooks/data_table.ipynb>data table notebook</a>'\n",
              "            + ' to learn more about interactive tables.';\n",
              "          element.innerHTML = '';\n",
              "          dataTable['output_type'] = 'display_data';\n",
              "          await google.colab.output.renderOutput(dataTable, element);\n",
              "          const docLink = document.createElement('div');\n",
              "          docLink.innerHTML = docLinkHtml;\n",
              "          element.appendChild(docLink);\n",
              "        }\n",
              "      </script>\n",
              "    </div>\n",
              "  </div>\n",
              "  "
            ]
          },
          "metadata": {},
          "execution_count": 43
        }
      ]
    },
    {
      "cell_type": "markdown",
      "source": [
        "Thanks to every one's friendly neighborhood search engine (Google Chrome), I found out the actual nations for these rows. And I just realized that we have a phantom \"blank string\" country too, let us see what's the deal with them!"
      ],
      "metadata": {
        "id": "KitNOcb4cl66"
      }
    },
    {
      "cell_type": "code",
      "source": [
        "df[df['Nation'] == ''].head()"
      ],
      "metadata": {
        "colab": {
          "base_uri": "https://localhost:8080/",
          "height": 206
        },
        "id": "JCMOv7xXw0rm",
        "outputId": "44fca49f-35a6-44c8-f7f4-ff1f307b2818"
      },
      "execution_count": 44,
      "outputs": [
        {
          "output_type": "execute_result",
          "data": {
            "text/plain": [
              "      Runs  Mins    BF   4s   6s      SR  Inns     Opposition  Ground  \\\n",
              "8384  31.0  39.0  32.0  4.0  1.0  9687.0   1.0  T20I v Rwanda  Rwanda   \n",
              "8386   0.0   2.0   1.0  0.0  0.0     0.0   1.0  T20I v Rwanda  Rwanda   \n",
              "8388  11.0  22.0  12.0  1.0  0.0  9166.0   1.0  T20I v Rwanda  Rwanda   \n",
              "8390   0.0   3.0   2.0  0.0  0.0     0.0   1.0  T20I v Rwanda  Rwanda   \n",
              "8392   7.0  26.0  12.0  0.0  0.0  5833.0   1.0  T20I v Rwanda  Rwanda   \n",
              "\n",
              "     Start Date  is_out           Name Nation  \n",
              "8384 2021-10-22    True       C Forbes         \n",
              "8386 2021-10-22    True  Muhammad Amin         \n",
              "8388 2021-10-22    True     Naeem Gull         \n",
              "8390 2021-10-22    True    J Ghadiyali         \n",
              "8392 2021-10-22    True      JJ Wright         "
            ],
            "text/html": [
              "\n",
              "  <div id=\"df-a30544cb-e994-4b0c-a321-b8d8902d2623\">\n",
              "    <div class=\"colab-df-container\">\n",
              "      <div>\n",
              "<style scoped>\n",
              "    .dataframe tbody tr th:only-of-type {\n",
              "        vertical-align: middle;\n",
              "    }\n",
              "\n",
              "    .dataframe tbody tr th {\n",
              "        vertical-align: top;\n",
              "    }\n",
              "\n",
              "    .dataframe thead th {\n",
              "        text-align: right;\n",
              "    }\n",
              "</style>\n",
              "<table border=\"1\" class=\"dataframe\">\n",
              "  <thead>\n",
              "    <tr style=\"text-align: right;\">\n",
              "      <th></th>\n",
              "      <th>Runs</th>\n",
              "      <th>Mins</th>\n",
              "      <th>BF</th>\n",
              "      <th>4s</th>\n",
              "      <th>6s</th>\n",
              "      <th>SR</th>\n",
              "      <th>Inns</th>\n",
              "      <th>Opposition</th>\n",
              "      <th>Ground</th>\n",
              "      <th>Start Date</th>\n",
              "      <th>is_out</th>\n",
              "      <th>Name</th>\n",
              "      <th>Nation</th>\n",
              "    </tr>\n",
              "  </thead>\n",
              "  <tbody>\n",
              "    <tr>\n",
              "      <th>8384</th>\n",
              "      <td>31.0</td>\n",
              "      <td>39.0</td>\n",
              "      <td>32.0</td>\n",
              "      <td>4.0</td>\n",
              "      <td>1.0</td>\n",
              "      <td>9687.0</td>\n",
              "      <td>1.0</td>\n",
              "      <td>T20I v Rwanda</td>\n",
              "      <td>Rwanda</td>\n",
              "      <td>2021-10-22</td>\n",
              "      <td>True</td>\n",
              "      <td>C Forbes</td>\n",
              "      <td></td>\n",
              "    </tr>\n",
              "    <tr>\n",
              "      <th>8386</th>\n",
              "      <td>0.0</td>\n",
              "      <td>2.0</td>\n",
              "      <td>1.0</td>\n",
              "      <td>0.0</td>\n",
              "      <td>0.0</td>\n",
              "      <td>0.0</td>\n",
              "      <td>1.0</td>\n",
              "      <td>T20I v Rwanda</td>\n",
              "      <td>Rwanda</td>\n",
              "      <td>2021-10-22</td>\n",
              "      <td>True</td>\n",
              "      <td>Muhammad Amin</td>\n",
              "      <td></td>\n",
              "    </tr>\n",
              "    <tr>\n",
              "      <th>8388</th>\n",
              "      <td>11.0</td>\n",
              "      <td>22.0</td>\n",
              "      <td>12.0</td>\n",
              "      <td>1.0</td>\n",
              "      <td>0.0</td>\n",
              "      <td>9166.0</td>\n",
              "      <td>1.0</td>\n",
              "      <td>T20I v Rwanda</td>\n",
              "      <td>Rwanda</td>\n",
              "      <td>2021-10-22</td>\n",
              "      <td>True</td>\n",
              "      <td>Naeem Gull</td>\n",
              "      <td></td>\n",
              "    </tr>\n",
              "    <tr>\n",
              "      <th>8390</th>\n",
              "      <td>0.0</td>\n",
              "      <td>3.0</td>\n",
              "      <td>2.0</td>\n",
              "      <td>0.0</td>\n",
              "      <td>0.0</td>\n",
              "      <td>0.0</td>\n",
              "      <td>1.0</td>\n",
              "      <td>T20I v Rwanda</td>\n",
              "      <td>Rwanda</td>\n",
              "      <td>2021-10-22</td>\n",
              "      <td>True</td>\n",
              "      <td>J Ghadiyali</td>\n",
              "      <td></td>\n",
              "    </tr>\n",
              "    <tr>\n",
              "      <th>8392</th>\n",
              "      <td>7.0</td>\n",
              "      <td>26.0</td>\n",
              "      <td>12.0</td>\n",
              "      <td>0.0</td>\n",
              "      <td>0.0</td>\n",
              "      <td>5833.0</td>\n",
              "      <td>1.0</td>\n",
              "      <td>T20I v Rwanda</td>\n",
              "      <td>Rwanda</td>\n",
              "      <td>2021-10-22</td>\n",
              "      <td>True</td>\n",
              "      <td>JJ Wright</td>\n",
              "      <td></td>\n",
              "    </tr>\n",
              "  </tbody>\n",
              "</table>\n",
              "</div>\n",
              "      <button class=\"colab-df-convert\" onclick=\"convertToInteractive('df-a30544cb-e994-4b0c-a321-b8d8902d2623')\"\n",
              "              title=\"Convert this dataframe to an interactive table.\"\n",
              "              style=\"display:none;\">\n",
              "        \n",
              "  <svg xmlns=\"http://www.w3.org/2000/svg\" height=\"24px\"viewBox=\"0 0 24 24\"\n",
              "       width=\"24px\">\n",
              "    <path d=\"M0 0h24v24H0V0z\" fill=\"none\"/>\n",
              "    <path d=\"M18.56 5.44l.94 2.06.94-2.06 2.06-.94-2.06-.94-.94-2.06-.94 2.06-2.06.94zm-11 1L8.5 8.5l.94-2.06 2.06-.94-2.06-.94L8.5 2.5l-.94 2.06-2.06.94zm10 10l.94 2.06.94-2.06 2.06-.94-2.06-.94-.94-2.06-.94 2.06-2.06.94z\"/><path d=\"M17.41 7.96l-1.37-1.37c-.4-.4-.92-.59-1.43-.59-.52 0-1.04.2-1.43.59L10.3 9.45l-7.72 7.72c-.78.78-.78 2.05 0 2.83L4 21.41c.39.39.9.59 1.41.59.51 0 1.02-.2 1.41-.59l7.78-7.78 2.81-2.81c.8-.78.8-2.07 0-2.86zM5.41 20L4 18.59l7.72-7.72 1.47 1.35L5.41 20z\"/>\n",
              "  </svg>\n",
              "      </button>\n",
              "      \n",
              "  <style>\n",
              "    .colab-df-container {\n",
              "      display:flex;\n",
              "      flex-wrap:wrap;\n",
              "      gap: 12px;\n",
              "    }\n",
              "\n",
              "    .colab-df-convert {\n",
              "      background-color: #E8F0FE;\n",
              "      border: none;\n",
              "      border-radius: 50%;\n",
              "      cursor: pointer;\n",
              "      display: none;\n",
              "      fill: #1967D2;\n",
              "      height: 32px;\n",
              "      padding: 0 0 0 0;\n",
              "      width: 32px;\n",
              "    }\n",
              "\n",
              "    .colab-df-convert:hover {\n",
              "      background-color: #E2EBFA;\n",
              "      box-shadow: 0px 1px 2px rgba(60, 64, 67, 0.3), 0px 1px 3px 1px rgba(60, 64, 67, 0.15);\n",
              "      fill: #174EA6;\n",
              "    }\n",
              "\n",
              "    [theme=dark] .colab-df-convert {\n",
              "      background-color: #3B4455;\n",
              "      fill: #D2E3FC;\n",
              "    }\n",
              "\n",
              "    [theme=dark] .colab-df-convert:hover {\n",
              "      background-color: #434B5C;\n",
              "      box-shadow: 0px 1px 3px 1px rgba(0, 0, 0, 0.15);\n",
              "      filter: drop-shadow(0px 1px 2px rgba(0, 0, 0, 0.3));\n",
              "      fill: #FFFFFF;\n",
              "    }\n",
              "  </style>\n",
              "\n",
              "      <script>\n",
              "        const buttonEl =\n",
              "          document.querySelector('#df-a30544cb-e994-4b0c-a321-b8d8902d2623 button.colab-df-convert');\n",
              "        buttonEl.style.display =\n",
              "          google.colab.kernel.accessAllowed ? 'block' : 'none';\n",
              "\n",
              "        async function convertToInteractive(key) {\n",
              "          const element = document.querySelector('#df-a30544cb-e994-4b0c-a321-b8d8902d2623');\n",
              "          const dataTable =\n",
              "            await google.colab.kernel.invokeFunction('convertToInteractive',\n",
              "                                                     [key], {});\n",
              "          if (!dataTable) return;\n",
              "\n",
              "          const docLinkHtml = 'Like what you see? Visit the ' +\n",
              "            '<a target=\"_blank\" href=https://colab.research.google.com/notebooks/data_table.ipynb>data table notebook</a>'\n",
              "            + ' to learn more about interactive tables.';\n",
              "          element.innerHTML = '';\n",
              "          dataTable['output_type'] = 'display_data';\n",
              "          await google.colab.output.renderOutput(dataTable, element);\n",
              "          const docLink = document.createElement('div');\n",
              "          docLink.innerHTML = docLinkHtml;\n",
              "          element.appendChild(docLink);\n",
              "        }\n",
              "      </script>\n",
              "    </div>\n",
              "  </div>\n",
              "  "
            ]
          },
          "metadata": {},
          "execution_count": 44
        }
      ]
    },
    {
      "cell_type": "markdown",
      "source": [
        "Data pertaining to Nation == ' ' represents a qualifier game between the associate nations. We can replace the nation for these as 'rest' as there are only few entries available for them."
      ],
      "metadata": {
        "id": "zt1uZ66ac3LW"
      }
    },
    {
      "cell_type": "code",
      "source": [
        "df['Nation'] = df['Nation'].replace({'1':'PAK', '2': 'DEN', '3': 'PAK','': 'rest'})"
      ],
      "metadata": {
        "id": "VQSXMF5Dv8nB"
      },
      "execution_count": 45,
      "outputs": []
    },
    {
      "cell_type": "markdown",
      "source": [
        "Now, let us find the grouped sum once again!"
      ],
      "metadata": {
        "id": "XeSBhgBwdRSz"
      }
    },
    {
      "cell_type": "code",
      "source": [
        "df.groupby('Nation')['Runs'].sum().sort_values(ascending = False)"
      ],
      "metadata": {
        "colab": {
          "base_uri": "https://localhost:8080/"
        },
        "id": "6xAbrF9Swo5t",
        "outputId": "b3f9b19f-4d80-4119-a4dd-1ea7764d1e4c"
      },
      "execution_count": 46,
      "outputs": [
        {
          "output_type": "execute_result",
          "data": {
            "text/plain": [
              "Nation\n",
              "AUS      424751.0\n",
              "ENG      381943.0\n",
              "INDIA    352881.0\n",
              "PAK      307927.0\n",
              "NZ       302106.0\n",
              "SL       283290.0\n",
              "SA       282525.0\n",
              "WI       281101.0\n",
              "ZIM      146984.0\n",
              "BAN      126591.0\n",
              "IRE       30015.0\n",
              "AFG       24184.0\n",
              "KENYA     20955.0\n",
              "NED       18679.0\n",
              "SCOT      16303.0\n",
              "CAN       10688.0\n",
              "UAE        6276.0\n",
              "BMUDA      4034.0\n",
              "HKG        2472.0\n",
              "NAM        2315.0\n",
              "Asia       1577.0\n",
              "PNG        1381.0\n",
              "TAN        1377.0\n",
              "Afr        1364.0\n",
              "UGA        1362.0\n",
              "ICC        1173.0\n",
              "OMA        1086.0\n",
              "NEPAL      1060.0\n",
              "Ghana       703.0\n",
              "Caym        662.0\n",
              "RWN         656.0\n",
              "MWI         617.0\n",
              "NGA         539.0\n",
              "Bhm         537.0\n",
              "LES         528.0\n",
              "MOZ         518.0\n",
              "SEY         511.0\n",
              "CZK-R       494.0\n",
              "rest        481.0\n",
              "BOT         467.0\n",
              "SGP         418.0\n",
              "KUW         331.0\n",
              "SLE         313.0\n",
              "ROM         310.0\n",
              "QAT         307.0\n",
              "MAL         304.0\n",
              "USA         298.0\n",
              "LUX         261.0\n",
              "JER         258.0\n",
              "DEN         249.0\n",
              "Aut         240.0\n",
              "CAM         214.0\n",
              "GUE         209.0\n",
              "Fin         185.0\n",
              "TKY          66.0\n",
              "Name: Runs, dtype: float64"
            ]
          },
          "metadata": {},
          "execution_count": 46
        }
      ]
    },
    {
      "cell_type": "markdown",
      "source": [
        "No surprises here! Aussies top the list, with England and India taking the second and third place.\n",
        "\n",
        "But there has been a lot of discussion in the cricketing world that Aussies lost their dominance in the recent years, and England and India have leapfrogged Australia in many aspects of the game. \n",
        "\n",
        "Without a factual basis, this statement is just another biased opinion. Let us try to ask the data its view on this opinion!"
      ],
      "metadata": {
        "id": "y9N_05EydVcX"
      }
    },
    {
      "cell_type": "markdown",
      "source": [
        "# Is it the end of era already for Aussies?"
      ],
      "metadata": {
        "id": "0zAC9Z71d_zR"
      }
    },
    {
      "cell_type": "markdown",
      "source": [
        "Let us try to extract the year from the Start Date column.\n",
        "\n",
        "It helps us perform the analysis by grouping data into decades to see how the total runs scored by countries changed over the decades."
      ],
      "metadata": {
        "id": "xJQOpX-LeHmf"
      }
    },
    {
      "cell_type": "code",
      "source": [
        "df['year'] = df['Start Date'].dt.year"
      ],
      "metadata": {
        "id": "OF8tc-EQEu0o"
      },
      "execution_count": 47,
      "outputs": []
    },
    {
      "cell_type": "markdown",
      "source": [
        "Now, its time to be nostalgic!\n",
        "\n",
        "Let us seggregate the data for eighties, nineties, 2000s, 2010s, and 2020s."
      ],
      "metadata": {
        "id": "HSuwI8SNeY_H"
      }
    },
    {
      "cell_type": "code",
      "source": [
        "df_eighties = df[df['year'] > 1980]\n",
        "df_eighties = df_eighties[df_eighties['year'] < 1990]"
      ],
      "metadata": {
        "id": "ivPSAwAOz-aC"
      },
      "execution_count": 48,
      "outputs": []
    },
    {
      "cell_type": "code",
      "source": [
        "assert df_eighties['year'].max() < 1990 and df_eighties['year'].min() > 1980 # to double check that correct years were placed in this group"
      ],
      "metadata": {
        "id": "VmAUXJCv0VHs"
      },
      "execution_count": 49,
      "outputs": []
    },
    {
      "cell_type": "code",
      "source": [
        "df_nineties = df[df['year'] >= 1990]\n",
        "df_nineties = df_nineties[df_nineties['year'] < 2000]"
      ],
      "metadata": {
        "id": "fzNnAX5A0hAJ"
      },
      "execution_count": 50,
      "outputs": []
    },
    {
      "cell_type": "code",
      "source": [
        "df_2000s = df[df['year'] >= 2000]\n",
        "df_2000s = df_2000s[df_2000s['year'] < 2010]"
      ],
      "metadata": {
        "id": "DE9EHDc31Zpi"
      },
      "execution_count": 51,
      "outputs": []
    },
    {
      "cell_type": "code",
      "source": [
        "df_2010s = df[df['year'] >= 2010]\n",
        "df_2010s = df_2010s[df_2010s['year'] < 2020]"
      ],
      "metadata": {
        "id": "kCeZP9b91oFJ"
      },
      "execution_count": 52,
      "outputs": []
    },
    {
      "cell_type": "code",
      "source": [
        "df_2020s = df[df['year'] >= 2020]\n",
        "df_2020s = df_2020s[df_2020s['year'] < 2023]"
      ],
      "metadata": {
        "id": "Ma3A4AQl1tmo"
      },
      "execution_count": 53,
      "outputs": []
    },
    {
      "cell_type": "markdown",
      "source": [
        "Let us try to confirm that sum of the parts make up the whole here to ensure that no rows are left behind!"
      ],
      "metadata": {
        "id": "fAqspU7Peuca"
      }
    },
    {
      "cell_type": "code",
      "source": [
        "print( df_eighties.shape[0] + df_nineties.shape[0] + df_2000s.shape[0] + df_2010s.shape[0] + df_2020s.shape[0])"
      ],
      "metadata": {
        "colab": {
          "base_uri": "https://localhost:8080/"
        },
        "id": "0tYjmNLR12FL",
        "outputId": "2ec5af50-3074-4e65-986e-8e5b741d1efd"
      },
      "execution_count": 54,
      "outputs": [
        {
          "output_type": "stream",
          "name": "stdout",
          "text": [
            "125309\n"
          ]
        }
      ]
    },
    {
      "cell_type": "code",
      "source": [
        "print(df.shape[0])"
      ],
      "metadata": {
        "colab": {
          "base_uri": "https://localhost:8080/"
        },
        "id": "KvAFQY3O2Vx9",
        "outputId": "6a016916-6794-4159-d9ff-2b9eded03fc3"
      },
      "execution_count": 55,
      "outputs": [
        {
          "output_type": "stream",
          "name": "stdout",
          "text": [
            "125309\n"
          ]
        }
      ]
    },
    {
      "cell_type": "markdown",
      "source": [
        "Now it's time for us to group the data by Nation in each decade and compare the total runs scored stat with the help of bar charts!\n",
        "\n",
        "Note that we have restricted only top five countries each decade to depict in the bar chart!"
      ],
      "metadata": {
        "id": "__Q7Y8JSe5rQ"
      }
    },
    {
      "cell_type": "code",
      "source": [
        "df_plt1 = df_eighties.groupby('Nation')['Runs'].sum().sort_values(ascending = False).head(5)"
      ],
      "metadata": {
        "id": "PnzHUoMm2ZV8"
      },
      "execution_count": 56,
      "outputs": []
    },
    {
      "cell_type": "code",
      "source": [
        "df_plt2 = df_nineties.groupby('Nation')['Runs'].sum().sort_values(ascending = False).head(5)"
      ],
      "metadata": {
        "id": "UjdG-N0S2oTV"
      },
      "execution_count": 57,
      "outputs": []
    },
    {
      "cell_type": "code",
      "source": [
        "df_plt3 = df_2000s.groupby('Nation')['Runs'].sum().sort_values(ascending = False).head(5)"
      ],
      "metadata": {
        "id": "_wkfFkfi2sx9"
      },
      "execution_count": 58,
      "outputs": []
    },
    {
      "cell_type": "code",
      "source": [
        "df_plt4 = df_2010s.groupby('Nation')['Runs'].sum().sort_values(ascending = False).head(5)"
      ],
      "metadata": {
        "id": "KdztE7Ba2wP0"
      },
      "execution_count": 59,
      "outputs": []
    },
    {
      "cell_type": "code",
      "source": [
        "fig, ax = plt.subplots(nrows=2, ncols=2, sharey=True)\n",
        "ax[0,0].bar(df_plt1.index, df_plt1)\n",
        "ax[0,1].bar(df_plt2.index, df_plt2, color = 'red')\n",
        "ax[1,0].bar(df_plt3.index, df_plt3, color = 'yellow')\n",
        "ax[1,1].bar(df_plt4.index, df_plt4, color = 'green')\n",
        "#ax5.bar(df_plt5.index, df_plt5, color = 'black')\n",
        "ax[0,0].set_title('1980-1989')\n",
        "ax[0,1].set_title('1990-1999')\n",
        "ax[1,0].set_title('2000-2009')\n",
        "ax[1,1].set_title('2010-2019')\n",
        "plt.suptitle(\"A plot depicting the variation in total runs scored by top five countries across the decades\")\n",
        "plt.show()"
      ],
      "metadata": {
        "colab": {
          "base_uri": "https://localhost:8080/",
          "height": 809
        },
        "id": "pXoj9Qi-3504",
        "outputId": "2be17702-50fb-487e-df69-f6395f7714a9"
      },
      "execution_count": 61,
      "outputs": [
        {
          "output_type": "display_data",
          "data": {
            "text/plain": [
              "<Figure size 1440x864 with 4 Axes>"
            ],
            "image/png": "[encoded data removed]"
          },
          "metadata": {}
        }
      ]
    },
    {
      "cell_type": "markdown",
      "source": [
        "India is no where in the frame between the years 1980 - 1989, but then 1983 world cup happened. India lifted its first ever world cup during that tournament, which I believe acted as a catalyst for the increase in the popularity of Cricket in India. Several youngsters started to take bats and balls out of their playing room shelfs to emulate the 1983 world cup heroes. It took time for these youngsters to break into the Indian cricket team, but once they started breaking in, the result is that India shone brighter in many vital stats since 1990. \n",
        "\n",
        "But coming to the case of Aussies, they did dominate the scoring charts until 2009, but they were relegated to second position from 2010. But they are still an excellent team, they have a cricket world cup win in 2015 to show in the 2010-2019 decade.\n",
        "\n",
        "One cannot overlook England's consistency in scoring runs (England did produce many classy batsmen like Cook, Strauss, Root, etc in last few decades).\n",
        "\n",
        "New Zealand and Pakistan are missing in the graph for two decades between 2000 and 2019, which also coincided with the rise of Sri Lanka and South Africa as cricketing powers. But the recent resurgence of Pakistan and New Zealand's cricket teams coupled with the political issues in Sri Lanka and South Africa means it is inevitable for the interchange to happen in the scoring ranks for this decade!\n",
        "\n"
      ],
      "metadata": {
        "id": "knZtxkBifUR2"
      }
    },
    {
      "cell_type": "markdown",
      "source": [
        "# Were players in the eighties meaner than today's players?"
      ],
      "metadata": {
        "id": "xK-DAZ3ch9C2"
      }
    },
    {
      "cell_type": "markdown",
      "source": [
        "Let me apologize and admit that I am referring to mean in a statistical sense here!\n",
        "\n",
        "Let us go ahead and try to see if there is any change in the statistical measure of runs scored across the decades."
      ],
      "metadata": {
        "id": "ydCHiuF_iKvn"
      }
    },
    {
      "cell_type": "code",
      "source": [
        "df_eighties['Runs'].mean()"
      ],
      "metadata": {
        "colab": {
          "base_uri": "https://localhost:8080/"
        },
        "id": "3oEq642_AEU3",
        "outputId": "892e95a1-c1b4-4e51-a7a8-96f1e0430518"
      },
      "execution_count": 62,
      "outputs": [
        {
          "output_type": "execute_result",
          "data": {
            "text/plain": [
              "24.744323106257582"
            ]
          },
          "metadata": {},
          "execution_count": 62
        }
      ]
    },
    {
      "cell_type": "code",
      "source": [
        "df_nineties['Runs'].mean()"
      ],
      "metadata": {
        "colab": {
          "base_uri": "https://localhost:8080/"
        },
        "id": "e9zSQ7U5AL4y",
        "outputId": "15a70bc3-0baa-42e2-f016-01dd973fe1ae"
      },
      "execution_count": 63,
      "outputs": [
        {
          "output_type": "execute_result",
          "data": {
            "text/plain": [
              "24.029510528187096"
            ]
          },
          "metadata": {},
          "execution_count": 63
        }
      ]
    },
    {
      "cell_type": "code",
      "source": [
        "df_2000s['Runs'].mean()"
      ],
      "metadata": {
        "colab": {
          "base_uri": "https://localhost:8080/"
        },
        "id": "0MBIFf_NAOw7",
        "outputId": "aa0333e3-c669-4ef0-c5d2-b76217eb44bc"
      },
      "execution_count": 64,
      "outputs": [
        {
          "output_type": "execute_result",
          "data": {
            "text/plain": [
              "24.702186878727634"
            ]
          },
          "metadata": {},
          "execution_count": 64
        }
      ]
    },
    {
      "cell_type": "code",
      "source": [
        "df_2010s['Runs'].mean()"
      ],
      "metadata": {
        "colab": {
          "base_uri": "https://localhost:8080/"
        },
        "id": "EW9w0e86ASRd",
        "outputId": "320275bb-9b59-4746-8192-cd29ce9685cd"
      },
      "execution_count": 65,
      "outputs": [
        {
          "output_type": "execute_result",
          "data": {
            "text/plain": [
              "24.57575450421914"
            ]
          },
          "metadata": {},
          "execution_count": 65
        }
      ]
    },
    {
      "cell_type": "code",
      "source": [
        "df_2020s['Runs'].mean()"
      ],
      "metadata": {
        "colab": {
          "base_uri": "https://localhost:8080/"
        },
        "id": "jsuQaqPzAU7y",
        "outputId": "52b0f148-4590-4c7a-b73b-7c7fc3b0ab4d"
      },
      "execution_count": 66,
      "outputs": [
        {
          "output_type": "execute_result",
          "data": {
            "text/plain": [
              "21.641119360365504"
            ]
          },
          "metadata": {},
          "execution_count": 66
        }
      ]
    },
    {
      "cell_type": "markdown",
      "source": [
        "Well, 24 seems to be the golden standard of batting average here. Between 2020 to 2022, this average is at 21, so I am expecting higher scores in the next few years until 2029 to compensate for the low average. "
      ],
      "metadata": {
        "id": "VfQQQRziibQ2"
      }
    },
    {
      "cell_type": "markdown",
      "source": [
        "#The era of power hitters"
      ],
      "metadata": {
        "id": "PbIAhx_ui4aT"
      }
    },
    {
      "cell_type": "markdown",
      "source": [
        "The introduction of T-20 format in Cricket could be considered as vital as the discovery of electromagnetism to Physics!\n",
        "\n",
        "T-20 condensed the entire game time (which correlated with the shrinking attention spans of its audience) to make cricket more appealing to new generations.\n",
        "\n",
        "T-20 cricket gave a boost to a new type of batsmen who are comfortable hitting the ball out of the park than playing defence. They are usually called as 'power hitters.'\n",
        "\n",
        "One of the unique traits of these power hitters is that they often hit more than average number of sixers in a match, but stay for a little time in the crease.\n",
        "\n",
        "We can find out such power hitters in the dataset based on the below logic:\n",
        "\n",
        "Their individual average sixers scored per match is more than the average sixers per match for the whole dataset.\n",
        "\n",
        "Their individual average mins spent in the crease per match is less than the average mins spent per match for the whole dataset."
      ],
      "metadata": {
        "id": "-W9VFM8Sp8Kg"
      }
    },
    {
      "cell_type": "markdown",
      "source": [
        "Let us find the average of 6s column for the whole dataset first:"
      ],
      "metadata": {
        "id": "s7dEW3Catcay"
      }
    },
    {
      "cell_type": "code",
      "source": [
        "total_sixer_mean = df['6s'].mean()"
      ],
      "metadata": {
        "id": "Tm47u5MJtlcU"
      },
      "execution_count": 120,
      "outputs": []
    },
    {
      "cell_type": "markdown",
      "source": [
        "Now, let us find this average for each player:"
      ],
      "metadata": {
        "id": "u3-mlhwduALR"
      }
    },
    {
      "cell_type": "code",
      "source": [
        "df.groupby('Name').mean()['6s'].sort_values(ascending = False)"
      ],
      "metadata": {
        "colab": {
          "base_uri": "https://localhost:8080/"
        },
        "id": "0BXnG-50vigE",
        "outputId": "823bc087-8e39-4268-d37a-7c70505100ce"
      },
      "execution_count": 121,
      "outputs": [
        {
          "output_type": "execute_result",
          "data": {
            "text/plain": [
              "Name\n",
              "S Wickramasekara     6.0\n",
              "Muhammad Kashif      4.5\n",
              "H Gori               3.5\n",
              "Ijaz Hussain         3.0\n",
              "S Davizi             3.0\n",
              "                    ... \n",
              "KT Sandher           0.0\n",
              "KS Bagabena          0.0\n",
              "KPJ Warnaweera       0.0\n",
              "KP Walmsley          0.0\n",
              "Zulqarnain Haider    0.0\n",
              "Name: 6s, Length: 3019, dtype: float64"
            ]
          },
          "metadata": {},
          "execution_count": 121
        }
      ]
    },
    {
      "cell_type": "markdown",
      "source": [
        "It would be fallacious if we don't filter this to include only those who scored at least 50 sixers or more"
      ],
      "metadata": {
        "id": "RAYNerQpuVFh"
      }
    },
    {
      "cell_type": "code",
      "source": [
        "df_six = df.groupby('Name').mean()['6s'].sort_values(ascending = False)[df.groupby('Name').sum()['6s'].sort_values(ascending = False) > 50.0]"
      ],
      "metadata": {
        "id": "TpBdiWKkuHkI"
      },
      "execution_count": 125,
      "outputs": []
    },
    {
      "cell_type": "markdown",
      "source": [
        "Now, let us filter all the entries where average is greater than the value we stored in the variable 'total_sixer_mean.'"
      ],
      "metadata": {
        "id": "GQRnMeCRwpfw"
      }
    },
    {
      "cell_type": "code",
      "source": [
        "df_six = df_six[df_six > total_sixer_mean]"
      ],
      "metadata": {
        "id": "2pqPCPSYwRcC"
      },
      "execution_count": 127,
      "outputs": []
    },
    {
      "cell_type": "markdown",
      "source": [
        "It's time to find the average mins spent for whole dataset:"
      ],
      "metadata": {
        "id": "l4uFLSibw9XU"
      }
    },
    {
      "cell_type": "code",
      "source": [
        "avg_mins = df['Mins'].mean()"
      ],
      "metadata": {
        "id": "tXfUedO3vxsX"
      },
      "execution_count": 129,
      "outputs": []
    },
    {
      "cell_type": "markdown",
      "source": [
        "Now, let us filter the players who have lesser individual average for the mins spent column than the average mins spent for whole dataset."
      ],
      "metadata": {
        "id": "BLf-yB7HyovG"
      }
    },
    {
      "cell_type": "code",
      "source": [
        "df_min = df.groupby('Name').mean()['Mins'].sort_values(ascending = False)[df.groupby('Name').mean()['Mins'].sort_values(ascending = False) < avg_mins]"
      ],
      "metadata": {
        "id": "qx78lSD2xINk"
      },
      "execution_count": 130,
      "outputs": []
    },
    {
      "cell_type": "markdown",
      "source": [
        "We are almost ready to welcome the power hitters, they are at the moment resting behind the door of the inner join between the df_six and df_min dataframes!"
      ],
      "metadata": {
        "id": "Z8DSFCm6y4WP"
      }
    },
    {
      "cell_type": "code",
      "source": [
        "df_min = df_min.reset_index()\n",
        "df_six = df_six.reset_index()\n"
      ],
      "metadata": {
        "id": "minTWgwXxb3F"
      },
      "execution_count": 135,
      "outputs": []
    },
    {
      "cell_type": "code",
      "source": [
        "df_pw = pd.merge(df_min, df_six, on = 'Name', how = 'inner')"
      ],
      "metadata": {
        "id": "__G2tgHbx_rE"
      },
      "execution_count": 139,
      "outputs": []
    },
    {
      "cell_type": "code",
      "source": [
        "df_pw = df_pw.sort_values(by = '6s', ascending = False)"
      ],
      "metadata": {
        "id": "zh6cB-1dyWCi"
      },
      "execution_count": 142,
      "outputs": []
    },
    {
      "cell_type": "code",
      "source": [
        "df_pw.info()"
      ],
      "metadata": {
        "colab": {
          "base_uri": "https://localhost:8080/"
        },
        "id": "lpL8_xqpzR7E",
        "outputId": "fcc42350-ff9d-4c6f-eb06-1cb1556c585f"
      },
      "execution_count": 143,
      "outputs": [
        {
          "output_type": "stream",
          "name": "stdout",
          "text": [
            "<class 'pandas.core.frame.DataFrame'>\n",
            "Int64Index: 78 entries, 26 to 66\n",
            "Data columns (total 4 columns):\n",
            " #   Column  Non-Null Count  Dtype  \n",
            "---  ------  --------------  -----  \n",
            " 0   index   78 non-null     int64  \n",
            " 1   Name    78 non-null     object \n",
            " 2   Mins    78 non-null     float64\n",
            " 3   6s      78 non-null     float64\n",
            "dtypes: float64(2), int64(1), object(1)\n",
            "memory usage: 3.0+ KB\n"
          ]
        }
      ]
    },
    {
      "cell_type": "markdown",
      "source": [
        "Well, we unearthed 78 power hitters out of this dataset. Let us take a look at few names!"
      ],
      "metadata": {
        "id": "Rb5-U4TzzWYs"
      }
    },
    {
      "cell_type": "code",
      "source": [
        "df_pw.head(20)"
      ],
      "metadata": {
        "colab": {
          "base_uri": "https://localhost:8080/",
          "height": 676
        },
        "id": "CcJGnsD9zdLY",
        "outputId": "a4e5e17a-5cfe-4846-9014-b422bfffd5e7"
      },
      "execution_count": 144,
      "outputs": [
        {
          "output_type": "execute_result",
          "data": {
            "text/plain": [
              "    index               Name       Mins        6s\n",
              "26    216            E Lewis  46.294118  1.431373\n",
              "48    460           N Pooran  38.032787  1.213115\n",
              "61    756            C Munro  30.711340  1.206186\n",
              "45    405        CJ Anderson  39.880952  1.083333\n",
              "62    776         KA Pollard  30.130435  1.055901\n",
              "63    784         GJ Maxwell  30.024691  1.055556\n",
              "73   1208          YK Pathan  22.053571  1.053571\n",
              "76   1432         AD Russell  18.670330  0.989011\n",
              "29    229         EJG Morgan  45.616099  0.962848\n",
              "57    613          HH Pandya  33.873563  0.942529\n",
              "13     97        PR Stirling  50.592308  0.930769\n",
              "65    822      Shahid Afridi  29.582418  0.916484\n",
              "49    479    C de Grandhomme  37.720000  0.910000\n",
              "17    129           AJ Finch  49.355191  0.896175\n",
              "55    572          DA Miller  34.671875  0.885417\n",
              "53    528            JM Kemp  36.263158  0.881579\n",
              "58    641  Najibullah Zadran  33.074074  0.864198\n",
              "24    173       Fakhar Zaman  47.850000  0.862500\n",
              "23    163         JC Buttler  48.293040  0.831502\n",
              "72   1131          JA Morkel  23.278481  0.822785"
            ],
            "text/html": [
              "\n",
              "  <div id=\"df-7896e941-95a3-4783-9ae9-ecc4287b6a4d\">\n",
              "    <div class=\"colab-df-container\">\n",
              "      <div>\n",
              "<style scoped>\n",
              "    .dataframe tbody tr th:only-of-type {\n",
              "        vertical-align: middle;\n",
              "    }\n",
              "\n",
              "    .dataframe tbody tr th {\n",
              "        vertical-align: top;\n",
              "    }\n",
              "\n",
              "    .dataframe thead th {\n",
              "        text-align: right;\n",
              "    }\n",
              "</style>\n",
              "<table border=\"1\" class=\"dataframe\">\n",
              "  <thead>\n",
              "    <tr style=\"text-align: right;\">\n",
              "      <th></th>\n",
              "      <th>index</th>\n",
              "      <th>Name</th>\n",
              "      <th>Mins</th>\n",
              "      <th>6s</th>\n",
              "    </tr>\n",
              "  </thead>\n",
              "  <tbody>\n",
              "    <tr>\n",
              "      <th>26</th>\n",
              "      <td>216</td>\n",
              "      <td>E Lewis</td>\n",
              "      <td>46.294118</td>\n",
              "      <td>1.431373</td>\n",
              "    </tr>\n",
              "    <tr>\n",
              "      <th>48</th>\n",
              "      <td>460</td>\n",
              "      <td>N Pooran</td>\n",
              "      <td>38.032787</td>\n",
              "      <td>1.213115</td>\n",
              "    </tr>\n",
              "    <tr>\n",
              "      <th>61</th>\n",
              "      <td>756</td>\n",
              "      <td>C Munro</td>\n",
              "      <td>30.711340</td>\n",
              "      <td>1.206186</td>\n",
              "    </tr>\n",
              "    <tr>\n",
              "      <th>45</th>\n",
              "      <td>405</td>\n",
              "      <td>CJ Anderson</td>\n",
              "      <td>39.880952</td>\n",
              "      <td>1.083333</td>\n",
              "    </tr>\n",
              "    <tr>\n",
              "      <th>62</th>\n",
              "      <td>776</td>\n",
              "      <td>KA Pollard</td>\n",
              "      <td>30.130435</td>\n",
              "      <td>1.055901</td>\n",
              "    </tr>\n",
              "    <tr>\n",
              "      <th>63</th>\n",
              "      <td>784</td>\n",
              "      <td>GJ Maxwell</td>\n",
              "      <td>30.024691</td>\n",
              "      <td>1.055556</td>\n",
              "    </tr>\n",
              "    <tr>\n",
              "      <th>73</th>\n",
              "      <td>1208</td>\n",
              "      <td>YK Pathan</td>\n",
              "      <td>22.053571</td>\n",
              "      <td>1.053571</td>\n",
              "    </tr>\n",
              "    <tr>\n",
              "      <th>76</th>\n",
              "      <td>1432</td>\n",
              "      <td>AD Russell</td>\n",
              "      <td>18.670330</td>\n",
              "      <td>0.989011</td>\n",
              "    </tr>\n",
              "    <tr>\n",
              "      <th>29</th>\n",
              "      <td>229</td>\n",
              "      <td>EJG Morgan</td>\n",
              "      <td>45.616099</td>\n",
              "      <td>0.962848</td>\n",
              "    </tr>\n",
              "    <tr>\n",
              "      <th>57</th>\n",
              "      <td>613</td>\n",
              "      <td>HH Pandya</td>\n",
              "      <td>33.873563</td>\n",
              "      <td>0.942529</td>\n",
              "    </tr>\n",
              "    <tr>\n",
              "      <th>13</th>\n",
              "      <td>97</td>\n",
              "      <td>PR Stirling</td>\n",
              "      <td>50.592308</td>\n",
              "      <td>0.930769</td>\n",
              "    </tr>\n",
              "    <tr>\n",
              "      <th>65</th>\n",
              "      <td>822</td>\n",
              "      <td>Shahid Afridi</td>\n",
              "      <td>29.582418</td>\n",
              "      <td>0.916484</td>\n",
              "    </tr>\n",
              "    <tr>\n",
              "      <th>49</th>\n",
              "      <td>479</td>\n",
              "      <td>C de Grandhomme</td>\n",
              "      <td>37.720000</td>\n",
              "      <td>0.910000</td>\n",
              "    </tr>\n",
              "    <tr>\n",
              "      <th>17</th>\n",
              "      <td>129</td>\n",
              "      <td>AJ Finch</td>\n",
              "      <td>49.355191</td>\n",
              "      <td>0.896175</td>\n",
              "    </tr>\n",
              "    <tr>\n",
              "      <th>55</th>\n",
              "      <td>572</td>\n",
              "      <td>DA Miller</td>\n",
              "      <td>34.671875</td>\n",
              "      <td>0.885417</td>\n",
              "    </tr>\n",
              "    <tr>\n",
              "      <th>53</th>\n",
              "      <td>528</td>\n",
              "      <td>JM Kemp</td>\n",
              "      <td>36.263158</td>\n",
              "      <td>0.881579</td>\n",
              "    </tr>\n",
              "    <tr>\n",
              "      <th>58</th>\n",
              "      <td>641</td>\n",
              "      <td>Najibullah Zadran</td>\n",
              "      <td>33.074074</td>\n",
              "      <td>0.864198</td>\n",
              "    </tr>\n",
              "    <tr>\n",
              "      <th>24</th>\n",
              "      <td>173</td>\n",
              "      <td>Fakhar Zaman</td>\n",
              "      <td>47.850000</td>\n",
              "      <td>0.862500</td>\n",
              "    </tr>\n",
              "    <tr>\n",
              "      <th>23</th>\n",
              "      <td>163</td>\n",
              "      <td>JC Buttler</td>\n",
              "      <td>48.293040</td>\n",
              "      <td>0.831502</td>\n",
              "    </tr>\n",
              "    <tr>\n",
              "      <th>72</th>\n",
              "      <td>1131</td>\n",
              "      <td>JA Morkel</td>\n",
              "      <td>23.278481</td>\n",
              "      <td>0.822785</td>\n",
              "    </tr>\n",
              "  </tbody>\n",
              "</table>\n",
              "</div>\n",
              "      <button class=\"colab-df-convert\" onclick=\"convertToInteractive('df-7896e941-95a3-4783-9ae9-ecc4287b6a4d')\"\n",
              "              title=\"Convert this dataframe to an interactive table.\"\n",
              "              style=\"display:none;\">\n",
              "        \n",
              "  <svg xmlns=\"http://www.w3.org/2000/svg\" height=\"24px\"viewBox=\"0 0 24 24\"\n",
              "       width=\"24px\">\n",
              "    <path d=\"M0 0h24v24H0V0z\" fill=\"none\"/>\n",
              "    <path d=\"M18.56 5.44l.94 2.06.94-2.06 2.06-.94-2.06-.94-.94-2.06-.94 2.06-2.06.94zm-11 1L8.5 8.5l.94-2.06 2.06-.94-2.06-.94L8.5 2.5l-.94 2.06-2.06.94zm10 10l.94 2.06.94-2.06 2.06-.94-2.06-.94-.94-2.06-.94 2.06-2.06.94z\"/><path d=\"M17.41 7.96l-1.37-1.37c-.4-.4-.92-.59-1.43-.59-.52 0-1.04.2-1.43.59L10.3 9.45l-7.72 7.72c-.78.78-.78 2.05 0 2.83L4 21.41c.39.39.9.59 1.41.59.51 0 1.02-.2 1.41-.59l7.78-7.78 2.81-2.81c.8-.78.8-2.07 0-2.86zM5.41 20L4 18.59l7.72-7.72 1.47 1.35L5.41 20z\"/>\n",
              "  </svg>\n",
              "      </button>\n",
              "      \n",
              "  <style>\n",
              "    .colab-df-container {\n",
              "      display:flex;\n",
              "      flex-wrap:wrap;\n",
              "      gap: 12px;\n",
              "    }\n",
              "\n",
              "    .colab-df-convert {\n",
              "      background-color: #E8F0FE;\n",
              "      border: none;\n",
              "      border-radius: 50%;\n",
              "      cursor: pointer;\n",
              "      display: none;\n",
              "      fill: #1967D2;\n",
              "      height: 32px;\n",
              "      padding: 0 0 0 0;\n",
              "      width: 32px;\n",
              "    }\n",
              "\n",
              "    .colab-df-convert:hover {\n",
              "      background-color: #E2EBFA;\n",
              "      box-shadow: 0px 1px 2px rgba(60, 64, 67, 0.3), 0px 1px 3px 1px rgba(60, 64, 67, 0.15);\n",
              "      fill: #174EA6;\n",
              "    }\n",
              "\n",
              "    [theme=dark] .colab-df-convert {\n",
              "      background-color: #3B4455;\n",
              "      fill: #D2E3FC;\n",
              "    }\n",
              "\n",
              "    [theme=dark] .colab-df-convert:hover {\n",
              "      background-color: #434B5C;\n",
              "      box-shadow: 0px 1px 3px 1px rgba(0, 0, 0, 0.15);\n",
              "      filter: drop-shadow(0px 1px 2px rgba(0, 0, 0, 0.3));\n",
              "      fill: #FFFFFF;\n",
              "    }\n",
              "  </style>\n",
              "\n",
              "      <script>\n",
              "        const buttonEl =\n",
              "          document.querySelector('#df-7896e941-95a3-4783-9ae9-ecc4287b6a4d button.colab-df-convert');\n",
              "        buttonEl.style.display =\n",
              "          google.colab.kernel.accessAllowed ? 'block' : 'none';\n",
              "\n",
              "        async function convertToInteractive(key) {\n",
              "          const element = document.querySelector('#df-7896e941-95a3-4783-9ae9-ecc4287b6a4d');\n",
              "          const dataTable =\n",
              "            await google.colab.kernel.invokeFunction('convertToInteractive',\n",
              "                                                     [key], {});\n",
              "          if (!dataTable) return;\n",
              "\n",
              "          const docLinkHtml = 'Like what you see? Visit the ' +\n",
              "            '<a target=\"_blank\" href=https://colab.research.google.com/notebooks/data_table.ipynb>data table notebook</a>'\n",
              "            + ' to learn more about interactive tables.';\n",
              "          element.innerHTML = '';\n",
              "          dataTable['output_type'] = 'display_data';\n",
              "          await google.colab.output.renderOutput(dataTable, element);\n",
              "          const docLink = document.createElement('div');\n",
              "          docLink.innerHTML = docLinkHtml;\n",
              "          element.appendChild(docLink);\n",
              "        }\n",
              "      </script>\n",
              "    </div>\n",
              "  </div>\n",
              "  "
            ]
          },
          "metadata": {},
          "execution_count": 144
        }
      ]
    },
    {
      "cell_type": "markdown",
      "source": [
        "Wow, no surprise to see the names of Glenn Maxwell, Yusuf Pathan, Shahid Afiridi, and Kieron Pollard in this list!"
      ],
      "metadata": {
        "id": "iTQjzPwdzkO3"
      }
    },
    {
      "cell_type": "markdown",
      "source": [
        "# The unsung heroes!"
      ],
      "metadata": {
        "id": "7A_Z1zP6z7NC"
      }
    },
    {
      "cell_type": "markdown",
      "source": [
        "Thanks to Christopher Nolan's Dark Knight trilogy, our perception of a hero changed from someone who could kill the bad guys to someone who could perform a heroic and a tear-jerking sacrifice (with Hans Zimmer's epic music playing in the background!)\n",
        "\n",
        "But the unsung heroes in our dataset are not the ones who died (or got dismissed) early. They are rather the ones who lived long enough to see out the end of the innings! (There are a lot of tailenders who bat at no. 10 & 11 in this list. The fact that it is not them but the other guy who throws away the wicket to end the innings still makes them a hero IMO 😆!)"
      ],
      "metadata": {
        "id": "Z1PuZJEX0FOs"
      }
    },
    {
      "cell_type": "markdown",
      "source": [
        "Let us find out the list of players who remained not out most number of times!"
      ],
      "metadata": {
        "id": "PA0tSpwW278f"
      }
    },
    {
      "cell_type": "code",
      "source": [
        "df[df['is_out'] == False]['Name'].value_counts().sort_values(ascending = False).head(10)"
      ],
      "metadata": {
        "colab": {
          "base_uri": "https://localhost:8080/"
        },
        "id": "0H7WiswDBjIp",
        "outputId": "6a4abcb6-db50-4eef-aabd-5462597dc73c"
      },
      "execution_count": 68,
      "outputs": [
        {
          "output_type": "execute_result",
          "data": {
            "text/plain": [
              "JM Anderson      130\n",
              "MS Dhoni         123\n",
              "SM Pollock       105\n",
              "SR Waugh         100\n",
              "WPUJC Vaas        97\n",
              "M Muralidaran     95\n",
              "JH Kallis         93\n",
              "MV Boucher        84\n",
              "AD Mathews        83\n",
              "DL Vettori        81\n",
              "Name: Name, dtype: int64"
            ]
          },
          "metadata": {},
          "execution_count": 68
        }
      ]
    },
    {
      "cell_type": "markdown",
      "source": [
        "Jimmy Anderson is the most unexpected unsung hero ever!\n",
        "\n",
        "MS Dhoni, Shaun Pollock, Kallis, Boucher, and Angelo Matthews do belong in this exceptional list because of their heroic efforts to save the team despite a batting collapse in several matches.\n",
        "\n",
        "But I am shocked to see Muralidaran in this list, who knows which other surprises we have in the store!"
      ],
      "metadata": {
        "id": "hUzMb60j3JnM"
      }
    },
    {
      "cell_type": "markdown",
      "source": [
        "# Pitting the three formats against each other - T20 vs test vs ODI!"
      ],
      "metadata": {
        "id": "AE5Ij1qy32os"
      }
    },
    {
      "cell_type": "markdown",
      "source": [
        "I hate to break it to you, but a severe lack of data in departments other than batting, and the extreme fatigue being faced by me currently means there isn't much scope to do a detailed analysis in each of the three formats.\n",
        "\n",
        "But before we see what we can do, let us try to extract the format data from the opposition column!"
      ],
      "metadata": {
        "id": "V6Dw2YlW4Kww"
      }
    },
    {
      "cell_type": "code",
      "source": [
        "df['Opposition'].unique()"
      ],
      "metadata": {
        "colab": {
          "base_uri": "https://localhost:8080/"
        },
        "id": "DsOZ1GubDD7f",
        "outputId": "9f9f052e-d4b2-4bef-b254-0235ce18d704"
      },
      "execution_count": 69,
      "outputs": [
        {
          "output_type": "execute_result",
          "data": {
            "text/plain": [
              "array(['Test v England', 'Test v New Zealand', 'ODI v England',\n",
              "       'ODI v Netherlands', 'ODI v Australia', 'ODI v Sri Lanka',\n",
              "       'T20I v South Africa', 'T20I v India', 'Test v West Indies',\n",
              "       'Test v Bangladesh', 'T20I v Zimbabwe', 'T20I v Afghanistan',\n",
              "       'ODI v West Indies', 'ODI v Pakistan', 'T20I v Sri Lanka',\n",
              "       'T20I v Australia', 'ODI v Zimbabwe', 'ODI v Afghanistan',\n",
              "       'T20I v Namibia', 'Test v Sri Lanka', 'T20I v Guernsey',\n",
              "       'T20I v Jersey', 'T20I v Bahamas', 'T20I v Cayman Is',\n",
              "       'Test v South Africa', 'T20I v Pakistan', 'ODI v New Zealand',\n",
              "       'ODI v Bangladesh', 'ODI v South Africa', 'Test v Pakistan',\n",
              "       'Test v Australia', 'Test v India', 'T20I v Bangladesh',\n",
              "       'T20I v West Indies', 'ODI v India', 'T20I v England',\n",
              "       'ODI v Ireland', 'T20I v U.S.A.', 'T20I v Ireland',\n",
              "       'T20I v New Zealand', 'T20I v Uganda', 'T20I v Nigeria',\n",
              "       'T20I v Kenya', 'T20I v Tanzania', 'T20I v Scotland',\n",
              "       'T20I v Botswana', 'T20I v Sierra Leone', 'T20I v Cameroon',\n",
              "       'T20I v Mozambique', 'T20I v Netherlands', 'T20I v Rwanda',\n",
              "       'T20I v Seychelles', 'T20I v Malawi', 'T20I v Lesotho',\n",
              "       'T20I v Swaziland', 'T20I v Oman', 'T20I v P.N.G.', 'T20I v Ghana',\n",
              "       'Test v Zimbabwe', 'T20I v Czech Rep.', 'T20I v Luxembourg',\n",
              "       'ODI v Scotland', 'Test v Afghanistan', 'ODI v U.A.E.',\n",
              "       'T20I v Singapore', 'T20I v Nepal', 'T20I v Turkey',\n",
              "       'T20I v Romania', 'T20I v Austria', 'T20I v Qatar',\n",
              "       'T20I v Malaysia', 'T20I v Kuwait', 'Test v Ireland',\n",
              "       'T20I v Finland', 'T20I v Denmark', 'ODI v Hong Kong',\n",
              "       'ODI v P.N.G.', 'T20I v Hong Kong', 'T20I v U.A.E.', 'ODI v Kenya',\n",
              "       'ODI v Canada', 'T20I v Canada', 'ODI v Bermuda', 'T20I v Bermuda',\n",
              "       'ODI v Africa XI', 'ODI v Asia XI', 'Test v ICC World XI',\n",
              "       'ODI v ICC World XI', 'ODI v U.S.A.', 'ODI v Namibia'],\n",
              "      dtype=object)"
            ]
          },
          "metadata": {},
          "execution_count": 69
        }
      ]
    },
    {
      "cell_type": "code",
      "source": [
        "df_new2 = df['Opposition'].str.split('v', expand = True)\n",
        "df_new2.head()"
      ],
      "metadata": {
        "colab": {
          "base_uri": "https://localhost:8080/",
          "height": 206
        },
        "id": "e3R-q_JJDhDe",
        "outputId": "591a6034-f105-43e2-c3a7-ad1a4e30b8aa"
      },
      "execution_count": 70,
      "outputs": [
        {
          "output_type": "execute_result",
          "data": {
            "text/plain": [
              "       0         1\n",
              "0  Test    England\n",
              "1  Test    England\n",
              "2  Test    England\n",
              "3  Test    England\n",
              "4  Test    England"
            ],
            "text/html": [
              "\n",
              "  <div id=\"df-8e4aa034-e3c5-495a-a638-359f24ff2069\">\n",
              "    <div class=\"colab-df-container\">\n",
              "      <div>\n",
              "<style scoped>\n",
              "    .dataframe tbody tr th:only-of-type {\n",
              "        vertical-align: middle;\n",
              "    }\n",
              "\n",
              "    .dataframe tbody tr th {\n",
              "        vertical-align: top;\n",
              "    }\n",
              "\n",
              "    .dataframe thead th {\n",
              "        text-align: right;\n",
              "    }\n",
              "</style>\n",
              "<table border=\"1\" class=\"dataframe\">\n",
              "  <thead>\n",
              "    <tr style=\"text-align: right;\">\n",
              "      <th></th>\n",
              "      <th>0</th>\n",
              "      <th>1</th>\n",
              "    </tr>\n",
              "  </thead>\n",
              "  <tbody>\n",
              "    <tr>\n",
              "      <th>0</th>\n",
              "      <td>Test</td>\n",
              "      <td>England</td>\n",
              "    </tr>\n",
              "    <tr>\n",
              "      <th>1</th>\n",
              "      <td>Test</td>\n",
              "      <td>England</td>\n",
              "    </tr>\n",
              "    <tr>\n",
              "      <th>2</th>\n",
              "      <td>Test</td>\n",
              "      <td>England</td>\n",
              "    </tr>\n",
              "    <tr>\n",
              "      <th>3</th>\n",
              "      <td>Test</td>\n",
              "      <td>England</td>\n",
              "    </tr>\n",
              "    <tr>\n",
              "      <th>4</th>\n",
              "      <td>Test</td>\n",
              "      <td>England</td>\n",
              "    </tr>\n",
              "  </tbody>\n",
              "</table>\n",
              "</div>\n",
              "      <button class=\"colab-df-convert\" onclick=\"convertToInteractive('df-8e4aa034-e3c5-495a-a638-359f24ff2069')\"\n",
              "              title=\"Convert this dataframe to an interactive table.\"\n",
              "              style=\"display:none;\">\n",
              "        \n",
              "  <svg xmlns=\"http://www.w3.org/2000/svg\" height=\"24px\"viewBox=\"0 0 24 24\"\n",
              "       width=\"24px\">\n",
              "    <path d=\"M0 0h24v24H0V0z\" fill=\"none\"/>\n",
              "    <path d=\"M18.56 5.44l.94 2.06.94-2.06 2.06-.94-2.06-.94-.94-2.06-.94 2.06-2.06.94zm-11 1L8.5 8.5l.94-2.06 2.06-.94-2.06-.94L8.5 2.5l-.94 2.06-2.06.94zm10 10l.94 2.06.94-2.06 2.06-.94-2.06-.94-.94-2.06-.94 2.06-2.06.94z\"/><path d=\"M17.41 7.96l-1.37-1.37c-.4-.4-.92-.59-1.43-.59-.52 0-1.04.2-1.43.59L10.3 9.45l-7.72 7.72c-.78.78-.78 2.05 0 2.83L4 21.41c.39.39.9.59 1.41.59.51 0 1.02-.2 1.41-.59l7.78-7.78 2.81-2.81c.8-.78.8-2.07 0-2.86zM5.41 20L4 18.59l7.72-7.72 1.47 1.35L5.41 20z\"/>\n",
              "  </svg>\n",
              "      </button>\n",
              "      \n",
              "  <style>\n",
              "    .colab-df-container {\n",
              "      display:flex;\n",
              "      flex-wrap:wrap;\n",
              "      gap: 12px;\n",
              "    }\n",
              "\n",
              "    .colab-df-convert {\n",
              "      background-color: #E8F0FE;\n",
              "      border: none;\n",
              "      border-radius: 50%;\n",
              "      cursor: pointer;\n",
              "      display: none;\n",
              "      fill: #1967D2;\n",
              "      height: 32px;\n",
              "      padding: 0 0 0 0;\n",
              "      width: 32px;\n",
              "    }\n",
              "\n",
              "    .colab-df-convert:hover {\n",
              "      background-color: #E2EBFA;\n",
              "      box-shadow: 0px 1px 2px rgba(60, 64, 67, 0.3), 0px 1px 3px 1px rgba(60, 64, 67, 0.15);\n",
              "      fill: #174EA6;\n",
              "    }\n",
              "\n",
              "    [theme=dark] .colab-df-convert {\n",
              "      background-color: #3B4455;\n",
              "      fill: #D2E3FC;\n",
              "    }\n",
              "\n",
              "    [theme=dark] .colab-df-convert:hover {\n",
              "      background-color: #434B5C;\n",
              "      box-shadow: 0px 1px 3px 1px rgba(0, 0, 0, 0.15);\n",
              "      filter: drop-shadow(0px 1px 2px rgba(0, 0, 0, 0.3));\n",
              "      fill: #FFFFFF;\n",
              "    }\n",
              "  </style>\n",
              "\n",
              "      <script>\n",
              "        const buttonEl =\n",
              "          document.querySelector('#df-8e4aa034-e3c5-495a-a638-359f24ff2069 button.colab-df-convert');\n",
              "        buttonEl.style.display =\n",
              "          google.colab.kernel.accessAllowed ? 'block' : 'none';\n",
              "\n",
              "        async function convertToInteractive(key) {\n",
              "          const element = document.querySelector('#df-8e4aa034-e3c5-495a-a638-359f24ff2069');\n",
              "          const dataTable =\n",
              "            await google.colab.kernel.invokeFunction('convertToInteractive',\n",
              "                                                     [key], {});\n",
              "          if (!dataTable) return;\n",
              "\n",
              "          const docLinkHtml = 'Like what you see? Visit the ' +\n",
              "            '<a target=\"_blank\" href=https://colab.research.google.com/notebooks/data_table.ipynb>data table notebook</a>'\n",
              "            + ' to learn more about interactive tables.';\n",
              "          element.innerHTML = '';\n",
              "          dataTable['output_type'] = 'display_data';\n",
              "          await google.colab.output.renderOutput(dataTable, element);\n",
              "          const docLink = document.createElement('div');\n",
              "          docLink.innerHTML = docLinkHtml;\n",
              "          element.appendChild(docLink);\n",
              "        }\n",
              "      </script>\n",
              "    </div>\n",
              "  </div>\n",
              "  "
            ]
          },
          "metadata": {},
          "execution_count": 70
        }
      ]
    },
    {
      "cell_type": "code",
      "source": [
        "df['Format'] = df_new2[0].str.strip()\n",
        "df['Opposition'] = df_new2[1].str.strip()"
      ],
      "metadata": {
        "id": "G_YKte1yDs9J"
      },
      "execution_count": 71,
      "outputs": []
    },
    {
      "cell_type": "code",
      "source": [
        "df.info()"
      ],
      "metadata": {
        "colab": {
          "base_uri": "https://localhost:8080/"
        },
        "id": "gQAbC1SaD-3L",
        "outputId": "86e6ac56-b295-4d08-824d-81a3443b5f55"
      },
      "execution_count": 72,
      "outputs": [
        {
          "output_type": "stream",
          "name": "stdout",
          "text": [
            "<class 'pandas.core.frame.DataFrame'>\n",
            "Int64Index: 125309 entries, 0 to 192346\n",
            "Data columns (total 15 columns):\n",
            " #   Column      Non-Null Count   Dtype         \n",
            "---  ------      --------------   -----         \n",
            " 0   Runs        125309 non-null  float64       \n",
            " 1   Mins        125309 non-null  float64       \n",
            " 2   BF          125309 non-null  float64       \n",
            " 3   4s          125309 non-null  float64       \n",
            " 4   6s          125309 non-null  float64       \n",
            " 5   SR          125309 non-null  float64       \n",
            " 6   Inns        125309 non-null  float64       \n",
            " 7   Opposition  125309 non-null  object        \n",
            " 8   Ground      125309 non-null  object        \n",
            " 9   Start Date  125309 non-null  datetime64[ns]\n",
            " 10  is_out      125309 non-null  bool          \n",
            " 11  Name        125309 non-null  object        \n",
            " 12  Nation      125309 non-null  object        \n",
            " 13  year        125309 non-null  int64         \n",
            " 14  Format      125309 non-null  object        \n",
            "dtypes: bool(1), datetime64[ns](1), float64(7), int64(1), object(5)\n",
            "memory usage: 14.5+ MB\n"
          ]
        }
      ]
    },
    {
      "cell_type": "markdown",
      "source": [
        "Now that we have format in a separate column, the best and the easiest thing to look at it the mean of the Runs column across three formats!"
      ],
      "metadata": {
        "id": "DousFVzM4xzj"
      }
    },
    {
      "cell_type": "code",
      "source": [
        "df.groupby('Format').mean()['Runs']"
      ],
      "metadata": {
        "colab": {
          "base_uri": "https://localhost:8080/"
        },
        "id": "6MPEPyhLGiv8",
        "outputId": "b63ac75e-aa98-458b-8aa0-c00b85987be0"
      },
      "execution_count": 82,
      "outputs": [
        {
          "output_type": "execute_result",
          "data": {
            "text/plain": [
              "Format\n",
              "ODI     23.391437\n",
              "T20I    17.070262\n",
              "Test    27.072731\n",
              "Name: Runs, dtype: float64"
            ]
          },
          "metadata": {},
          "execution_count": 82
        }
      ]
    },
    {
      "cell_type": "markdown",
      "source": [
        "Considering the length of the game for each format, it is only fair that the test cricket has high average compared to ODI and T20I.\n",
        "\n",
        "Let us take a look at medians too to prevent the effect of extreme values!"
      ],
      "metadata": {
        "id": "hqKZNtG-5ET5"
      }
    },
    {
      "cell_type": "code",
      "source": [
        "df.groupby('Format').median()['Runs']"
      ],
      "metadata": {
        "colab": {
          "base_uri": "https://localhost:8080/"
        },
        "id": "uqNANArEG7bs",
        "outputId": "e41b0dab-51b8-430f-b3d1-8bc3e990f9ae"
      },
      "execution_count": 83,
      "outputs": [
        {
          "output_type": "execute_result",
          "data": {
            "text/plain": [
              "Format\n",
              "ODI     14.0\n",
              "T20I    10.0\n",
              "Test    14.0\n",
              "Name: Runs, dtype: float64"
            ]
          },
          "metadata": {},
          "execution_count": 83
        }
      ]
    },
    {
      "cell_type": "markdown",
      "source": [
        "Median places test and ODI at same level, which is fair because apart from an occasional double or triple century, individual scores of players remain fairly consistent in both these formats."
      ],
      "metadata": {
        "id": "xn3mRgxi5bEL"
      }
    },
    {
      "cell_type": "markdown",
      "source": [
        "We do know the story of Brian Lara's classic 400 knock, but it happened in the test format where Lara had the chance to conveniently stay on field for a total of 13 hours. But the condensed formats of ODI and T20I do not afford such amount of time to a single player!\n",
        "\n",
        "Let us try to take a look at the current maximum score across three formats"
      ],
      "metadata": {
        "id": "xzDyf_FF57lj"
      }
    },
    {
      "cell_type": "code",
      "source": [
        "df.groupby('Format').max()['Runs']"
      ],
      "metadata": {
        "colab": {
          "base_uri": "https://localhost:8080/"
        },
        "id": "vBDGJCbLHCS_",
        "outputId": "0ce9ad39-272a-434b-8abc-8d107ae60fc5"
      },
      "execution_count": 84,
      "outputs": [
        {
          "output_type": "execute_result",
          "data": {
            "text/plain": [
              "Format\n",
              "ODI     264.0\n",
              "T20I    156.0\n",
              "Test    400.0\n",
              "Name: Runs, dtype: float64"
            ]
          },
          "metadata": {},
          "execution_count": 84
        }
      ]
    },
    {
      "cell_type": "markdown",
      "source": [
        "It seems Aron Finch's 172 off 76 balls in a T20I is not available in this dataset. It is currently the highest score in T20I.\n",
        "\n",
        "Nevertheless, let us try to take a look at the mins spent by players for ODI and T20I format in the above case"
      ],
      "metadata": {
        "id": "YsTa-sfA7RBv"
      }
    },
    {
      "cell_type": "code",
      "source": [
        "df[df['Runs'] == 264.0]"
      ],
      "metadata": {
        "colab": {
          "base_uri": "https://localhost:8080/",
          "height": 112
        },
        "id": "vF_nvEdI7s-D",
        "outputId": "5e834dc5-d46d-4f1d-ab3d-79ffd8504473"
      },
      "execution_count": 151,
      "outputs": [
        {
          "output_type": "execute_result",
          "data": {
            "text/plain": [
              "        Runs   Mins     BF    4s   6s      SR  Inns Opposition      Ground  \\\n",
              "31923  264.0  694.0  489.0  21.0  1.0  5398.0   2.0  Sri Lanka  Wellington   \n",
              "58004  264.0  225.0  173.0  33.0  9.0  1526.0   1.0  Sri Lanka     Kolkata   \n",
              "\n",
              "      Start Date  is_out        Name Nation  year Format  \n",
              "31923 2018-12-15   False  TWM Latham     NZ  2018   Test  \n",
              "58004 2014-11-13    True   RG Sharma  INDIA  2014    ODI  "
            ],
            "text/html": [
              "\n",
              "  <div id=\"df-85ad4e50-ba75-4001-9f5b-65569e43addd\">\n",
              "    <div class=\"colab-df-container\">\n",
              "      <div>\n",
              "<style scoped>\n",
              "    .dataframe tbody tr th:only-of-type {\n",
              "        vertical-align: middle;\n",
              "    }\n",
              "\n",
              "    .dataframe tbody tr th {\n",
              "        vertical-align: top;\n",
              "    }\n",
              "\n",
              "    .dataframe thead th {\n",
              "        text-align: right;\n",
              "    }\n",
              "</style>\n",
              "<table border=\"1\" class=\"dataframe\">\n",
              "  <thead>\n",
              "    <tr style=\"text-align: right;\">\n",
              "      <th></th>\n",
              "      <th>Runs</th>\n",
              "      <th>Mins</th>\n",
              "      <th>BF</th>\n",
              "      <th>4s</th>\n",
              "      <th>6s</th>\n",
              "      <th>SR</th>\n",
              "      <th>Inns</th>\n",
              "      <th>Opposition</th>\n",
              "      <th>Ground</th>\n",
              "      <th>Start Date</th>\n",
              "      <th>is_out</th>\n",
              "      <th>Name</th>\n",
              "      <th>Nation</th>\n",
              "      <th>year</th>\n",
              "      <th>Format</th>\n",
              "    </tr>\n",
              "  </thead>\n",
              "  <tbody>\n",
              "    <tr>\n",
              "      <th>31923</th>\n",
              "      <td>264.0</td>\n",
              "      <td>694.0</td>\n",
              "      <td>489.0</td>\n",
              "      <td>21.0</td>\n",
              "      <td>1.0</td>\n",
              "      <td>5398.0</td>\n",
              "      <td>2.0</td>\n",
              "      <td>Sri Lanka</td>\n",
              "      <td>Wellington</td>\n",
              "      <td>2018-12-15</td>\n",
              "      <td>False</td>\n",
              "      <td>TWM Latham</td>\n",
              "      <td>NZ</td>\n",
              "      <td>2018</td>\n",
              "      <td>Test</td>\n",
              "    </tr>\n",
              "    <tr>\n",
              "      <th>58004</th>\n",
              "      <td>264.0</td>\n",
              "      <td>225.0</td>\n",
              "      <td>173.0</td>\n",
              "      <td>33.0</td>\n",
              "      <td>9.0</td>\n",
              "      <td>1526.0</td>\n",
              "      <td>1.0</td>\n",
              "      <td>Sri Lanka</td>\n",
              "      <td>Kolkata</td>\n",
              "      <td>2014-11-13</td>\n",
              "      <td>True</td>\n",
              "      <td>RG Sharma</td>\n",
              "      <td>INDIA</td>\n",
              "      <td>2014</td>\n",
              "      <td>ODI</td>\n",
              "    </tr>\n",
              "  </tbody>\n",
              "</table>\n",
              "</div>\n",
              "      <button class=\"colab-df-convert\" onclick=\"convertToInteractive('df-85ad4e50-ba75-4001-9f5b-65569e43addd')\"\n",
              "              title=\"Convert this dataframe to an interactive table.\"\n",
              "              style=\"display:none;\">\n",
              "        \n",
              "  <svg xmlns=\"http://www.w3.org/2000/svg\" height=\"24px\"viewBox=\"0 0 24 24\"\n",
              "       width=\"24px\">\n",
              "    <path d=\"M0 0h24v24H0V0z\" fill=\"none\"/>\n",
              "    <path d=\"M18.56 5.44l.94 2.06.94-2.06 2.06-.94-2.06-.94-.94-2.06-.94 2.06-2.06.94zm-11 1L8.5 8.5l.94-2.06 2.06-.94-2.06-.94L8.5 2.5l-.94 2.06-2.06.94zm10 10l.94 2.06.94-2.06 2.06-.94-2.06-.94-.94-2.06-.94 2.06-2.06.94z\"/><path d=\"M17.41 7.96l-1.37-1.37c-.4-.4-.92-.59-1.43-.59-.52 0-1.04.2-1.43.59L10.3 9.45l-7.72 7.72c-.78.78-.78 2.05 0 2.83L4 21.41c.39.39.9.59 1.41.59.51 0 1.02-.2 1.41-.59l7.78-7.78 2.81-2.81c.8-.78.8-2.07 0-2.86zM5.41 20L4 18.59l7.72-7.72 1.47 1.35L5.41 20z\"/>\n",
              "  </svg>\n",
              "      </button>\n",
              "      \n",
              "  <style>\n",
              "    .colab-df-container {\n",
              "      display:flex;\n",
              "      flex-wrap:wrap;\n",
              "      gap: 12px;\n",
              "    }\n",
              "\n",
              "    .colab-df-convert {\n",
              "      background-color: #E8F0FE;\n",
              "      border: none;\n",
              "      border-radius: 50%;\n",
              "      cursor: pointer;\n",
              "      display: none;\n",
              "      fill: #1967D2;\n",
              "      height: 32px;\n",
              "      padding: 0 0 0 0;\n",
              "      width: 32px;\n",
              "    }\n",
              "\n",
              "    .colab-df-convert:hover {\n",
              "      background-color: #E2EBFA;\n",
              "      box-shadow: 0px 1px 2px rgba(60, 64, 67, 0.3), 0px 1px 3px 1px rgba(60, 64, 67, 0.15);\n",
              "      fill: #174EA6;\n",
              "    }\n",
              "\n",
              "    [theme=dark] .colab-df-convert {\n",
              "      background-color: #3B4455;\n",
              "      fill: #D2E3FC;\n",
              "    }\n",
              "\n",
              "    [theme=dark] .colab-df-convert:hover {\n",
              "      background-color: #434B5C;\n",
              "      box-shadow: 0px 1px 3px 1px rgba(0, 0, 0, 0.15);\n",
              "      filter: drop-shadow(0px 1px 2px rgba(0, 0, 0, 0.3));\n",
              "      fill: #FFFFFF;\n",
              "    }\n",
              "  </style>\n",
              "\n",
              "      <script>\n",
              "        const buttonEl =\n",
              "          document.querySelector('#df-85ad4e50-ba75-4001-9f5b-65569e43addd button.colab-df-convert');\n",
              "        buttonEl.style.display =\n",
              "          google.colab.kernel.accessAllowed ? 'block' : 'none';\n",
              "\n",
              "        async function convertToInteractive(key) {\n",
              "          const element = document.querySelector('#df-85ad4e50-ba75-4001-9f5b-65569e43addd');\n",
              "          const dataTable =\n",
              "            await google.colab.kernel.invokeFunction('convertToInteractive',\n",
              "                                                     [key], {});\n",
              "          if (!dataTable) return;\n",
              "\n",
              "          const docLinkHtml = 'Like what you see? Visit the ' +\n",
              "            '<a target=\"_blank\" href=https://colab.research.google.com/notebooks/data_table.ipynb>data table notebook</a>'\n",
              "            + ' to learn more about interactive tables.';\n",
              "          element.innerHTML = '';\n",
              "          dataTable['output_type'] = 'display_data';\n",
              "          await google.colab.output.renderOutput(dataTable, element);\n",
              "          const docLink = document.createElement('div');\n",
              "          docLink.innerHTML = docLinkHtml;\n",
              "          element.appendChild(docLink);\n",
              "        }\n",
              "      </script>\n",
              "    </div>\n",
              "  </div>\n",
              "  "
            ]
          },
          "metadata": {},
          "execution_count": 151
        }
      ]
    },
    {
      "cell_type": "markdown",
      "source": [
        "Latham scored 264 in test cricket, so only Rohit Sharma's case is of interest to us here.\n",
        "\n",
        "Rohit spent 3.75 hours to score 264 runs in contrast to Lara's 13 hrs. (The fact that it is a different format does have a huge effect, but I still think it is an impressive achievement to reach 264 in such a short time!)"
      ],
      "metadata": {
        "id": "4d8olWqW8Nal"
      }
    },
    {
      "cell_type": "code",
      "source": [
        "df[df['Runs'] == 156.0].groupby('Format').max()"
      ],
      "metadata": {
        "colab": {
          "base_uri": "https://localhost:8080/",
          "height": 175
        },
        "id": "WQEkTEPE-Dst",
        "outputId": "e57896e6-29ae-4026-a14d-e35058fea408"
      },
      "execution_count": 152,
      "outputs": [
        {
          "output_type": "execute_result",
          "data": {
            "text/plain": [
              "         Runs   Mins     BF    4s    6s       SR  Inns Opposition  \\\n",
              "Format                                                              \n",
              "ODI     156.0  216.0  151.0  17.0   8.0  13684.0   1.0   Pakistan   \n",
              "T20I    156.0   70.0   63.0  11.0  14.0  24761.0   1.0    England   \n",
              "Test    156.0  512.0  335.0  24.0   6.0  12187.0   4.0  Sri Lanka   \n",
              "\n",
              "             Ground Start Date  is_out         Name Nation  year  \n",
              "Format                                                            \n",
              "ODI      Wellington 2016-12-09    True   KJ Coetzer    ZIM  2016  \n",
              "T20I    Southampton 2013-08-29    True     AJ Finch    AUS  2013  \n",
              "Test     Wellington 2020-08-05    True  Shan Masood    ZIM  2020  "
            ],
            "text/html": [
              "\n",
              "  <div id=\"df-39a77744-7781-420e-8c15-64f765834e26\">\n",
              "    <div class=\"colab-df-container\">\n",
              "      <div>\n",
              "<style scoped>\n",
              "    .dataframe tbody tr th:only-of-type {\n",
              "        vertical-align: middle;\n",
              "    }\n",
              "\n",
              "    .dataframe tbody tr th {\n",
              "        vertical-align: top;\n",
              "    }\n",
              "\n",
              "    .dataframe thead th {\n",
              "        text-align: right;\n",
              "    }\n",
              "</style>\n",
              "<table border=\"1\" class=\"dataframe\">\n",
              "  <thead>\n",
              "    <tr style=\"text-align: right;\">\n",
              "      <th></th>\n",
              "      <th>Runs</th>\n",
              "      <th>Mins</th>\n",
              "      <th>BF</th>\n",
              "      <th>4s</th>\n",
              "      <th>6s</th>\n",
              "      <th>SR</th>\n",
              "      <th>Inns</th>\n",
              "      <th>Opposition</th>\n",
              "      <th>Ground</th>\n",
              "      <th>Start Date</th>\n",
              "      <th>is_out</th>\n",
              "      <th>Name</th>\n",
              "      <th>Nation</th>\n",
              "      <th>year</th>\n",
              "    </tr>\n",
              "    <tr>\n",
              "      <th>Format</th>\n",
              "      <th></th>\n",
              "      <th></th>\n",
              "      <th></th>\n",
              "      <th></th>\n",
              "      <th></th>\n",
              "      <th></th>\n",
              "      <th></th>\n",
              "      <th></th>\n",
              "      <th></th>\n",
              "      <th></th>\n",
              "      <th></th>\n",
              "      <th></th>\n",
              "      <th></th>\n",
              "      <th></th>\n",
              "    </tr>\n",
              "  </thead>\n",
              "  <tbody>\n",
              "    <tr>\n",
              "      <th>ODI</th>\n",
              "      <td>156.0</td>\n",
              "      <td>216.0</td>\n",
              "      <td>151.0</td>\n",
              "      <td>17.0</td>\n",
              "      <td>8.0</td>\n",
              "      <td>13684.0</td>\n",
              "      <td>1.0</td>\n",
              "      <td>Pakistan</td>\n",
              "      <td>Wellington</td>\n",
              "      <td>2016-12-09</td>\n",
              "      <td>True</td>\n",
              "      <td>KJ Coetzer</td>\n",
              "      <td>ZIM</td>\n",
              "      <td>2016</td>\n",
              "    </tr>\n",
              "    <tr>\n",
              "      <th>T20I</th>\n",
              "      <td>156.0</td>\n",
              "      <td>70.0</td>\n",
              "      <td>63.0</td>\n",
              "      <td>11.0</td>\n",
              "      <td>14.0</td>\n",
              "      <td>24761.0</td>\n",
              "      <td>1.0</td>\n",
              "      <td>England</td>\n",
              "      <td>Southampton</td>\n",
              "      <td>2013-08-29</td>\n",
              "      <td>True</td>\n",
              "      <td>AJ Finch</td>\n",
              "      <td>AUS</td>\n",
              "      <td>2013</td>\n",
              "    </tr>\n",
              "    <tr>\n",
              "      <th>Test</th>\n",
              "      <td>156.0</td>\n",
              "      <td>512.0</td>\n",
              "      <td>335.0</td>\n",
              "      <td>24.0</td>\n",
              "      <td>6.0</td>\n",
              "      <td>12187.0</td>\n",
              "      <td>4.0</td>\n",
              "      <td>Sri Lanka</td>\n",
              "      <td>Wellington</td>\n",
              "      <td>2020-08-05</td>\n",
              "      <td>True</td>\n",
              "      <td>Shan Masood</td>\n",
              "      <td>ZIM</td>\n",
              "      <td>2020</td>\n",
              "    </tr>\n",
              "  </tbody>\n",
              "</table>\n",
              "</div>\n",
              "      <button class=\"colab-df-convert\" onclick=\"convertToInteractive('df-39a77744-7781-420e-8c15-64f765834e26')\"\n",
              "              title=\"Convert this dataframe to an interactive table.\"\n",
              "              style=\"display:none;\">\n",
              "        \n",
              "  <svg xmlns=\"http://www.w3.org/2000/svg\" height=\"24px\"viewBox=\"0 0 24 24\"\n",
              "       width=\"24px\">\n",
              "    <path d=\"M0 0h24v24H0V0z\" fill=\"none\"/>\n",
              "    <path d=\"M18.56 5.44l.94 2.06.94-2.06 2.06-.94-2.06-.94-.94-2.06-.94 2.06-2.06.94zm-11 1L8.5 8.5l.94-2.06 2.06-.94-2.06-.94L8.5 2.5l-.94 2.06-2.06.94zm10 10l.94 2.06.94-2.06 2.06-.94-2.06-.94-.94-2.06-.94 2.06-2.06.94z\"/><path d=\"M17.41 7.96l-1.37-1.37c-.4-.4-.92-.59-1.43-.59-.52 0-1.04.2-1.43.59L10.3 9.45l-7.72 7.72c-.78.78-.78 2.05 0 2.83L4 21.41c.39.39.9.59 1.41.59.51 0 1.02-.2 1.41-.59l7.78-7.78 2.81-2.81c.8-.78.8-2.07 0-2.86zM5.41 20L4 18.59l7.72-7.72 1.47 1.35L5.41 20z\"/>\n",
              "  </svg>\n",
              "      </button>\n",
              "      \n",
              "  <style>\n",
              "    .colab-df-container {\n",
              "      display:flex;\n",
              "      flex-wrap:wrap;\n",
              "      gap: 12px;\n",
              "    }\n",
              "\n",
              "    .colab-df-convert {\n",
              "      background-color: #E8F0FE;\n",
              "      border: none;\n",
              "      border-radius: 50%;\n",
              "      cursor: pointer;\n",
              "      display: none;\n",
              "      fill: #1967D2;\n",
              "      height: 32px;\n",
              "      padding: 0 0 0 0;\n",
              "      width: 32px;\n",
              "    }\n",
              "\n",
              "    .colab-df-convert:hover {\n",
              "      background-color: #E2EBFA;\n",
              "      box-shadow: 0px 1px 2px rgba(60, 64, 67, 0.3), 0px 1px 3px 1px rgba(60, 64, 67, 0.15);\n",
              "      fill: #174EA6;\n",
              "    }\n",
              "\n",
              "    [theme=dark] .colab-df-convert {\n",
              "      background-color: #3B4455;\n",
              "      fill: #D2E3FC;\n",
              "    }\n",
              "\n",
              "    [theme=dark] .colab-df-convert:hover {\n",
              "      background-color: #434B5C;\n",
              "      box-shadow: 0px 1px 3px 1px rgba(0, 0, 0, 0.15);\n",
              "      filter: drop-shadow(0px 1px 2px rgba(0, 0, 0, 0.3));\n",
              "      fill: #FFFFFF;\n",
              "    }\n",
              "  </style>\n",
              "\n",
              "      <script>\n",
              "        const buttonEl =\n",
              "          document.querySelector('#df-39a77744-7781-420e-8c15-64f765834e26 button.colab-df-convert');\n",
              "        buttonEl.style.display =\n",
              "          google.colab.kernel.accessAllowed ? 'block' : 'none';\n",
              "\n",
              "        async function convertToInteractive(key) {\n",
              "          const element = document.querySelector('#df-39a77744-7781-420e-8c15-64f765834e26');\n",
              "          const dataTable =\n",
              "            await google.colab.kernel.invokeFunction('convertToInteractive',\n",
              "                                                     [key], {});\n",
              "          if (!dataTable) return;\n",
              "\n",
              "          const docLinkHtml = 'Like what you see? Visit the ' +\n",
              "            '<a target=\"_blank\" href=https://colab.research.google.com/notebooks/data_table.ipynb>data table notebook</a>'\n",
              "            + ' to learn more about interactive tables.';\n",
              "          element.innerHTML = '';\n",
              "          dataTable['output_type'] = 'display_data';\n",
              "          await google.colab.output.renderOutput(dataTable, element);\n",
              "          const docLink = document.createElement('div');\n",
              "          docLink.innerHTML = docLinkHtml;\n",
              "          element.appendChild(docLink);\n",
              "        }\n",
              "      </script>\n",
              "    </div>\n",
              "  </div>\n",
              "  "
            ]
          },
          "metadata": {},
          "execution_count": 152
        }
      ]
    },
    {
      "cell_type": "markdown",
      "source": [
        "Aaron Finch's 156 in a T20I was completed within ten minutes past an hour! It is no wonder that Aaron Finch is present among the list of power hitters we saw earlier. "
      ],
      "metadata": {
        "id": "Hi0IA7xe-ajS"
      }
    },
    {
      "cell_type": "markdown",
      "source": [
        "#Tormented oppositions"
      ],
      "metadata": {
        "id": "w7B70RQL_9Is"
      }
    },
    {
      "cell_type": "markdown",
      "source": [
        "Cricket is like boxing. One day your team is throwing punches at the opposition, and the other day your team becomes that opposition at the receiving end of punches.\n",
        "\n",
        "Let us ignore this weird comparision and see the story told by the opposition column to us!\n"
      ],
      "metadata": {
        "id": "dzAhmBhcARmi"
      }
    },
    {
      "cell_type": "code",
      "source": [
        "df.groupby('Opposition').max()['Runs'].sort_values(ascending = False).head(10)"
      ],
      "metadata": {
        "colab": {
          "base_uri": "https://localhost:8080/"
        },
        "id": "eVQYsna8HNJG",
        "outputId": "3e6c8754-8cc6-48e0-d9bd-01223b746328"
      },
      "execution_count": 87,
      "outputs": [
        {
          "output_type": "execute_result",
          "data": {
            "text/plain": [
              "Opposition\n",
              "England         400.0\n",
              "Zimbabwe        380.0\n",
              "South Africa    374.0\n",
              "India           340.0\n",
              "Pakistan        335.0\n",
              "Sri Lanka       333.0\n",
              "New Zealand     329.0\n",
              "Bangladesh      319.0\n",
              "West Indies     302.0\n",
              "Australia       290.0\n",
              "Name: Runs, dtype: float64"
            ]
          },
          "metadata": {},
          "execution_count": 87
        }
      ]
    },
    {
      "cell_type": "markdown",
      "source": [
        "It is fascinating to see that a player of any nation is yet to score a triple century against Australia! "
      ],
      "metadata": {
        "id": "NLIs8RKDBb-Z"
      }
    },
    {
      "cell_type": "code",
      "source": [
        "df.groupby('Opposition').mean()['Runs'].sort_values(ascending = False).head(10)"
      ],
      "metadata": {
        "colab": {
          "base_uri": "https://localhost:8080/"
        },
        "id": "qL-W20NBHyaB",
        "outputId": "12cd6bba-56ba-4a53-9b96-d072d50d8560"
      },
      "execution_count": 154,
      "outputs": [
        {
          "output_type": "execute_result",
          "data": {
            "text/plain": [
              "Opposition\n",
              "Bangladesh      28.631173\n",
              "ICC World XI    28.400000\n",
              "Zimbabwe        27.263571\n",
              "U.A.E.          27.040816\n",
              "Turkey          26.411765\n",
              "Africa XI       25.961538\n",
              "Namibia         25.931298\n",
              "England         25.662482\n",
              "U.S.A.          25.600000\n",
              "India           25.127808\n",
              "Name: Runs, dtype: float64"
            ]
          },
          "metadata": {},
          "execution_count": 154
        }
      ]
    },
    {
      "cell_type": "markdown",
      "source": [
        "Bangladesh is a nation with a serious cricketing talent and they have improved leaps and bounds in the recent years. So I expect them to improve in this stat in a few years.\n",
        "\n",
        "Zimbabwe, U.A.E, and Namibia usually concede a lot of runs in the matches against strong nations.\n",
        "\n",
        "But it is a surprise to see England and India in this list!"
      ],
      "metadata": {
        "id": "TPB4f8EeCOT7"
      }
    },
    {
      "cell_type": "markdown",
      "source": [
        "# The God of cricket!"
      ],
      "metadata": {
        "id": "bypK1YErDsJC"
      }
    },
    {
      "cell_type": "markdown",
      "source": [
        "It might become a sports trivia question in future, but at the moment every one in the cricketing world still has the fresh memories of Sachin Tendulkar's brilliance. He is still the highest run scorer in the international cricket despite retiring 9 years ago! \n",
        "\n",
        "It seems Tendulkar's position at the top of this stat is going to remain safe at least for another decade, but let us try to figure out who has a realistic chance of surpassing Sachin Tendulkar.\n",
        "\n"
      ],
      "metadata": {
        "id": "HEpnpFqQDvOT"
      }
    },
    {
      "cell_type": "code",
      "source": [
        "df.groupby('Name').sum()['Runs'].sort_values(ascending = False).head(20)"
      ],
      "metadata": {
        "colab": {
          "base_uri": "https://localhost:8080/"
        },
        "id": "Dc_Iqu0vH2v0",
        "outputId": "c3feda67-8d87-4df6-90df-d089577beee8"
      },
      "execution_count": 156,
      "outputs": [
        {
          "output_type": "execute_result",
          "data": {
            "text/plain": [
              "Name\n",
              "SR Tendulkar        32653.0\n",
              "KC Sangakkara       27415.0\n",
              "RT Ponting          27022.0\n",
              "JH Kallis           24669.0\n",
              "DPMD Jayawardene    24564.0\n",
              "R Dravid            23484.0\n",
              "V Kohli             20121.0\n",
              "BC Lara             19485.0\n",
              "AB de Villiers      19288.0\n",
              "S Chanderpaul       18832.0\n",
              "SR Waugh            18344.0\n",
              "ST Jayasuriya       18021.0\n",
              "SC Ganguly          17942.0\n",
              "HM Amla             17910.0\n",
              "Inzamam-ul-Haq      17490.0\n",
              "CH Gayle            17458.0\n",
              "LRPL Taylor         17119.0\n",
              "Younis Khan         17072.0\n",
              "TM Dilshan          16941.0\n",
              "V Sehwag            16785.0\n",
              "Name: Runs, dtype: float64"
            ]
          },
          "metadata": {},
          "execution_count": 156
        }
      ]
    },
    {
      "cell_type": "markdown",
      "source": [
        "Out of the above top 20 list, only Virat Kohli is currently active! \n",
        "\n",
        "Kohli is short of 12.5k runs to top this list. But he is already 33 years old as of today, and he would have to maintain an excellent scoring form at least for another 8 to 10 years to surpass Sachin's runs tally.\n",
        "\n"
      ],
      "metadata": {
        "id": "JocUwQXwF7Fw"
      }
    },
    {
      "cell_type": "code",
      "source": [
        "df.groupby('Name').sum()['4s'].sort_values(ascending = False).head(5)"
      ],
      "metadata": {
        "colab": {
          "base_uri": "https://localhost:8080/"
        },
        "id": "bUiXwLoGICxw",
        "outputId": "1920ec7a-91f5-40f8-df03-c1cd865d48f6"
      },
      "execution_count": 92,
      "outputs": [
        {
          "output_type": "execute_result",
          "data": {
            "text/plain": [
              "Name\n",
              "SR Tendulkar        3931.0\n",
              "KC Sangakkara       2956.0\n",
              "RT Ponting          2740.0\n",
              "R Dravid            2550.0\n",
              "DPMD Jayawardene    2543.0\n",
              "Name: 4s, dtype: float64"
            ]
          },
          "metadata": {},
          "execution_count": 92
        }
      ]
    },
    {
      "cell_type": "markdown",
      "source": [
        "Guess who tops the list of most number of fours scored? \n",
        "\n",
        "It is not a surprise again!\n",
        "\n",
        "But all the five players in the above list are classy batsmen who rely on technique and timing than power hitting to score runs. "
      ],
      "metadata": {
        "id": "kzeDPNy0GxgR"
      }
    },
    {
      "cell_type": "markdown",
      "source": [
        "Let us take a one last look at Sachin Tendulkar's legendary stats:"
      ],
      "metadata": {
        "id": "l57vCCy_HP8i"
      }
    },
    {
      "cell_type": "code",
      "source": [
        "df[df['Name'] == 'SR Tendulkar'].describe()"
      ],
      "metadata": {
        "colab": {
          "base_uri": "https://localhost:8080/",
          "height": 300
        },
        "id": "dzz-SibnIg-R",
        "outputId": "705c3ea1-f03f-43ac-ff88-5422e4cc3e95"
      },
      "execution_count": 98,
      "outputs": [
        {
          "output_type": "execute_result",
          "data": {
            "text/plain": [
              "             Runs        Mins          BF          4s          6s  \\\n",
              "count  726.000000  726.000000  726.000000  726.000000  726.000000   \n",
              "mean    44.976584   96.578512   67.129477    5.414601    0.330579   \n",
              "std     45.671490   96.896881   69.098249    5.698421    0.845810   \n",
              "min      0.000000    1.000000    1.000000    0.000000    0.000000   \n",
              "25%      9.000000   26.000000   18.000000    1.000000    0.000000   \n",
              "50%     31.000000   66.500000   45.000000    4.000000    0.000000   \n",
              "75%     68.000000  132.750000   95.000000    8.000000    0.000000   \n",
              "max    248.000000  613.000000  436.000000   35.000000    7.000000   \n",
              "\n",
              "                 SR        Inns         year  \n",
              "count    726.000000  726.000000   726.000000  \n",
              "mean    5077.188705    1.876033  2001.655647  \n",
              "std     3827.395934    0.891990     6.066972  \n",
              "min        0.000000    1.000000  1989.000000  \n",
              "25%      990.250000    1.000000  1997.000000  \n",
              "50%     5446.000000    2.000000  2002.000000  \n",
              "75%     7534.000000    2.000000  2007.000000  \n",
              "max    19655.000000    4.000000  2013.000000  "
            ],
            "text/html": [
              "\n",
              "  <div id=\"df-9fd94768-c7f3-42b5-8078-5d0269b3be1b\">\n",
              "    <div class=\"colab-df-container\">\n",
              "      <div>\n",
              "<style scoped>\n",
              "    .dataframe tbody tr th:only-of-type {\n",
              "        vertical-align: middle;\n",
              "    }\n",
              "\n",
              "    .dataframe tbody tr th {\n",
              "        vertical-align: top;\n",
              "    }\n",
              "\n",
              "    .dataframe thead th {\n",
              "        text-align: right;\n",
              "    }\n",
              "</style>\n",
              "<table border=\"1\" class=\"dataframe\">\n",
              "  <thead>\n",
              "    <tr style=\"text-align: right;\">\n",
              "      <th></th>\n",
              "      <th>Runs</th>\n",
              "      <th>Mins</th>\n",
              "      <th>BF</th>\n",
              "      <th>4s</th>\n",
              "      <th>6s</th>\n",
              "      <th>SR</th>\n",
              "      <th>Inns</th>\n",
              "      <th>year</th>\n",
              "    </tr>\n",
              "  </thead>\n",
              "  <tbody>\n",
              "    <tr>\n",
              "      <th>count</th>\n",
              "      <td>726.000000</td>\n",
              "      <td>726.000000</td>\n",
              "      <td>726.000000</td>\n",
              "      <td>726.000000</td>\n",
              "      <td>726.000000</td>\n",
              "      <td>726.000000</td>\n",
              "      <td>726.000000</td>\n",
              "      <td>726.000000</td>\n",
              "    </tr>\n",
              "    <tr>\n",
              "      <th>mean</th>\n",
              "      <td>44.976584</td>\n",
              "      <td>96.578512</td>\n",
              "      <td>67.129477</td>\n",
              "      <td>5.414601</td>\n",
              "      <td>0.330579</td>\n",
              "      <td>5077.188705</td>\n",
              "      <td>1.876033</td>\n",
              "      <td>2001.655647</td>\n",
              "    </tr>\n",
              "    <tr>\n",
              "      <th>std</th>\n",
              "      <td>45.671490</td>\n",
              "      <td>96.896881</td>\n",
              "      <td>69.098249</td>\n",
              "      <td>5.698421</td>\n",
              "      <td>0.845810</td>\n",
              "      <td>3827.395934</td>\n",
              "      <td>0.891990</td>\n",
              "      <td>6.066972</td>\n",
              "    </tr>\n",
              "    <tr>\n",
              "      <th>min</th>\n",
              "      <td>0.000000</td>\n",
              "      <td>1.000000</td>\n",
              "      <td>1.000000</td>\n",
              "      <td>0.000000</td>\n",
              "      <td>0.000000</td>\n",
              "      <td>0.000000</td>\n",
              "      <td>1.000000</td>\n",
              "      <td>1989.000000</td>\n",
              "    </tr>\n",
              "    <tr>\n",
              "      <th>25%</th>\n",
              "      <td>9.000000</td>\n",
              "      <td>26.000000</td>\n",
              "      <td>18.000000</td>\n",
              "      <td>1.000000</td>\n",
              "      <td>0.000000</td>\n",
              "      <td>990.250000</td>\n",
              "      <td>1.000000</td>\n",
              "      <td>1997.000000</td>\n",
              "    </tr>\n",
              "    <tr>\n",
              "      <th>50%</th>\n",
              "      <td>31.000000</td>\n",
              "      <td>66.500000</td>\n",
              "      <td>45.000000</td>\n",
              "      <td>4.000000</td>\n",
              "      <td>0.000000</td>\n",
              "      <td>5446.000000</td>\n",
              "      <td>2.000000</td>\n",
              "      <td>2002.000000</td>\n",
              "    </tr>\n",
              "    <tr>\n",
              "      <th>75%</th>\n",
              "      <td>68.000000</td>\n",
              "      <td>132.750000</td>\n",
              "      <td>95.000000</td>\n",
              "      <td>8.000000</td>\n",
              "      <td>0.000000</td>\n",
              "      <td>7534.000000</td>\n",
              "      <td>2.000000</td>\n",
              "      <td>2007.000000</td>\n",
              "    </tr>\n",
              "    <tr>\n",
              "      <th>max</th>\n",
              "      <td>248.000000</td>\n",
              "      <td>613.000000</td>\n",
              "      <td>436.000000</td>\n",
              "      <td>35.000000</td>\n",
              "      <td>7.000000</td>\n",
              "      <td>19655.000000</td>\n",
              "      <td>4.000000</td>\n",
              "      <td>2013.000000</td>\n",
              "    </tr>\n",
              "  </tbody>\n",
              "</table>\n",
              "</div>\n",
              "      <button class=\"colab-df-convert\" onclick=\"convertToInteractive('df-9fd94768-c7f3-42b5-8078-5d0269b3be1b')\"\n",
              "              title=\"Convert this dataframe to an interactive table.\"\n",
              "              style=\"display:none;\">\n",
              "        \n",
              "  <svg xmlns=\"http://www.w3.org/2000/svg\" height=\"24px\"viewBox=\"0 0 24 24\"\n",
              "       width=\"24px\">\n",
              "    <path d=\"M0 0h24v24H0V0z\" fill=\"none\"/>\n",
              "    <path d=\"M18.56 5.44l.94 2.06.94-2.06 2.06-.94-2.06-.94-.94-2.06-.94 2.06-2.06.94zm-11 1L8.5 8.5l.94-2.06 2.06-.94-2.06-.94L8.5 2.5l-.94 2.06-2.06.94zm10 10l.94 2.06.94-2.06 2.06-.94-2.06-.94-.94-2.06-.94 2.06-2.06.94z\"/><path d=\"M17.41 7.96l-1.37-1.37c-.4-.4-.92-.59-1.43-.59-.52 0-1.04.2-1.43.59L10.3 9.45l-7.72 7.72c-.78.78-.78 2.05 0 2.83L4 21.41c.39.39.9.59 1.41.59.51 0 1.02-.2 1.41-.59l7.78-7.78 2.81-2.81c.8-.78.8-2.07 0-2.86zM5.41 20L4 18.59l7.72-7.72 1.47 1.35L5.41 20z\"/>\n",
              "  </svg>\n",
              "      </button>\n",
              "      \n",
              "  <style>\n",
              "    .colab-df-container {\n",
              "      display:flex;\n",
              "      flex-wrap:wrap;\n",
              "      gap: 12px;\n",
              "    }\n",
              "\n",
              "    .colab-df-convert {\n",
              "      background-color: #E8F0FE;\n",
              "      border: none;\n",
              "      border-radius: 50%;\n",
              "      cursor: pointer;\n",
              "      display: none;\n",
              "      fill: #1967D2;\n",
              "      height: 32px;\n",
              "      padding: 0 0 0 0;\n",
              "      width: 32px;\n",
              "    }\n",
              "\n",
              "    .colab-df-convert:hover {\n",
              "      background-color: #E2EBFA;\n",
              "      box-shadow: 0px 1px 2px rgba(60, 64, 67, 0.3), 0px 1px 3px 1px rgba(60, 64, 67, 0.15);\n",
              "      fill: #174EA6;\n",
              "    }\n",
              "\n",
              "    [theme=dark] .colab-df-convert {\n",
              "      background-color: #3B4455;\n",
              "      fill: #D2E3FC;\n",
              "    }\n",
              "\n",
              "    [theme=dark] .colab-df-convert:hover {\n",
              "      background-color: #434B5C;\n",
              "      box-shadow: 0px 1px 3px 1px rgba(0, 0, 0, 0.15);\n",
              "      filter: drop-shadow(0px 1px 2px rgba(0, 0, 0, 0.3));\n",
              "      fill: #FFFFFF;\n",
              "    }\n",
              "  </style>\n",
              "\n",
              "      <script>\n",
              "        const buttonEl =\n",
              "          document.querySelector('#df-9fd94768-c7f3-42b5-8078-5d0269b3be1b button.colab-df-convert');\n",
              "        buttonEl.style.display =\n",
              "          google.colab.kernel.accessAllowed ? 'block' : 'none';\n",
              "\n",
              "        async function convertToInteractive(key) {\n",
              "          const element = document.querySelector('#df-9fd94768-c7f3-42b5-8078-5d0269b3be1b');\n",
              "          const dataTable =\n",
              "            await google.colab.kernel.invokeFunction('convertToInteractive',\n",
              "                                                     [key], {});\n",
              "          if (!dataTable) return;\n",
              "\n",
              "          const docLinkHtml = 'Like what you see? Visit the ' +\n",
              "            '<a target=\"_blank\" href=https://colab.research.google.com/notebooks/data_table.ipynb>data table notebook</a>'\n",
              "            + ' to learn more about interactive tables.';\n",
              "          element.innerHTML = '';\n",
              "          dataTable['output_type'] = 'display_data';\n",
              "          await google.colab.output.renderOutput(dataTable, element);\n",
              "          const docLink = document.createElement('div');\n",
              "          docLink.innerHTML = docLinkHtml;\n",
              "          element.appendChild(docLink);\n",
              "        }\n",
              "      </script>\n",
              "    </div>\n",
              "  </div>\n",
              "  "
            ]
          },
          "metadata": {},
          "execution_count": 98
        }
      ]
    },
    {
      "cell_type": "markdown",
      "source": [
        "We saw earlier that the mean of a player in a match is somewhere around 20 runs. Sachin's average is double to that figure, which proves that he was a cut above the rest!"
      ],
      "metadata": {
        "id": "Y4AAFG9qHexx"
      }
    },
    {
      "cell_type": "markdown",
      "source": [
        "# The universal boss!"
      ],
      "metadata": {
        "id": "FodrU-hnH4In"
      }
    },
    {
      "cell_type": "markdown",
      "source": [
        "Everyone loves a well-hit sixer! So it is only logical that we end things on a sweeter note by looking at something we love and care about deeply."
      ],
      "metadata": {
        "id": "L4pyrVf7H8JX"
      }
    },
    {
      "cell_type": "code",
      "source": [
        "df.groupby('Name').sum()['6s'].sort_values(ascending = False).head(5)"
      ],
      "metadata": {
        "colab": {
          "base_uri": "https://localhost:8080/"
        },
        "id": "81pEQYYTILa6",
        "outputId": "95c35921-303b-4aba-b8df-05ed06acffcc"
      },
      "execution_count": 93,
      "outputs": [
        {
          "output_type": "execute_result",
          "data": {
            "text/plain": [
              "Name\n",
              "CH Gayle         486.0\n",
              "Shahid Afridi    417.0\n",
              "BB McCullum      381.0\n",
              "MJ Guptill       354.0\n",
              "RG Sharma        353.0\n",
              "Name: 6s, dtype: float64"
            ]
          },
          "metadata": {},
          "execution_count": 93
        }
      ]
    },
    {
      "cell_type": "markdown",
      "source": [
        "The universal boss AKA Chris Gayle tops the list by hitting most number of sixes across all the three formats!\n",
        "\n",
        "Shahid Afridi and Brendan McCullum are also known for their ability to hit the ball out of the park.\n",
        "\n",
        "Martin Guptill and Rohit Sharma are currently active and have a good chance to top this list in a few years!"
      ],
      "metadata": {
        "id": "QreKxhefIf1N"
      }
    },
    {
      "cell_type": "markdown",
      "source": [
        "# THE END"
      ],
      "metadata": {
        "id": "fYCErYv6JM53"
      }
    },
    {
      "cell_type": "markdown",
      "source": [
        "I am honestly not satisfied with the amount of analysis I did in this notebook.\n",
        "\n",
        "There are a lot of things like percentage of runs scored by players through boundaries, a player's scoring form throughout the several months of an year, how the stike rates and number of boundaries were effected after the introduction of T20I, etc., I could not explore due to lack of time.\n",
        "\n",
        "But I hope I would get a chance to have a go at a similar and an exhaustive cricket dataset in future!"
      ],
      "metadata": {
        "id": "p993LWCuJT3c"
      }
    }
  ]
}